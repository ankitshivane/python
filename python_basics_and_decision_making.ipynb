{
 "cells": [
  {
   "cell_type": "code",
   "execution_count": 130,
   "id": "188092f9",
   "metadata": {},
   "outputs": [],
   "source": [
    "# Single line comment"
   ]
  },
  {
   "cell_type": "code",
   "execution_count": 139,
   "id": "a08e5048",
   "metadata": {},
   "outputs": [
    {
     "data": {
      "text/plain": [
       "'\\nmulti line\\ncomment'"
      ]
     },
     "execution_count": 139,
     "metadata": {},
     "output_type": "execute_result"
    }
   ],
   "source": [
    "\"\"\"\n",
    "multi line\n",
    "comment\"\"\""
   ]
  },
  {
   "cell_type": "code",
   "execution_count": 141,
   "id": "9bb1debe",
   "metadata": {},
   "outputs": [
    {
     "name": "stdout",
     "output_type": "stream",
     "text": [
      " multi line\n"
     ]
    }
   ],
   "source": [
    "print(\"\"\" multi line\"\"\") ## as \"\"\"\"\"\" is a string literal where interpreter ignore if you write seperately"
   ]
  },
  {
   "cell_type": "code",
   "execution_count": 142,
   "id": "cae8aa5a",
   "metadata": {},
   "outputs": [
    {
     "data": {
      "text/plain": [
       "str"
      ]
     },
     "execution_count": 142,
     "metadata": {},
     "output_type": "execute_result"
    }
   ],
   "source": [
    "type(\"\"\"\"\"\")"
   ]
  },
  {
   "cell_type": "code",
   "execution_count": null,
   "id": "b4396366",
   "metadata": {},
   "outputs": [],
   "source": []
  },
  {
   "cell_type": "code",
   "execution_count": null,
   "id": "8018f5c1",
   "metadata": {},
   "outputs": [],
   "source": []
  },
  {
   "cell_type": "code",
   "execution_count": null,
   "id": "1b1f17dd",
   "metadata": {},
   "outputs": [],
   "source": []
  },
  {
   "cell_type": "code",
   "execution_count": null,
   "id": "40dbfb07",
   "metadata": {},
   "outputs": [],
   "source": []
  },
  {
   "cell_type": "code",
   "execution_count": null,
   "id": "b1296403",
   "metadata": {},
   "outputs": [],
   "source": []
  },
  {
   "cell_type": "code",
   "execution_count": null,
   "id": "caae8f45",
   "metadata": {},
   "outputs": [],
   "source": []
  },
  {
   "cell_type": "code",
   "execution_count": null,
   "id": "6c1a0a4e",
   "metadata": {},
   "outputs": [],
   "source": []
  },
  {
   "cell_type": "code",
   "execution_count": null,
   "id": "02cf79a2",
   "metadata": {},
   "outputs": [],
   "source": []
  },
  {
   "cell_type": "code",
   "execution_count": null,
   "id": "0eaef537",
   "metadata": {},
   "outputs": [],
   "source": []
  },
  {
   "cell_type": "code",
   "execution_count": null,
   "id": "386ff6b0",
   "metadata": {},
   "outputs": [],
   "source": []
  },
  {
   "cell_type": "code",
   "execution_count": null,
   "id": "1fe9b8ff",
   "metadata": {},
   "outputs": [],
   "source": []
  },
  {
   "cell_type": "markdown",
   "id": "2fd05f1c",
   "metadata": {},
   "source": [
    "# Operators in Python"
   ]
  },
  {
   "cell_type": "raw",
   "id": "f63b2881",
   "metadata": {},
   "source": [
    "Arithmetic Operators"
   ]
  },
  {
   "cell_type": "code",
   "execution_count": 77,
   "id": "140a54d1",
   "metadata": {},
   "outputs": [
    {
     "data": {
      "text/plain": [
       "4"
      ]
     },
     "execution_count": 77,
     "metadata": {},
     "output_type": "execute_result"
    }
   ],
   "source": [
    "2+2 # performs addition operation"
   ]
  },
  {
   "cell_type": "code",
   "execution_count": 80,
   "id": "80c792ad",
   "metadata": {},
   "outputs": [
    {
     "data": {
      "text/plain": [
       "'11'"
      ]
     },
     "execution_count": 80,
     "metadata": {},
     "output_type": "execute_result"
    }
   ],
   "source": [
    "'1'+'1'  # performs concatenation operation for string"
   ]
  },
  {
   "cell_type": "code",
   "execution_count": 81,
   "id": "fe9ed4f1",
   "metadata": {},
   "outputs": [
    {
     "data": {
      "text/plain": [
       "1"
      ]
     },
     "execution_count": 81,
     "metadata": {},
     "output_type": "execute_result"
    }
   ],
   "source": [
    "2-1"
   ]
  },
  {
   "cell_type": "code",
   "execution_count": 83,
   "id": "34a313ff",
   "metadata": {},
   "outputs": [
    {
     "data": {
      "text/plain": [
       "1.0"
      ]
     },
     "execution_count": 83,
     "metadata": {},
     "output_type": "execute_result"
    }
   ],
   "source": [
    "2.0-1  # subtract numbers if the numbers is floating point and integers number then it will result in floating point"
   ]
  },
  {
   "cell_type": "code",
   "execution_count": 85,
   "id": "6e9cc7e7",
   "metadata": {},
   "outputs": [
    {
     "data": {
      "text/plain": [
       "4"
      ]
     },
     "execution_count": 85,
     "metadata": {},
     "output_type": "execute_result"
    }
   ],
   "source": [
    "2*2 # Multiplication operator"
   ]
  },
  {
   "cell_type": "code",
   "execution_count": 87,
   "id": "b4bae8cc",
   "metadata": {},
   "outputs": [
    {
     "data": {
      "text/plain": [
       "'ankitankit'"
      ]
     },
     "execution_count": 87,
     "metadata": {},
     "output_type": "execute_result"
    }
   ],
   "source": [
    "'ankit'*2  # for string obj multiplication operator will repeat the sentence"
   ]
  },
  {
   "cell_type": "code",
   "execution_count": 89,
   "id": "0c5dc7b2",
   "metadata": {},
   "outputs": [
    {
     "data": {
      "text/plain": [
       "1"
      ]
     },
     "execution_count": 89,
     "metadata": {},
     "output_type": "execute_result"
    }
   ],
   "source": [
    "3%2  # % (Modulo) operator will give remainder"
   ]
  },
  {
   "cell_type": "code",
   "execution_count": 90,
   "id": "e6c7eb2f",
   "metadata": {},
   "outputs": [
    {
     "data": {
      "text/plain": [
       "4"
      ]
     },
     "execution_count": 90,
     "metadata": {},
     "output_type": "execute_result"
    }
   ],
   "source": [
    "2**2  # ** Exponent operator - left operand raised to the power of right"
   ]
  },
  {
   "cell_type": "code",
   "execution_count": 91,
   "id": "b63f686d",
   "metadata": {},
   "outputs": [
    {
     "data": {
      "text/plain": [
       "8"
      ]
     },
     "execution_count": 91,
     "metadata": {},
     "output_type": "execute_result"
    }
   ],
   "source": [
    "2**3"
   ]
  },
  {
   "cell_type": "code",
   "execution_count": 92,
   "id": "f32b9925",
   "metadata": {},
   "outputs": [
    {
     "data": {
      "text/plain": [
       "1024"
      ]
     },
     "execution_count": 92,
     "metadata": {},
     "output_type": "execute_result"
    }
   ],
   "source": [
    "2**10"
   ]
  },
  {
   "cell_type": "code",
   "execution_count": 93,
   "id": "e163d06c",
   "metadata": {},
   "outputs": [
    {
     "data": {
      "text/plain": [
       "1.5"
      ]
     },
     "execution_count": 93,
     "metadata": {},
     "output_type": "execute_result"
    }
   ],
   "source": [
    "3/2 # Divide left operand by the right one (always results into float)"
   ]
  },
  {
   "cell_type": "code",
   "execution_count": 94,
   "id": "04d3be1f",
   "metadata": {},
   "outputs": [
    {
     "data": {
      "text/plain": [
       "1.0"
      ]
     },
     "execution_count": 94,
     "metadata": {},
     "output_type": "execute_result"
    }
   ],
   "source": [
    "2/2"
   ]
  },
  {
   "cell_type": "raw",
   "id": "55e61654",
   "metadata": {},
   "source": [
    "// Floor division operator (here internally it will first perform the division and then calculate the floor of a number)\n",
    "\n",
    "    1) if both divisor and dividend both are integers it will produce integer resule\n",
    "    2) if both divisor and dividend both are float it will produce float result but the number after . (decimcal point) point it will convert that to 0 by floor operation\n",
    "    1) if any one of the divisor and dividend is float it will produce float result but the number after . (decimcal point) point it will convert that to 0 by floor operation\n",
    "  \n",
    "  So this is how floor division convert the number to nearest possible value"
   ]
  },
  {
   "cell_type": "code",
   "execution_count": 96,
   "id": "de1e4c54",
   "metadata": {},
   "outputs": [
    {
     "data": {
      "text/plain": [
       "1"
      ]
     },
     "execution_count": 96,
     "metadata": {},
     "output_type": "execute_result"
    }
   ],
   "source": [
    "2//2  # case 1"
   ]
  },
  {
   "cell_type": "code",
   "execution_count": 98,
   "id": "e1d6b49e",
   "metadata": {},
   "outputs": [
    {
     "data": {
      "text/plain": [
       "1.0"
      ]
     },
     "execution_count": 98,
     "metadata": {},
     "output_type": "execute_result"
    }
   ],
   "source": [
    "2.0//2.0 # case 2"
   ]
  },
  {
   "cell_type": "code",
   "execution_count": 100,
   "id": "7eba6146",
   "metadata": {},
   "outputs": [
    {
     "data": {
      "text/plain": [
       "1.0"
      ]
     },
     "execution_count": 100,
     "metadata": {},
     "output_type": "execute_result"
    }
   ],
   "source": [
    "2//2.0 # case 3"
   ]
  },
  {
   "cell_type": "code",
   "execution_count": 102,
   "id": "b76b16a5",
   "metadata": {},
   "outputs": [
    {
     "data": {
      "text/plain": [
       "2"
      ]
     },
     "execution_count": 102,
     "metadata": {},
     "output_type": "execute_result"
    }
   ],
   "source": [
    "5//2"
   ]
  },
  {
   "cell_type": "code",
   "execution_count": 103,
   "id": "7fbb57a1",
   "metadata": {},
   "outputs": [
    {
     "data": {
      "text/plain": [
       "2.0"
      ]
     },
     "execution_count": 103,
     "metadata": {},
     "output_type": "execute_result"
    }
   ],
   "source": [
    "5//2.0"
   ]
  },
  {
   "cell_type": "code",
   "execution_count": null,
   "id": "daa7e1c1",
   "metadata": {},
   "outputs": [],
   "source": []
  },
  {
   "cell_type": "markdown",
   "id": "3d8512a4",
   "metadata": {},
   "source": [
    "# Comparison operators"
   ]
  },
  {
   "cell_type": "raw",
   "id": "2ed170a4",
   "metadata": {},
   "source": [
    "Comparison operators are used to compare values. It returns either True or False according to the condition."
   ]
  },
  {
   "cell_type": "code",
   "execution_count": 105,
   "id": "a8541b63",
   "metadata": {},
   "outputs": [
    {
     "data": {
      "text/plain": [
       "True"
      ]
     },
     "execution_count": 105,
     "metadata": {},
     "output_type": "execute_result"
    }
   ],
   "source": [
    "1<2"
   ]
  },
  {
   "cell_type": "code",
   "execution_count": 106,
   "id": "7453db53",
   "metadata": {},
   "outputs": [
    {
     "data": {
      "text/plain": [
       "False"
      ]
     },
     "execution_count": 106,
     "metadata": {},
     "output_type": "execute_result"
    }
   ],
   "source": [
    "2>3"
   ]
  },
  {
   "cell_type": "code",
   "execution_count": 107,
   "id": "77d499b0",
   "metadata": {},
   "outputs": [
    {
     "data": {
      "text/plain": [
       "True"
      ]
     },
     "execution_count": 107,
     "metadata": {},
     "output_type": "execute_result"
    }
   ],
   "source": [
    "2>=2"
   ]
  },
  {
   "cell_type": "code",
   "execution_count": 108,
   "id": "5b490274",
   "metadata": {},
   "outputs": [
    {
     "data": {
      "text/plain": [
       "True"
      ]
     },
     "execution_count": 108,
     "metadata": {},
     "output_type": "execute_result"
    }
   ],
   "source": [
    "2<=4"
   ]
  },
  {
   "cell_type": "code",
   "execution_count": 112,
   "id": "d46243f8",
   "metadata": {},
   "outputs": [
    {
     "data": {
      "text/plain": [
       "False"
      ]
     },
     "execution_count": 112,
     "metadata": {},
     "output_type": "execute_result"
    }
   ],
   "source": [
    "3==2 #   Equal to - True if both operands are equal"
   ]
  },
  {
   "cell_type": "code",
   "execution_count": 113,
   "id": "85657b49",
   "metadata": {},
   "outputs": [
    {
     "data": {
      "text/plain": [
       "True"
      ]
     },
     "execution_count": 113,
     "metadata": {},
     "output_type": "execute_result"
    }
   ],
   "source": [
    "33==33"
   ]
  },
  {
   "cell_type": "code",
   "execution_count": 115,
   "id": "d7630bf2",
   "metadata": {},
   "outputs": [
    {
     "data": {
      "text/plain": [
       "True"
      ]
     },
     "execution_count": 115,
     "metadata": {},
     "output_type": "execute_result"
    }
   ],
   "source": [
    "3!=2 # Not equal to - True if operands are not equal"
   ]
  },
  {
   "cell_type": "code",
   "execution_count": 116,
   "id": "972e8906",
   "metadata": {},
   "outputs": [
    {
     "data": {
      "text/plain": [
       "False"
      ]
     },
     "execution_count": 116,
     "metadata": {},
     "output_type": "execute_result"
    }
   ],
   "source": [
    "3!=3"
   ]
  },
  {
   "cell_type": "code",
   "execution_count": null,
   "id": "4f10921a",
   "metadata": {},
   "outputs": [],
   "source": []
  },
  {
   "cell_type": "markdown",
   "id": "b4fc023c",
   "metadata": {},
   "source": [
    "# Logical operators"
   ]
  },
  {
   "cell_type": "code",
   "execution_count": 117,
   "id": "e4cfc7f4",
   "metadata": {},
   "outputs": [],
   "source": [
    "#  Logical operators are the and, or, not operators.\n",
    "\n",
    "# Logical operators is use to evaluate a boolean condition so we can use comparison operator with logical operator if we need to evaludate some condition"
   ]
  },
  {
   "cell_type": "code",
   "execution_count": 118,
   "id": "033c49b7",
   "metadata": {},
   "outputs": [
    {
     "data": {
      "text/plain": [
       "True"
      ]
     },
     "execution_count": 118,
     "metadata": {},
     "output_type": "execute_result"
    }
   ],
   "source": [
    "(2!=0) or (2==2)  # True if either of the operands is true"
   ]
  },
  {
   "cell_type": "code",
   "execution_count": 119,
   "id": "6c1f7aed",
   "metadata": {},
   "outputs": [
    {
     "data": {
      "text/plain": [
       "True"
      ]
     },
     "execution_count": 119,
     "metadata": {},
     "output_type": "execute_result"
    }
   ],
   "source": [
    "False or True"
   ]
  },
  {
   "cell_type": "code",
   "execution_count": 120,
   "id": "de346854",
   "metadata": {},
   "outputs": [
    {
     "data": {
      "text/plain": [
       "True"
      ]
     },
     "execution_count": 120,
     "metadata": {},
     "output_type": "execute_result"
    }
   ],
   "source": [
    "2<3 and 3<4  #True if both the operands are true else False"
   ]
  },
  {
   "cell_type": "code",
   "execution_count": 121,
   "id": "4fce12e5",
   "metadata": {},
   "outputs": [
    {
     "data": {
      "text/plain": [
       "False"
      ]
     },
     "execution_count": 121,
     "metadata": {},
     "output_type": "execute_result"
    }
   ],
   "source": [
    "2>3 and 3<4  "
   ]
  },
  {
   "cell_type": "code",
   "execution_count": 122,
   "id": "ab3f4492",
   "metadata": {},
   "outputs": [
    {
     "data": {
      "text/plain": [
       "False"
      ]
     },
     "execution_count": 122,
     "metadata": {},
     "output_type": "execute_result"
    }
   ],
   "source": [
    "False and False"
   ]
  },
  {
   "cell_type": "code",
   "execution_count": 123,
   "id": "c386d209",
   "metadata": {},
   "outputs": [
    {
     "data": {
      "text/plain": [
       "True"
      ]
     },
     "execution_count": 123,
     "metadata": {},
     "output_type": "execute_result"
    }
   ],
   "source": [
    "True and True"
   ]
  },
  {
   "cell_type": "code",
   "execution_count": 124,
   "id": "30bfb8f2",
   "metadata": {},
   "outputs": [
    {
     "data": {
      "text/plain": [
       "False"
      ]
     },
     "execution_count": 124,
     "metadata": {},
     "output_type": "execute_result"
    }
   ],
   "source": [
    "False and True"
   ]
  },
  {
   "cell_type": "code",
   "execution_count": 125,
   "id": "9efe8f6f",
   "metadata": {},
   "outputs": [
    {
     "data": {
      "text/plain": [
       "False"
      ]
     },
     "execution_count": 125,
     "metadata": {},
     "output_type": "execute_result"
    }
   ],
   "source": [
    "True and False"
   ]
  },
  {
   "cell_type": "code",
   "execution_count": null,
   "id": "57301970",
   "metadata": {},
   "outputs": [],
   "source": []
  },
  {
   "cell_type": "code",
   "execution_count": 126,
   "id": "a1611d56",
   "metadata": {},
   "outputs": [
    {
     "data": {
      "text/plain": [
       "False"
      ]
     },
     "execution_count": 126,
     "metadata": {},
     "output_type": "execute_result"
    }
   ],
   "source": [
    "not 2<3  # True if operand is false (complements the operand)"
   ]
  },
  {
   "cell_type": "code",
   "execution_count": 127,
   "id": "902c4f8b",
   "metadata": {},
   "outputs": [
    {
     "data": {
      "text/plain": [
       "True"
      ]
     },
     "execution_count": 127,
     "metadata": {},
     "output_type": "execute_result"
    }
   ],
   "source": [
    "not False "
   ]
  },
  {
   "cell_type": "code",
   "execution_count": 128,
   "id": "015022bb",
   "metadata": {},
   "outputs": [
    {
     "data": {
      "text/plain": [
       "False"
      ]
     },
     "execution_count": 128,
     "metadata": {},
     "output_type": "execute_result"
    }
   ],
   "source": [
    "not True"
   ]
  },
  {
   "cell_type": "code",
   "execution_count": null,
   "id": "619fef29",
   "metadata": {},
   "outputs": [],
   "source": []
  },
  {
   "cell_type": "markdown",
   "id": "3aa4b1a8",
   "metadata": {},
   "source": [
    "# Bitwise operators"
   ]
  },
  {
   "cell_type": "code",
   "execution_count": 129,
   "id": "6b4abe80",
   "metadata": {},
   "outputs": [
    {
     "ename": "SyntaxError",
     "evalue": "invalid syntax (Temp/ipykernel_3956/3404754068.py, line 1)",
     "output_type": "error",
     "traceback": [
      "\u001b[1;36m  File \u001b[1;32m\"C:\\Users\\HP\\AppData\\Local\\Temp/ipykernel_3956/3404754068.py\"\u001b[1;36m, line \u001b[1;32m1\u001b[0m\n\u001b[1;33m    True && False\u001b[0m\n\u001b[1;37m          ^\u001b[0m\n\u001b[1;31mSyntaxError\u001b[0m\u001b[1;31m:\u001b[0m invalid syntax\n"
     ]
    }
   ],
   "source": [
    "# in bitwise operators we have below operators \n",
    "\n"
   ]
  },
  {
   "cell_type": "code",
   "execution_count": null,
   "id": "a86680aa",
   "metadata": {},
   "outputs": [],
   "source": []
  },
  {
   "cell_type": "code",
   "execution_count": 150,
   "id": "a112ec5c",
   "metadata": {},
   "outputs": [
    {
     "name": "stdout",
     "output_type": "stream",
     "text": [
      "enter num less than 30:'2'\n"
     ]
    },
    {
     "ename": "ValueError",
     "evalue": "invalid literal for int() with base 10: \"'2'\"",
     "output_type": "error",
     "traceback": [
      "\u001b[1;31m---------------------------------------------------------------------------\u001b[0m",
      "\u001b[1;31mValueError\u001b[0m                                Traceback (most recent call last)",
      "\u001b[1;32m~\\AppData\\Local\\Temp/ipykernel_3956/2424533017.py\u001b[0m in \u001b[0;36m<module>\u001b[1;34m\u001b[0m\n\u001b[1;32m----> 1\u001b[1;33m \u001b[0ma\u001b[0m\u001b[1;33m=\u001b[0m \u001b[0mint\u001b[0m\u001b[1;33m(\u001b[0m\u001b[0minput\u001b[0m\u001b[1;33m(\u001b[0m\u001b[1;34m'enter num less than 30:'\u001b[0m\u001b[1;33m)\u001b[0m\u001b[1;33m)\u001b[0m\u001b[1;33m\u001b[0m\u001b[1;33m\u001b[0m\u001b[0m\n\u001b[0m",
      "\u001b[1;31mValueError\u001b[0m: invalid literal for int() with base 10: \"'2'\""
     ]
    }
   ],
   "source": [
    "a= int(input('enter num less than 30:'))"
   ]
  },
  {
   "cell_type": "code",
   "execution_count": 149,
   "id": "4b261ba8",
   "metadata": {},
   "outputs": [
    {
     "data": {
      "text/plain": [
       "int"
      ]
     },
     "execution_count": 149,
     "metadata": {},
     "output_type": "execute_result"
    }
   ],
   "source": [
    "type(a)"
   ]
  },
  {
   "cell_type": "code",
   "execution_count": 151,
   "id": "76374a8f",
   "metadata": {},
   "outputs": [
    {
     "name": "stdout",
     "output_type": "stream",
     "text": [
      "num less than 30\n"
     ]
    }
   ],
   "source": [
    "if a<30:\n",
    "    print('num less than 30')"
   ]
  },
  {
   "cell_type": "code",
   "execution_count": 152,
   "id": "61ef40e1",
   "metadata": {},
   "outputs": [
    {
     "data": {
      "text/plain": [
       "False"
      ]
     },
     "execution_count": 152,
     "metadata": {},
     "output_type": "execute_result"
    }
   ],
   "source": [
    "not 10<20"
   ]
  },
  {
   "cell_type": "code",
   "execution_count": 154,
   "id": "503db006",
   "metadata": {},
   "outputs": [],
   "source": [
    "s='this is not null'"
   ]
  },
  {
   "cell_type": "code",
   "execution_count": 155,
   "id": "2d52ff1b",
   "metadata": {},
   "outputs": [
    {
     "ename": "NameError",
     "evalue": "name 'null' is not defined",
     "output_type": "error",
     "traceback": [
      "\u001b[1;31m---------------------------------------------------------------------------\u001b[0m",
      "\u001b[1;31mNameError\u001b[0m                                 Traceback (most recent call last)",
      "\u001b[1;32m~\\AppData\\Local\\Temp/ipykernel_3956/4023236693.py\u001b[0m in \u001b[0;36m<module>\u001b[1;34m\u001b[0m\n\u001b[1;32m----> 1\u001b[1;33m \u001b[0ms\u001b[0m\u001b[1;33m!=\u001b[0m\u001b[0mnull\u001b[0m\u001b[1;33m\u001b[0m\u001b[1;33m\u001b[0m\u001b[0m\n\u001b[0m",
      "\u001b[1;31mNameError\u001b[0m: name 'null' is not defined"
     ]
    }
   ],
   "source": [
    "s!=null"
   ]
  },
  {
   "cell_type": "code",
   "execution_count": 71,
   "id": "16b17e1f",
   "metadata": {},
   "outputs": [],
   "source": [
    "a=40"
   ]
  },
  {
   "cell_type": "code",
   "execution_count": 72,
   "id": "59f43ae1",
   "metadata": {},
   "outputs": [
    {
     "name": "stdout",
     "output_type": "stream",
     "text": [
      "shivane\n",
      "everythig else\n"
     ]
    }
   ],
   "source": [
    "if a < 15:\n",
    "    print('ankit')\n",
    "else:\n",
    "    print('shivane')\n",
    "print('everythig else')"
   ]
  },
  {
   "cell_type": "code",
   "execution_count": 73,
   "id": "faa3774d",
   "metadata": {},
   "outputs": [
    {
     "name": "stdout",
     "output_type": "stream",
     "text": [
      "1 is not greater than 1\n",
      "this is always printed\n"
     ]
    }
   ],
   "source": [
    "n=1\n",
    "if n>1:\n",
    "    print(\"1 is greater than 1\")\n",
    "else:\n",
    "    print('1 is not greater than 1')\n",
    "\n",
    "print('this is always printed')"
   ]
  },
  {
   "cell_type": "markdown",
   "id": "08e6dcbd",
   "metadata": {},
   "source": [
    "# if..elif..if"
   ]
  },
  {
   "cell_type": "code",
   "execution_count": 16,
   "id": "4f6051a6",
   "metadata": {},
   "outputs": [
    {
     "name": "stdout",
     "output_type": "stream",
     "text": [
      "less than 10\n",
      "this is always printed\n"
     ]
    }
   ],
   "source": [
    "n1=3\n",
    "if n1<10:\n",
    "    print(\"less than 10\")\n",
    "elif n1>10:\n",
    "    print('greater than 10')\n",
    "else:\n",
    "    print('it is 10')\n",
    "\n",
    "print('this is always printed')"
   ]
  },
  {
   "cell_type": "code",
   "execution_count": null,
   "id": "a48ba9b2",
   "metadata": {},
   "outputs": [],
   "source": [
    "\n"
   ]
  },
  {
   "cell_type": "code",
   "execution_count": 20,
   "id": "14b10042",
   "metadata": {},
   "outputs": [
    {
     "name": "stdout",
     "output_type": "stream",
     "text": [
      "adult eligible for vaccing\n",
      "this is always printed\n"
     ]
    }
   ],
   "source": [
    "age=10\n",
    "if age>50 & age<100:\n",
    "    print(\"adult eligible for vaccing\")\n",
    "elif age>30 & age<50:\n",
    "    print(\"Young eligible for vaccing\")\n",
    "else:\n",
    "    print('Not eligible')\n",
    "\n",
    "print('this is always printed')"
   ]
  },
  {
   "cell_type": "code",
   "execution_count": null,
   "id": "ac7a2010",
   "metadata": {},
   "outputs": [],
   "source": []
  },
  {
   "cell_type": "code",
   "execution_count": null,
   "id": "618530ff",
   "metadata": {},
   "outputs": [],
   "source": []
  },
  {
   "cell_type": "code",
   "execution_count": 21,
   "id": "ec60b4b3",
   "metadata": {},
   "outputs": [],
   "source": [
    "#Operators in python"
   ]
  },
  {
   "cell_type": "raw",
   "id": "33b96ad7",
   "metadata": {},
   "source": [
    "Arithmetic Operators"
   ]
  },
  {
   "cell_type": "code",
   "execution_count": 23,
   "id": "394b809c",
   "metadata": {},
   "outputs": [
    {
     "data": {
      "text/plain": [
       "1.0"
      ]
     },
     "execution_count": 23,
     "metadata": {},
     "output_type": "execute_result"
    }
   ],
   "source": [
    "2/2 # division always result in float"
   ]
  },
  {
   "cell_type": "code",
   "execution_count": 26,
   "id": "810c71f7",
   "metadata": {},
   "outputs": [
    {
     "data": {
      "text/plain": [
       "3.0"
      ]
     },
     "execution_count": 26,
     "metadata": {},
     "output_type": "execute_result"
    }
   ],
   "source": [
    "3/1"
   ]
  },
  {
   "cell_type": "code",
   "execution_count": 27,
   "id": "3d32a939",
   "metadata": {},
   "outputs": [
    {
     "data": {
      "text/plain": [
       "4.0"
      ]
     },
     "execution_count": 27,
     "metadata": {},
     "output_type": "execute_result"
    }
   ],
   "source": [
    "40/10"
   ]
  },
  {
   "cell_type": "code",
   "execution_count": 28,
   "id": "f12240fd",
   "metadata": {},
   "outputs": [
    {
     "data": {
      "text/plain": [
       "1245795.738095238"
      ]
     },
     "execution_count": 28,
     "metadata": {},
     "output_type": "execute_result"
    }
   ],
   "source": [
    "52323421/42"
   ]
  },
  {
   "cell_type": "code",
   "execution_count": 29,
   "id": "2ac59444",
   "metadata": {},
   "outputs": [],
   "source": [
    "#Modulus - remainder of the division of left operand by the right"
   ]
  },
  {
   "cell_type": "code",
   "execution_count": 30,
   "id": "7e8a589b",
   "metadata": {},
   "outputs": [
    {
     "data": {
      "text/plain": [
       "0"
      ]
     },
     "execution_count": 30,
     "metadata": {},
     "output_type": "execute_result"
    }
   ],
   "source": [
    "4%2"
   ]
  },
  {
   "cell_type": "code",
   "execution_count": 32,
   "id": "7669f85d",
   "metadata": {},
   "outputs": [
    {
     "data": {
      "text/plain": [
       "1"
      ]
     },
     "execution_count": 32,
     "metadata": {},
     "output_type": "execute_result"
    }
   ],
   "source": [
    "3%2"
   ]
  },
  {
   "cell_type": "code",
   "execution_count": 33,
   "id": "8b866697",
   "metadata": {},
   "outputs": [
    {
     "data": {
      "text/plain": [
       "0"
      ]
     },
     "execution_count": 33,
     "metadata": {},
     "output_type": "execute_result"
    }
   ],
   "source": [
    "44%2"
   ]
  },
  {
   "cell_type": "code",
   "execution_count": null,
   "id": "5ad32354",
   "metadata": {},
   "outputs": [],
   "source": []
  },
  {
   "cell_type": "code",
   "execution_count": 38,
   "id": "6e7f2ca4",
   "metadata": {},
   "outputs": [],
   "source": [
    "# Floor division is an operation in Python that divides two numbers and rounds the result down to the nearest integer"
   ]
  },
  {
   "cell_type": "code",
   "execution_count": 39,
   "id": "0429db84",
   "metadata": {},
   "outputs": [
    {
     "data": {
      "text/plain": [
       "22"
      ]
     },
     "execution_count": 39,
     "metadata": {},
     "output_type": "execute_result"
    }
   ],
   "source": [
    "44//2"
   ]
  },
  {
   "cell_type": "code",
   "execution_count": 40,
   "id": "647bf83f",
   "metadata": {},
   "outputs": [
    {
     "data": {
      "text/plain": [
       "4"
      ]
     },
     "execution_count": 40,
     "metadata": {},
     "output_type": "execute_result"
    }
   ],
   "source": [
    "40//10"
   ]
  },
  {
   "cell_type": "code",
   "execution_count": 41,
   "id": "66194369",
   "metadata": {},
   "outputs": [
    {
     "data": {
      "text/plain": [
       "1.5"
      ]
     },
     "execution_count": 41,
     "metadata": {},
     "output_type": "execute_result"
    }
   ],
   "source": [
    "3/2"
   ]
  },
  {
   "cell_type": "code",
   "execution_count": 42,
   "id": "06a17ede",
   "metadata": {},
   "outputs": [
    {
     "data": {
      "text/plain": [
       "1"
      ]
     },
     "execution_count": 42,
     "metadata": {},
     "output_type": "execute_result"
    }
   ],
   "source": [
    "3//2"
   ]
  },
  {
   "cell_type": "code",
   "execution_count": 46,
   "id": "e6ee6513",
   "metadata": {},
   "outputs": [
    {
     "data": {
      "text/plain": [
       "577.1904761904761"
      ]
     },
     "execution_count": 46,
     "metadata": {},
     "output_type": "execute_result"
    }
   ],
   "source": [
    "12121/21"
   ]
  },
  {
   "cell_type": "code",
   "execution_count": 47,
   "id": "d67089ab",
   "metadata": {},
   "outputs": [
    {
     "data": {
      "text/plain": [
       "577"
      ]
     },
     "execution_count": 47,
     "metadata": {},
     "output_type": "execute_result"
    }
   ],
   "source": [
    "12121//21"
   ]
  },
  {
   "cell_type": "code",
   "execution_count": 48,
   "id": "c9590f68",
   "metadata": {},
   "outputs": [
    {
     "data": {
      "text/plain": [
       "2.3333333333333335"
      ]
     },
     "execution_count": 48,
     "metadata": {},
     "output_type": "execute_result"
    }
   ],
   "source": [
    "7/3"
   ]
  },
  {
   "cell_type": "code",
   "execution_count": 49,
   "id": "1f5b0b40",
   "metadata": {},
   "outputs": [
    {
     "data": {
      "text/plain": [
       "2"
      ]
     },
     "execution_count": 49,
     "metadata": {},
     "output_type": "execute_result"
    }
   ],
   "source": [
    "7//3"
   ]
  },
  {
   "cell_type": "code",
   "execution_count": 56,
   "id": "a38f5fcc",
   "metadata": {},
   "outputs": [],
   "source": [
    "import math as math\n",
    "a=10"
   ]
  },
  {
   "cell_type": "code",
   "execution_count": 57,
   "id": "13bc6a0f",
   "metadata": {},
   "outputs": [],
   "source": [
    "b=2"
   ]
  },
  {
   "cell_type": "code",
   "execution_count": 58,
   "id": "a9bb7eea",
   "metadata": {},
   "outputs": [
    {
     "data": {
      "text/plain": [
       "True"
      ]
     },
     "execution_count": 58,
     "metadata": {},
     "output_type": "execute_result"
    }
   ],
   "source": [
    "a // b == math.floor(a / b)"
   ]
  },
  {
   "cell_type": "code",
   "execution_count": 62,
   "id": "1a28a705",
   "metadata": {},
   "outputs": [
    {
     "data": {
      "text/plain": [
       "2"
      ]
     },
     "execution_count": 62,
     "metadata": {},
     "output_type": "execute_result"
    }
   ],
   "source": [
    "math.floor(2.109)"
   ]
  },
  {
   "cell_type": "code",
   "execution_count": 67,
   "id": "ebb10ff2",
   "metadata": {},
   "outputs": [
    {
     "data": {
      "text/plain": [
       "2.0"
      ]
     },
     "execution_count": 67,
     "metadata": {},
     "output_type": "execute_result"
    }
   ],
   "source": [
    "5.0//2.0"
   ]
  },
  {
   "cell_type": "code",
   "execution_count": 70,
   "id": "51670885",
   "metadata": {},
   "outputs": [
    {
     "data": {
      "text/plain": [
       "2"
      ]
     },
     "execution_count": 70,
     "metadata": {},
     "output_type": "execute_result"
    }
   ],
   "source": [
    "math.floor(2.5)"
   ]
  },
  {
   "cell_type": "code",
   "execution_count": null,
   "id": "994eb40c",
   "metadata": {},
   "outputs": [],
   "source": []
  },
  {
   "cell_type": "code",
   "execution_count": null,
   "id": "6a2423a3",
   "metadata": {},
   "outputs": [],
   "source": []
  },
  {
   "cell_type": "markdown",
   "id": "7fcf0c24",
   "metadata": {},
   "source": [
    "# While statement"
   ]
  },
  {
   "cell_type": "code",
   "execution_count": 159,
   "id": "2ecb0bb9",
   "metadata": {},
   "outputs": [
    {
     "name": "stdout",
     "output_type": "stream",
     "text": [
      "before increment-> 0\n",
      "after increment-> 1\n",
      "before increment-> 1\n",
      "after increment-> 2\n",
      "before increment-> 2\n",
      "after increment-> 3\n"
     ]
    }
   ],
   "source": [
    "count=0\n",
    "while count<3:\n",
    "    print('before increment->',count)\n",
    "    count+=1\n",
    "    print('after increment->',count)"
   ]
  },
  {
   "cell_type": "code",
   "execution_count": null,
   "id": "766e096e",
   "metadata": {},
   "outputs": [],
   "source": []
  },
  {
   "cell_type": "code",
   "execution_count": 1,
   "id": "f9163e37",
   "metadata": {},
   "outputs": [],
   "source": [
    "a=[1,2,345,2]"
   ]
  },
  {
   "cell_type": "code",
   "execution_count": null,
   "id": "1efbb171",
   "metadata": {},
   "outputs": [],
   "source": [
    "while a:\n",
    "    print(a)\n",
    "    break;"
   ]
  },
  {
   "cell_type": "code",
   "execution_count": 2,
   "id": "b2c5bcd6",
   "metadata": {},
   "outputs": [
    {
     "name": "stdout",
     "output_type": "stream",
     "text": [
      "2\n",
      "345\n",
      "2\n",
      "1\n"
     ]
    }
   ],
   "source": [
    "while a:\n",
    "    print(a.pop())"
   ]
  },
  {
   "cell_type": "code",
   "execution_count": 4,
   "id": "41a7ad5c",
   "metadata": {},
   "outputs": [
    {
     "data": {
      "text/plain": [
       "[]"
      ]
     },
     "execution_count": 4,
     "metadata": {},
     "output_type": "execute_result"
    }
   ],
   "source": [
    "a # pop removed last element from list till list gets empty"
   ]
  },
  {
   "cell_type": "raw",
   "id": "84a7103e",
   "metadata": {},
   "source": [
    "Single statement while block\n"
   ]
  },
  {
   "cell_type": "raw",
   "id": "20b542ec",
   "metadata": {},
   "source": [
    "Just like the if block, if the while block consists of a single statement we can declare the entire loop in a single line. \n",
    "If there are multiple statements in the block that makes up the loop body, they can be separated by semicolons (;). \n"
   ]
  },
  {
   "cell_type": "code",
   "execution_count": 8,
   "id": "94b3fddc",
   "metadata": {},
   "outputs": [
    {
     "name": "stdout",
     "output_type": "stream",
     "text": [
      "0\n",
      "1\n",
      "2\n",
      "3\n",
      "4\n"
     ]
    }
   ],
   "source": [
    "cnt=0\n",
    "while cnt<5: print(cnt); cnt+=1"
   ]
  },
  {
   "cell_type": "code",
   "execution_count": null,
   "id": "6b0e397a",
   "metadata": {},
   "outputs": [],
   "source": []
  },
  {
   "cell_type": "markdown",
   "id": "948f4736",
   "metadata": {},
   "source": [
    "# Loop Control Statements"
   ]
  },
  {
   "cell_type": "raw",
   "id": "f7e4b6da",
   "metadata": {},
   "source": [
    "Loop control statements change execution from its normal sequence. When execution leaves a scope, all automatic objects that were created in that scope are destroyed. Python supports the following control statements."
   ]
  },
  {
   "cell_type": "raw",
   "id": "cca8dee8",
   "metadata": {},
   "source": [
    "Continue statement:"
   ]
  },
  {
   "cell_type": "code",
   "execution_count": 31,
   "id": "fb8c19b5",
   "metadata": {},
   "outputs": [],
   "source": [
    "l=[1,2,3,4,5]\n",
    "i=0"
   ]
  },
  {
   "cell_type": "code",
   "execution_count": 32,
   "id": "11b5d6d3",
   "metadata": {},
   "outputs": [
    {
     "name": "stdout",
     "output_type": "stream",
     "text": [
      "1\n",
      "2\n",
      "4\n"
     ]
    }
   ],
   "source": [
    "while i<len(l):\n",
    "    if l[i]==3 or l[i]==5:\n",
    "        i+=1\n",
    "        continue\n",
    "    print(l[i])\n",
    "    i+=1"
   ]
  },
  {
   "cell_type": "code",
   "execution_count": null,
   "id": "8d7f84a4",
   "metadata": {},
   "outputs": [],
   "source": []
  },
  {
   "cell_type": "raw",
   "id": "aff333a4",
   "metadata": {},
   "source": [
    "Break Statement\n",
    "Python Break Statement brings control out of the loop."
   ]
  },
  {
   "cell_type": "code",
   "execution_count": 33,
   "id": "dd5e4a54",
   "metadata": {},
   "outputs": [
    {
     "name": "stdout",
     "output_type": "stream",
     "text": [
      "1\n",
      "2\n"
     ]
    }
   ],
   "source": [
    "l=[1,2,3,4,5]\n",
    "i=0\n",
    "\n",
    "while i<len(l):\n",
    "    if l[i]==3 or l[i]==5:\n",
    "        i+=1\n",
    "        break\n",
    "    print(l[i])\n",
    "    i+=1"
   ]
  },
  {
   "cell_type": "raw",
   "id": "b4f40fc2",
   "metadata": {},
   "source": [
    "Pass Statement\n",
    "The Python pass statement to write empty loops. Pass is also used for empty control statements, functions, and classes."
   ]
  },
  {
   "cell_type": "code",
   "execution_count": 42,
   "id": "56215f90",
   "metadata": {},
   "outputs": [
    {
     "name": "stdout",
     "output_type": "stream",
     "text": [
      "5\n"
     ]
    }
   ],
   "source": [
    "l=[1,2,3,4,5]\n",
    "i=0\n",
    "\n",
    "while i<len(l):\n",
    "    i+=1\n",
    "    pass\n",
    "\n",
    "print(i)"
   ]
  },
  {
   "cell_type": "code",
   "execution_count": 47,
   "id": "37383e14",
   "metadata": {},
   "outputs": [
    {
     "name": "stdout",
     "output_type": "stream",
     "text": [
      "anyway it is going to execute\n"
     ]
    }
   ],
   "source": [
    "if 2<3:\n",
    "    pass  # here we have written pass due to that we are not getting any error if we remove the pass then it will throw error\n",
    "print('anyway it is going to execute')"
   ]
  },
  {
   "cell_type": "code",
   "execution_count": null,
   "id": "832e1e30",
   "metadata": {},
   "outputs": [],
   "source": []
  },
  {
   "cell_type": "markdown",
   "id": "ca95fe19",
   "metadata": {},
   "source": [
    "# While loop with else\n"
   ]
  },
  {
   "cell_type": "raw",
   "id": "2cc23665",
   "metadata": {},
   "source": [
    "As discussed above, while loop executes the block until a condition is satisfied. When the condition becomes false, the statement immediately after the loop is executed. The else clause is only executed when your while condition becomes false. If you break out of the loop, or if an exception is raised, it won’t be executed.\n",
    "\n",
    "Note: The else block just after for/while is executed only when the loop is NOT terminated by a break statement"
   ]
  },
  {
   "cell_type": "code",
   "execution_count": 52,
   "id": "3a22472a",
   "metadata": {},
   "outputs": [],
   "source": [
    "#CASE-1"
   ]
  },
  {
   "cell_type": "code",
   "execution_count": 53,
   "id": "1d25be73",
   "metadata": {},
   "outputs": [
    {
     "name": "stdout",
     "output_type": "stream",
     "text": [
      "0\n",
      "1\n",
      "2\n",
      "always execute if while condition becomes false\n"
     ]
    }
   ],
   "source": [
    "c=[1,2,3]\n",
    "i=0\n",
    "while i<len(c):\n",
    "    print(i)\n",
    "    i+=1\n",
    "else:\n",
    "    print('always execute if while condition becomes false')"
   ]
  },
  {
   "cell_type": "code",
   "execution_count": 54,
   "id": "74b5dcb9",
   "metadata": {},
   "outputs": [],
   "source": [
    "#CASE-2"
   ]
  },
  {
   "cell_type": "code",
   "execution_count": 57,
   "id": "0703c85c",
   "metadata": {},
   "outputs": [
    {
     "name": "stdout",
     "output_type": "stream",
     "text": [
      "0\n",
      "1\n"
     ]
    }
   ],
   "source": [
    "c=[1,2,3]\n",
    "i=0\n",
    "while i<len(c):\n",
    "    print(i)\n",
    "    i+=1\n",
    "    if i==2:\n",
    "        break\n",
    "else:\n",
    "    print('this will not execute due to break the control is out of the loop')"
   ]
  },
  {
   "cell_type": "markdown",
   "id": "62e1e07b",
   "metadata": {},
   "source": [
    "# Sentinel Controlled Statement"
   ]
  },
  {
   "cell_type": "raw",
   "id": "6ae36967",
   "metadata": {},
   "source": [
    "In this, we don’t use any counter variable because we don’t know that how many times the loop will execute. Here user decides that how many times he wants to execute the loop. For this, we use a sentinel value. A sentinel value is a value that is used to terminate a loop whenever a user enters it, generally, the sentinel value is -1.\n",
    "\n"
   ]
  },
  {
   "cell_type": "code",
   "execution_count": 65,
   "id": "6d969c79",
   "metadata": {},
   "outputs": [
    {
     "name": "stdout",
     "output_type": "stream",
     "text": [
      "enter -1 to break out of the loop:1\n",
      "inside loop because you have entered other value than -1:4\n",
      "inside loop because you have entered other value than -1:3\n",
      "inside loop because you have entered other value than -1:2\n",
      "inside else of while\n",
      "Finally out of the loop\n"
     ]
    }
   ],
   "source": [
    "inp=int(input('enter -1 to break out of the loop:'))\n",
    "while inp!=2:\n",
    "    inp=int(input('inside loop because you have entered other value than -1:'))\n",
    "else:\n",
    "    print('inside else of while')\n",
    "print('Finally out of the loop')"
   ]
  },
  {
   "cell_type": "code",
   "execution_count": null,
   "id": "b79c944b",
   "metadata": {},
   "outputs": [],
   "source": []
  }
 ],
 "metadata": {
  "kernelspec": {
   "display_name": "Python 3 (ipykernel)",
   "language": "python",
   "name": "python3"
  },
  "language_info": {
   "codemirror_mode": {
    "name": "ipython",
    "version": 3
   },
   "file_extension": ".py",
   "mimetype": "text/x-python",
   "name": "python",
   "nbconvert_exporter": "python",
   "pygments_lexer": "ipython3",
   "version": "3.9.7"
  }
 },
 "nbformat": 4,
 "nbformat_minor": 5
}
