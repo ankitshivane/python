{
 "cells": [
  {
   "cell_type": "markdown",
   "id": "feeab806",
   "metadata": {},
   "source": [
    "# Basic of Print function in python"
   ]
  },
  {
   "cell_type": "code",
   "execution_count": 35,
   "id": "3fc79e07",
   "metadata": {},
   "outputs": [],
   "source": [
    "# we can pass any number of arguments to python print function"
   ]
  },
  {
   "cell_type": "code",
   "execution_count": 61,
   "id": "c9923b13",
   "metadata": {},
   "outputs": [
    {
     "name": "stdout",
     "output_type": "stream",
     "text": [
      "ankit govind shivane age= 27\n",
      "values are: 1 2 3\n"
     ]
    }
   ],
   "source": [
    "print('ankit','govind','shivane','age=',27)\n",
    "\n",
    "a,b,c=1,2,3\n",
    "print('values are:',a,b,c)"
   ]
  },
  {
   "cell_type": "code",
   "execution_count": 38,
   "id": "b0e2ec3b",
   "metadata": {},
   "outputs": [],
   "source": [
    "#  1. python print statement always add new line '\\n' at the end of it "
   ]
  },
  {
   "cell_type": "code",
   "execution_count": 39,
   "id": "db31ab9c",
   "metadata": {},
   "outputs": [],
   "source": [
    "name='ankit'\n",
    "surname='shivane'"
   ]
  },
  {
   "cell_type": "code",
   "execution_count": 32,
   "id": "52e7ccba",
   "metadata": {},
   "outputs": [
    {
     "name": "stdout",
     "output_type": "stream",
     "text": [
      "ankit\n",
      "shivane\n"
     ]
    }
   ],
   "source": [
    "print(name)\n",
    "print(surname)"
   ]
  },
  {
   "cell_type": "code",
   "execution_count": 40,
   "id": "df4ef405",
   "metadata": {},
   "outputs": [],
   "source": [
    "# there is an end attribute available in python using that we can change the behavior of adding new line at end of it"
   ]
  },
  {
   "cell_type": "code",
   "execution_count": 56,
   "id": "01939b4d",
   "metadata": {},
   "outputs": [
    {
     "name": "stdout",
     "output_type": "stream",
     "text": [
      "\n"
     ]
    }
   ],
   "source": [
    "print()"
   ]
  },
  {
   "cell_type": "code",
   "execution_count": 58,
   "id": "53acf98c",
   "metadata": {},
   "outputs": [
    {
     "name": "stdout",
     "output_type": "stream",
     "text": [
      "ankit shivane age=27\n",
      "\n",
      "IT Engineer\n"
     ]
    }
   ],
   "source": [
    "print(name,end=' ')\n",
    "print(surname,end=' ')\n",
    "print('age=',end='')\n",
    "print(27)\n",
    "print() # insert a new line so a blank line will be inserted\n",
    "print('IT Engineer')"
   ]
  },
  {
   "cell_type": "code",
   "execution_count": 59,
   "id": "744dc93a",
   "metadata": {},
   "outputs": [],
   "source": [
    "# we can use any special character in print such as \\n or \\t"
   ]
  },
  {
   "cell_type": "code",
   "execution_count": 60,
   "id": "0bd39c60",
   "metadata": {},
   "outputs": [
    {
     "name": "stdout",
     "output_type": "stream",
     "text": [
      "ankit\tshivane\n",
      "age-27\n"
     ]
    }
   ],
   "source": [
    "print('ankit\\tshivane\\nage-27')"
   ]
  },
  {
   "cell_type": "code",
   "execution_count": null,
   "id": "f0a33280",
   "metadata": {},
   "outputs": [],
   "source": []
  },
  {
   "cell_type": "code",
   "execution_count": null,
   "id": "1cd8bce5",
   "metadata": {},
   "outputs": [],
   "source": []
  },
  {
   "cell_type": "code",
   "execution_count": 49,
   "id": "0cb0b9a0",
   "metadata": {},
   "outputs": [],
   "source": [
    "# sep attribute"
   ]
  },
  {
   "cell_type": "code",
   "execution_count": 65,
   "id": "f1044ec3",
   "metadata": {},
   "outputs": [
    {
     "name": "stdout",
     "output_type": "stream",
     "text": [
      "values are:-1-2-3 values are:$$1$$2$$3\n"
     ]
    }
   ],
   "source": [
    "a,b,c=1,2,3\n",
    "print('values are:',a,b,c,sep='-',end=' ')\n",
    "print('values are:',a,b,c,sep='$$')"
   ]
  },
  {
   "cell_type": "code",
   "execution_count": null,
   "id": "2439dfb7",
   "metadata": {},
   "outputs": [],
   "source": []
  },
  {
   "cell_type": "markdown",
   "id": "d898b0bb",
   "metadata": {},
   "source": [
    "# Identifire in python"
   ]
  },
  {
   "cell_type": "raw",
   "id": "5aa12242",
   "metadata": {},
   "source": [
    "an identifire is any name given to variable,function or class through which we can identify that thing\n",
    "1) Python identifire can contain only below things:\n",
    "    a-z\n",
    "    A-Z\n",
    "    0-9\n",
    "    _ (underscore)\n",
    "apart from anything used in python identifire will throw an error\n",
    "\n",
    "2) we can not use any reserved keyword as an identifire in python\n",
    "3) we can create an identifire with any length there is no restriction in python for this\n"
   ]
  },
  {
   "cell_type": "code",
   "execution_count": 5,
   "id": "b5bf497f",
   "metadata": {},
   "outputs": [],
   "source": [
    "#example of identifires\n",
    "\n",
    "total123=12 # valid identifire"
   ]
  },
  {
   "cell_type": "code",
   "execution_count": 6,
   "id": "d8e2305b",
   "metadata": {},
   "outputs": [
    {
     "ename": "SyntaxError",
     "evalue": "invalid syntax (Temp/ipykernel_22172/3334784212.py, line 1)",
     "output_type": "error",
     "traceback": [
      "\u001b[1;36m  File \u001b[1;32m\"C:\\Users\\HP\\AppData\\Local\\Temp/ipykernel_22172/3334784212.py\"\u001b[1;36m, line \u001b[1;32m1\u001b[0m\n\u001b[1;33m    123total=2 # invalid because python identifire can not starts with digit\u001b[0m\n\u001b[1;37m       ^\u001b[0m\n\u001b[1;31mSyntaxError\u001b[0m\u001b[1;31m:\u001b[0m invalid syntax\n"
     ]
    }
   ],
   "source": [
    "123total=2 # invalid because python identifire can not starts with digit"
   ]
  },
  {
   "cell_type": "code",
   "execution_count": 7,
   "id": "035def5d",
   "metadata": {},
   "outputs": [],
   "source": [
    "first_name='ankit' # valid"
   ]
  },
  {
   "cell_type": "code",
   "execution_count": 9,
   "id": "a4dba34c",
   "metadata": {},
   "outputs": [
    {
     "ename": "SyntaxError",
     "evalue": "cannot assign to operator (Temp/ipykernel_22172/179843259.py, line 1)",
     "output_type": "error",
     "traceback": [
      "\u001b[1;36m  File \u001b[1;32m\"C:\\Users\\HP\\AppData\\Local\\Temp/ipykernel_22172/179843259.py\"\u001b[1;36m, line \u001b[1;32m1\u001b[0m\n\u001b[1;33m    first@name='ankit' # invalid because only _ as a special character is allowed\u001b[0m\n\u001b[1;37m    ^\u001b[0m\n\u001b[1;31mSyntaxError\u001b[0m\u001b[1;31m:\u001b[0m cannot assign to operator\n"
     ]
    }
   ],
   "source": [
    "first@name='ankit' # invalid because only _ as a special character is allowed"
   ]
  },
  {
   "cell_type": "code",
   "execution_count": null,
   "id": "1a56b58e",
   "metadata": {},
   "outputs": [],
   "source": []
  },
  {
   "cell_type": "code",
   "execution_count": 10,
   "id": "f8dc0dc5",
   "metadata": {},
   "outputs": [
    {
     "ename": "NameError",
     "evalue": "name '_var' is not defined",
     "output_type": "error",
     "traceback": [
      "\u001b[1;31m---------------------------------------------------------------------------\u001b[0m",
      "\u001b[1;31mNameError\u001b[0m                                 Traceback (most recent call last)",
      "\u001b[1;32m~\\AppData\\Local\\Temp/ipykernel_22172/3833170558.py\u001b[0m in \u001b[0;36m<module>\u001b[1;34m\u001b[0m\n\u001b[1;32m----> 1\u001b[1;33m \u001b[0m_var\u001b[0m\u001b[1;33m\u001b[0m\u001b[1;33m\u001b[0m\u001b[0m\n\u001b[0m",
      "\u001b[1;31mNameError\u001b[0m: name '_var' is not defined"
     ]
    }
   ],
   "source": [
    "_var     # this denotes a protected identifire variable name or method\n",
    "__var    # this denotes a private identifire variable name or method\n",
    "__var__  # this denotes a magic identifire variable name or method"
   ]
  },
  {
   "cell_type": "code",
   "execution_count": null,
   "id": "972f9601",
   "metadata": {},
   "outputs": [],
   "source": []
  },
  {
   "cell_type": "markdown",
   "id": "818f4df2",
   "metadata": {},
   "source": [
    "# Reserved keywords"
   ]
  },
  {
   "cell_type": "raw",
   "id": "9323a3a4",
   "metadata": {},
   "source": [
    "python has 36 reserved keywords\n",
    "a reserve keywords means it have some meaning or functionality attached to it \n",
    "we can not use a reserve keyword as an identifire in python"
   ]
  },
  {
   "cell_type": "code",
   "execution_count": 15,
   "id": "5982817a",
   "metadata": {},
   "outputs": [],
   "source": [
    "import keyword"
   ]
  },
  {
   "cell_type": "code",
   "execution_count": 16,
   "id": "965fc655",
   "metadata": {},
   "outputs": [
    {
     "data": {
      "text/plain": [
       "['False',\n",
       " 'None',\n",
       " 'True',\n",
       " '__peg_parser__',\n",
       " 'and',\n",
       " 'as',\n",
       " 'assert',\n",
       " 'async',\n",
       " 'await',\n",
       " 'break',\n",
       " 'class',\n",
       " 'continue',\n",
       " 'def',\n",
       " 'del',\n",
       " 'elif',\n",
       " 'else',\n",
       " 'except',\n",
       " 'finally',\n",
       " 'for',\n",
       " 'from',\n",
       " 'global',\n",
       " 'if',\n",
       " 'import',\n",
       " 'in',\n",
       " 'is',\n",
       " 'lambda',\n",
       " 'nonlocal',\n",
       " 'not',\n",
       " 'or',\n",
       " 'pass',\n",
       " 'raise',\n",
       " 'return',\n",
       " 'try',\n",
       " 'while',\n",
       " 'with',\n",
       " 'yield']"
      ]
     },
     "execution_count": 16,
     "metadata": {},
     "output_type": "execute_result"
    }
   ],
   "source": [
    "keyword.kwlist  # print list of reserve keywords available in python"
   ]
  },
  {
   "cell_type": "code",
   "execution_count": 17,
   "id": "dbd98e19",
   "metadata": {},
   "outputs": [
    {
     "data": {
      "text/plain": [
       "36"
      ]
     },
     "execution_count": 17,
     "metadata": {},
     "output_type": "execute_result"
    }
   ],
   "source": [
    "len(keyword.kwlist)"
   ]
  },
  {
   "cell_type": "markdown",
   "id": "61687227",
   "metadata": {},
   "source": [
    "# Data type in python"
   ]
  },
  {
   "cell_type": "raw",
   "id": "96292b4d",
   "metadata": {},
   "source": [
    "1. Python is a dynamically typed language as we dont need to define a type of a variable before declaring it python virtual machine automatically detects the type of variable by using value assigned to it\n",
    "\n",
    "2. \n",
    "\n",
    "\n",
    "Text Type:\t    str\n",
    "Numeric Types:\tint, float, complex\n",
    "Sequence Types:\tlist, tuple, range\n",
    "Mapping Type:\tdict\n",
    "Set Types:\t    set, frozenset\n",
    "Boolean Type:\tbool\n",
    "Binary Types:\tbytes, bytearray, memoryview"
   ]
  },
  {
   "cell_type": "code",
   "execution_count": null,
   "id": "c94041b5",
   "metadata": {},
   "outputs": [],
   "source": []
  },
  {
   "cell_type": "raw",
   "id": "7e4cb46d",
   "metadata": {},
   "source": [
    "A)  int type\n",
    "\n",
    "python int type stores only integral number or we can say whole numbers only \n",
    "we can store any range of value in int type there is no concept of long data type in python 3.x to sotre int values with long integral value. Long data type is present as a part of python 2.x which removed in 3.x and not we can store everything in int \n",
    "\n"
   ]
  },
  {
   "cell_type": "code",
   "execution_count": null,
   "id": "1d8394c0",
   "metadata": {},
   "outputs": [],
   "source": []
  },
  {
   "cell_type": "code",
   "execution_count": 18,
   "id": "c6fdb3cc",
   "metadata": {},
   "outputs": [],
   "source": [
    "var1=10"
   ]
  },
  {
   "cell_type": "code",
   "execution_count": 19,
   "id": "0eed0536",
   "metadata": {},
   "outputs": [
    {
     "data": {
      "text/plain": [
       "int"
      ]
     },
     "execution_count": 19,
     "metadata": {},
     "output_type": "execute_result"
    }
   ],
   "source": [
    "type(var1)"
   ]
  },
  {
   "cell_type": "code",
   "execution_count": 23,
   "id": "d97cbeed",
   "metadata": {},
   "outputs": [
    {
     "name": "stdout",
     "output_type": "stream",
     "text": [
      "121322324232222333333333333311111111222222222222211111111\n"
     ]
    }
   ],
   "source": [
    "var2=121322324232222333333333333311111111222222222222211111111 # no need of long data type\n",
    "print(var2)"
   ]
  },
  {
   "cell_type": "raw",
   "id": "517c487e",
   "metadata": {},
   "source": [
    "# REPRESENT INTEGRAL VALUE IN PYTHON\n",
    "\n",
    "in python we can represent python data type in 4 ways\n",
    "\n",
    "1. decimal form (base 10)\n",
    "2. binary form (base 2)\n",
    "3. octal form (base 8)\n",
    "4. Hexadecimal form (base 16)\n",
    "\n",
    "but python by default will print the value in decimal format only if you want the conversion to be done then there are base conversion libraries available in python which you can use"
   ]
  },
  {
   "cell_type": "code",
   "execution_count": 28,
   "id": "dc29b8b1",
   "metadata": {},
   "outputs": [
    {
     "name": "stdout",
     "output_type": "stream",
     "text": [
      "value of a is: 123\n",
      "value of b is: 983\n"
     ]
    }
   ],
   "source": [
    "#1. Decimal Form (base-10)\n",
    "\n",
    "#we can denote using number system number which are 0-9\n",
    "\n",
    "a=123\n",
    "\n",
    "print('value of a is:',a)\n",
    "\n",
    "b=983\n",
    "print('value of b is:',b)"
   ]
  },
  {
   "cell_type": "code",
   "execution_count": 77,
   "id": "0ee750be",
   "metadata": {},
   "outputs": [],
   "source": [
    "#1. Binary Form (base-2)\n",
    "# allowed value is 0 or 1\n",
    "# literal value should be prefixed with 0b or 0B  (literal means the raw data assigned to variable in python)"
   ]
  },
  {
   "cell_type": "code",
   "execution_count": 68,
   "id": "310de28b",
   "metadata": {},
   "outputs": [
    {
     "name": "stdout",
     "output_type": "stream",
     "text": [
      "15\n"
     ]
    }
   ],
   "source": [
    "print(0b1111) # here we printed binary form of 1111 "
   ]
  },
  {
   "cell_type": "code",
   "execution_count": 70,
   "id": "82f373f1",
   "metadata": {},
   "outputs": [
    {
     "name": "stdout",
     "output_type": "stream",
     "text": [
      "15\n"
     ]
    }
   ],
   "source": [
    "print(0B1111) # we can use either 0b or 0B to tell python virtual machine that this is a binary number"
   ]
  },
  {
   "cell_type": "code",
   "execution_count": 75,
   "id": "8f73c4b6",
   "metadata": {},
   "outputs": [],
   "source": [
    "a=0b110101"
   ]
  },
  {
   "cell_type": "code",
   "execution_count": 72,
   "id": "812f597f",
   "metadata": {},
   "outputs": [
    {
     "data": {
      "text/plain": [
       "int"
      ]
     },
     "execution_count": 72,
     "metadata": {},
     "output_type": "execute_result"
    }
   ],
   "source": [
    "type(a)"
   ]
  },
  {
   "cell_type": "code",
   "execution_count": 73,
   "id": "a15eb801",
   "metadata": {},
   "outputs": [
    {
     "name": "stdout",
     "output_type": "stream",
     "text": [
      "53\n"
     ]
    }
   ],
   "source": [
    "print(a)"
   ]
  },
  {
   "cell_type": "code",
   "execution_count": 78,
   "id": "7e0802a7",
   "metadata": {},
   "outputs": [],
   "source": [
    "# Octal form base-8\n",
    "\n",
    "#allowed values are 0 to 7\n",
    "#literal value prefixed with 0o or 0O"
   ]
  },
  {
   "cell_type": "code",
   "execution_count": 79,
   "id": "12ab5191",
   "metadata": {},
   "outputs": [],
   "source": [
    "c=0o123"
   ]
  },
  {
   "cell_type": "code",
   "execution_count": 80,
   "id": "29d52ee9",
   "metadata": {},
   "outputs": [
    {
     "name": "stdout",
     "output_type": "stream",
     "text": [
      "83\n"
     ]
    }
   ],
   "source": [
    "print(c)"
   ]
  },
  {
   "cell_type": "code",
   "execution_count": 81,
   "id": "532de806",
   "metadata": {},
   "outputs": [
    {
     "name": "stdout",
     "output_type": "stream",
     "text": [
      "83\n"
     ]
    }
   ],
   "source": [
    "print(0O123)"
   ]
  },
  {
   "cell_type": "code",
   "execution_count": 83,
   "id": "1ff38538",
   "metadata": {},
   "outputs": [],
   "source": [
    "# Hexadecimal number base-16\n",
    "\n",
    "#allowed digits are 0 to 9 and A to F (here we can take A to F in any case not necessary to take in capital)\n",
    "#literal value should prefixed with 0x or 0X\n"
   ]
  },
  {
   "cell_type": "code",
   "execution_count": 84,
   "id": "7e93e0e4",
   "metadata": {},
   "outputs": [],
   "source": [
    "d=0x122839AF"
   ]
  },
  {
   "cell_type": "code",
   "execution_count": 85,
   "id": "5485764a",
   "metadata": {},
   "outputs": [
    {
     "name": "stdout",
     "output_type": "stream",
     "text": [
      "304626095\n"
     ]
    }
   ],
   "source": [
    "print(d)"
   ]
  },
  {
   "cell_type": "code",
   "execution_count": 87,
   "id": "7f2124b5",
   "metadata": {},
   "outputs": [
    {
     "name": "stdout",
     "output_type": "stream",
     "text": [
      "16\n"
     ]
    }
   ],
   "source": [
    "print(0X10)"
   ]
  },
  {
   "cell_type": "code",
   "execution_count": 88,
   "id": "9dcea37e",
   "metadata": {},
   "outputs": [],
   "source": [
    "e=0xFace"
   ]
  },
  {
   "cell_type": "code",
   "execution_count": 89,
   "id": "30222d2e",
   "metadata": {},
   "outputs": [
    {
     "name": "stdout",
     "output_type": "stream",
     "text": [
      "64206\n"
     ]
    }
   ],
   "source": [
    "print(e)"
   ]
  },
  {
   "cell_type": "raw",
   "id": "797296f4",
   "metadata": {},
   "source": [
    "BASE CONVERSION\n",
    "\n",
    "1\n",
    "bin()  function converts anything to binary\n",
    "\n",
    "oct()  function converts anything to octal representation\n",
    "\n",
    "hex()  function converts anything to hexadecimal representation"
   ]
  },
  {
   "cell_type": "code",
   "execution_count": 100,
   "id": "e2473b50",
   "metadata": {},
   "outputs": [],
   "source": [
    "f=bin(15)"
   ]
  },
  {
   "cell_type": "code",
   "execution_count": 101,
   "id": "d29e773b",
   "metadata": {},
   "outputs": [
    {
     "data": {
      "text/plain": [
       "str"
      ]
     },
     "execution_count": 101,
     "metadata": {},
     "output_type": "execute_result"
    }
   ],
   "source": [
    "type(f)"
   ]
  },
  {
   "cell_type": "code",
   "execution_count": 102,
   "id": "108f336a",
   "metadata": {},
   "outputs": [
    {
     "data": {
      "text/plain": [
       "'0b1111'"
      ]
     },
     "execution_count": 102,
     "metadata": {},
     "output_type": "execute_result"
    }
   ],
   "source": [
    "f"
   ]
  },
  {
   "cell_type": "code",
   "execution_count": 106,
   "id": "2c4d952a",
   "metadata": {},
   "outputs": [
    {
     "data": {
      "text/plain": [
       "'0b10011100'"
      ]
     },
     "execution_count": 106,
     "metadata": {},
     "output_type": "execute_result"
    }
   ],
   "source": [
    "bin(0O234)"
   ]
  },
  {
   "cell_type": "code",
   "execution_count": 107,
   "id": "323f82ea",
   "metadata": {},
   "outputs": [
    {
     "data": {
      "text/plain": [
       "'0b1111101011001110'"
      ]
     },
     "execution_count": 107,
     "metadata": {},
     "output_type": "execute_result"
    }
   ],
   "source": [
    "bin(0xFace)"
   ]
  },
  {
   "cell_type": "code",
   "execution_count": 108,
   "id": "90beb884",
   "metadata": {},
   "outputs": [
    {
     "data": {
      "text/plain": [
       "'0o74754'"
      ]
     },
     "execution_count": 108,
     "metadata": {},
     "output_type": "execute_result"
    }
   ],
   "source": [
    "oct(31212)"
   ]
  },
  {
   "cell_type": "code",
   "execution_count": 109,
   "id": "05533ff3",
   "metadata": {},
   "outputs": [
    {
     "data": {
      "text/plain": [
       "'0o37'"
      ]
     },
     "execution_count": 109,
     "metadata": {},
     "output_type": "execute_result"
    }
   ],
   "source": [
    "oct(0b11111)"
   ]
  },
  {
   "cell_type": "code",
   "execution_count": 110,
   "id": "3944d5a5",
   "metadata": {},
   "outputs": [
    {
     "data": {
      "text/plain": [
       "'0o175316'"
      ]
     },
     "execution_count": 110,
     "metadata": {},
     "output_type": "execute_result"
    }
   ],
   "source": [
    "oct(0xFace)"
   ]
  },
  {
   "cell_type": "code",
   "execution_count": null,
   "id": "65f4f74d",
   "metadata": {},
   "outputs": [],
   "source": []
  },
  {
   "cell_type": "raw",
   "id": "e5b53955",
   "metadata": {},
   "source": [
    "Float Data Type\n",
    "\n",
    "Base conversion is not applicable for floating point value otherwise we will get syntax error"
   ]
  },
  {
   "cell_type": "code",
   "execution_count": 113,
   "id": "7c1406fd",
   "metadata": {},
   "outputs": [],
   "source": [
    "f=127.54545545"
   ]
  },
  {
   "cell_type": "code",
   "execution_count": 114,
   "id": "76962374",
   "metadata": {},
   "outputs": [
    {
     "data": {
      "text/plain": [
       "float"
      ]
     },
     "execution_count": 114,
     "metadata": {},
     "output_type": "execute_result"
    }
   ],
   "source": [
    "type(f)"
   ]
  },
  {
   "cell_type": "code",
   "execution_count": 127,
   "id": "d9ca1f6b",
   "metadata": {},
   "outputs": [],
   "source": [
    "f=1.2e3  # where e is known as exponential form or floating point values\n",
    "\n",
    "# below is the representation\n",
    "#    1.2 * 10^3\n",
    "#    1.2 * 1000\n",
    "#    1200.0"
   ]
  },
  {
   "cell_type": "code",
   "execution_count": 121,
   "id": "445c4413",
   "metadata": {},
   "outputs": [
    {
     "data": {
      "text/plain": [
       "1200.0"
      ]
     },
     "execution_count": 121,
     "metadata": {},
     "output_type": "execute_result"
    }
   ],
   "source": [
    "f"
   ]
  },
  {
   "cell_type": "code",
   "execution_count": 124,
   "id": "ea80bc57",
   "metadata": {},
   "outputs": [],
   "source": [
    "f1=1.2E3  # we can take small e or E it is the same"
   ]
  },
  {
   "cell_type": "code",
   "execution_count": 123,
   "id": "1a0867f5",
   "metadata": {},
   "outputs": [
    {
     "data": {
      "text/plain": [
       "1200.0"
      ]
     },
     "execution_count": 123,
     "metadata": {},
     "output_type": "execute_result"
    }
   ],
   "source": [
    "f1"
   ]
  },
  {
   "cell_type": "code",
   "execution_count": 125,
   "id": "3e1b17f6",
   "metadata": {},
   "outputs": [],
   "source": [
    "f2=12e3"
   ]
  },
  {
   "cell_type": "code",
   "execution_count": 126,
   "id": "46b3def7",
   "metadata": {},
   "outputs": [
    {
     "data": {
      "text/plain": [
       "12000.0"
      ]
     },
     "execution_count": 126,
     "metadata": {},
     "output_type": "execute_result"
    }
   ],
   "source": [
    "f2"
   ]
  },
  {
   "cell_type": "code",
   "execution_count": null,
   "id": "bac185f4",
   "metadata": {},
   "outputs": [],
   "source": []
  }
 ],
 "metadata": {
  "kernelspec": {
   "display_name": "Python 3 (ipykernel)",
   "language": "python",
   "name": "python3"
  },
  "language_info": {
   "codemirror_mode": {
    "name": "ipython",
    "version": 3
   },
   "file_extension": ".py",
   "mimetype": "text/x-python",
   "name": "python",
   "nbconvert_exporter": "python",
   "pygments_lexer": "ipython3",
   "version": "3.9.7"
  }
 },
 "nbformat": 4,
 "nbformat_minor": 5
}
