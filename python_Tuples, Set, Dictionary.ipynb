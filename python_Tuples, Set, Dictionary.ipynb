{
 "cells": [
  {
   "cell_type": "markdown",
   "id": "5216636e",
   "metadata": {},
   "source": [
    "# Tuples in Python"
   ]
  },
  {
   "cell_type": "markdown",
   "id": "067dcc40",
   "metadata": {},
   "source": [
    "1) Tuples can hold homogeneus and heterogeneous data  with duplicates values\n",
    "2) Tuple is immutable collection in python means we can not change the value at any indexes in tuple     (3) insertion order is preserved in tuple"
   ]
  },
  {
   "cell_type": "code",
   "execution_count": 1,
   "id": "34fa6d0e",
   "metadata": {},
   "outputs": [],
   "source": [
    "t=(1,2,3,4,5,5)"
   ]
  },
  {
   "cell_type": "code",
   "execution_count": 2,
   "id": "9186ccbc",
   "metadata": {},
   "outputs": [
    {
     "data": {
      "text/plain": [
       "(1, 2, 3, 4, 5, 5)"
      ]
     },
     "execution_count": 2,
     "metadata": {},
     "output_type": "execute_result"
    }
   ],
   "source": [
    "t"
   ]
  },
  {
   "cell_type": "code",
   "execution_count": 3,
   "id": "b631fcc2",
   "metadata": {},
   "outputs": [
    {
     "data": {
      "text/plain": [
       "tuple"
      ]
     },
     "execution_count": 3,
     "metadata": {},
     "output_type": "execute_result"
    }
   ],
   "source": [
    "type(t)"
   ]
  },
  {
   "cell_type": "code",
   "execution_count": 4,
   "id": "45dbda13",
   "metadata": {},
   "outputs": [],
   "source": [
    "t1=(1,1.2,'ankit',True,(3+3j))"
   ]
  },
  {
   "cell_type": "code",
   "execution_count": 5,
   "id": "e60de75d",
   "metadata": {},
   "outputs": [
    {
     "data": {
      "text/plain": [
       "(1, 1.2, 'ankit', True, (3+3j))"
      ]
     },
     "execution_count": 5,
     "metadata": {},
     "output_type": "execute_result"
    }
   ],
   "source": [
    "t1"
   ]
  },
  {
   "cell_type": "code",
   "execution_count": 6,
   "id": "05756b8e",
   "metadata": {},
   "outputs": [],
   "source": [
    "t2=()"
   ]
  },
  {
   "cell_type": "code",
   "execution_count": 7,
   "id": "23dd71e4",
   "metadata": {},
   "outputs": [
    {
     "data": {
      "text/plain": [
       "tuple"
      ]
     },
     "execution_count": 7,
     "metadata": {},
     "output_type": "execute_result"
    }
   ],
   "source": [
    "type(t2)"
   ]
  },
  {
   "cell_type": "raw",
   "id": "cd1da7ed",
   "metadata": {},
   "source": [
    "Slicing in operation in tuple"
   ]
  },
  {
   "cell_type": "code",
   "execution_count": 8,
   "id": "43004494",
   "metadata": {},
   "outputs": [
    {
     "data": {
      "text/plain": [
       "(1, 1.2, 'ankit', True, (3+3j))"
      ]
     },
     "execution_count": 8,
     "metadata": {},
     "output_type": "execute_result"
    }
   ],
   "source": [
    "t1"
   ]
  },
  {
   "cell_type": "code",
   "execution_count": 9,
   "id": "4617e22d",
   "metadata": {},
   "outputs": [
    {
     "data": {
      "text/plain": [
       "(1, 1.2, 'ankit', True, (3+3j))"
      ]
     },
     "execution_count": 9,
     "metadata": {},
     "output_type": "execute_result"
    }
   ],
   "source": [
    "t1[0:]"
   ]
  },
  {
   "cell_type": "code",
   "execution_count": 10,
   "id": "d617fb00",
   "metadata": {},
   "outputs": [
    {
     "data": {
      "text/plain": [
       "(1, 1.2)"
      ]
     },
     "execution_count": 10,
     "metadata": {},
     "output_type": "execute_result"
    }
   ],
   "source": [
    "t1[0:2]"
   ]
  },
  {
   "cell_type": "code",
   "execution_count": 12,
   "id": "0fafe51e",
   "metadata": {},
   "outputs": [
    {
     "data": {
      "text/plain": [
       "((3+3j), True, 'ankit', 1.2, 1)"
      ]
     },
     "execution_count": 12,
     "metadata": {},
     "output_type": "execute_result"
    }
   ],
   "source": [
    "t1[::-1] ## reversed a tuple"
   ]
  },
  {
   "cell_type": "code",
   "execution_count": 14,
   "id": "52bae743",
   "metadata": {},
   "outputs": [
    {
     "data": {
      "text/plain": [
       "((3+3j), True, 'ankit', 1.2, 1)"
      ]
     },
     "execution_count": 14,
     "metadata": {},
     "output_type": "execute_result"
    }
   ],
   "source": [
    "t1[-1::-1]## reversed a tuple"
   ]
  },
  {
   "cell_type": "code",
   "execution_count": 15,
   "id": "ab16c021",
   "metadata": {},
   "outputs": [
    {
     "data": {
      "text/plain": [
       "(1, 1.2, 'ankit', True, (3+3j))"
      ]
     },
     "execution_count": 15,
     "metadata": {},
     "output_type": "execute_result"
    }
   ],
   "source": [
    "t1"
   ]
  },
  {
   "cell_type": "code",
   "execution_count": 16,
   "id": "d5dbbb63",
   "metadata": {},
   "outputs": [
    {
     "data": {
      "text/plain": [
       "1"
      ]
     },
     "execution_count": 16,
     "metadata": {},
     "output_type": "execute_result"
    }
   ],
   "source": [
    "t1[0]"
   ]
  },
  {
   "cell_type": "code",
   "execution_count": 18,
   "id": "2b70748b",
   "metadata": {},
   "outputs": [
    {
     "ename": "TypeError",
     "evalue": "'tuple' object does not support item assignment",
     "output_type": "error",
     "traceback": [
      "\u001b[1;31m---------------------------------------------------------------------------\u001b[0m",
      "\u001b[1;31mTypeError\u001b[0m                                 Traceback (most recent call last)",
      "\u001b[1;32m~\\AppData\\Local\\Temp/ipykernel_4740/448821091.py\u001b[0m in \u001b[0;36m<module>\u001b[1;34m\u001b[0m\n\u001b[1;32m----> 1\u001b[1;33m \u001b[0mt1\u001b[0m\u001b[1;33m[\u001b[0m\u001b[1;36m0\u001b[0m\u001b[1;33m]\u001b[0m\u001b[1;33m=\u001b[0m\u001b[1;34m'ankit'\u001b[0m  \u001b[1;31m#tuple' object does not support item assignment we can not reassign or change the value at any location\u001b[0m\u001b[1;33m\u001b[0m\u001b[1;33m\u001b[0m\u001b[0m\n\u001b[0m",
      "\u001b[1;31mTypeError\u001b[0m: 'tuple' object does not support item assignment"
     ]
    }
   ],
   "source": [
    "t1[0]='ankit'  #tuple' object does not support item assignment we can not reassign or change the value at any location"
   ]
  },
  {
   "cell_type": "code",
   "execution_count": 22,
   "id": "78ecb6a1",
   "metadata": {},
   "outputs": [
    {
     "data": {
      "text/plain": [
       "(1, 2, 3, 4, 5, 5, 1, 1.2, 'ankit', True, (3+3j))"
      ]
     },
     "execution_count": 22,
     "metadata": {},
     "output_type": "execute_result"
    }
   ],
   "source": [
    "t+t1  # here we are performing append operation which is allowed because we are appending one tuple to another tuple and not changing any item at any location"
   ]
  },
  {
   "cell_type": "code",
   "execution_count": 25,
   "id": "21bcdad7",
   "metadata": {},
   "outputs": [
    {
     "data": {
      "text/plain": [
       "(1, 2, 3, 4, 5, 5)"
      ]
     },
     "execution_count": 25,
     "metadata": {},
     "output_type": "execute_result"
    }
   ],
   "source": [
    "t"
   ]
  },
  {
   "cell_type": "code",
   "execution_count": 26,
   "id": "7d752646",
   "metadata": {},
   "outputs": [
    {
     "data": {
      "text/plain": [
       "(1, 1.2, 'ankit', True, (3+3j))"
      ]
     },
     "execution_count": 26,
     "metadata": {},
     "output_type": "execute_result"
    }
   ],
   "source": [
    "t1"
   ]
  },
  {
   "cell_type": "code",
   "execution_count": 27,
   "id": "c565bdd3",
   "metadata": {},
   "outputs": [],
   "source": [
    "t=t+t1"
   ]
  },
  {
   "cell_type": "code",
   "execution_count": 28,
   "id": "9195da04",
   "metadata": {},
   "outputs": [
    {
     "data": {
      "text/plain": [
       "(1, 2, 3, 4, 5, 5, 1, 1.2, 'ankit', True, (3+3j))"
      ]
     },
     "execution_count": 28,
     "metadata": {},
     "output_type": "execute_result"
    }
   ],
   "source": [
    "t"
   ]
  },
  {
   "cell_type": "code",
   "execution_count": 29,
   "id": "de9db817",
   "metadata": {},
   "outputs": [
    {
     "data": {
      "text/plain": [
       "(1, 1.2, 'ankit', True, (3+3j))"
      ]
     },
     "execution_count": 29,
     "metadata": {},
     "output_type": "execute_result"
    }
   ],
   "source": [
    "t1"
   ]
  },
  {
   "cell_type": "code",
   "execution_count": 31,
   "id": "7c3e02f7",
   "metadata": {},
   "outputs": [
    {
     "data": {
      "text/plain": [
       "(1, 1.2, 'ankit', True, (3+3j), 1, 1.2, 'ankit', True, (3+3j))"
      ]
     },
     "execution_count": 31,
     "metadata": {},
     "output_type": "execute_result"
    }
   ],
   "source": [
    "t1*2  # it will repeat the same tuple with given number"
   ]
  },
  {
   "cell_type": "code",
   "execution_count": 32,
   "id": "bd44528d",
   "metadata": {},
   "outputs": [
    {
     "data": {
      "text/plain": [
       "(1, 2, 3, 4, 5, 5, 1, 1.2, 'ankit', True, (3+3j))"
      ]
     },
     "execution_count": 32,
     "metadata": {},
     "output_type": "execute_result"
    }
   ],
   "source": [
    "t"
   ]
  },
  {
   "cell_type": "code",
   "execution_count": 35,
   "id": "11b474fa",
   "metadata": {},
   "outputs": [
    {
     "data": {
      "text/plain": [
       "3"
      ]
     },
     "execution_count": 35,
     "metadata": {},
     "output_type": "execute_result"
    }
   ],
   "source": [
    "t.count(1)  # it is considering the floating point 1 also"
   ]
  },
  {
   "cell_type": "code",
   "execution_count": 37,
   "id": "5b3934f9",
   "metadata": {},
   "outputs": [
    {
     "data": {
      "text/plain": [
       "1"
      ]
     },
     "execution_count": 37,
     "metadata": {},
     "output_type": "execute_result"
    }
   ],
   "source": [
    "t.count(2)"
   ]
  },
  {
   "cell_type": "code",
   "execution_count": 38,
   "id": "30262cef",
   "metadata": {},
   "outputs": [
    {
     "data": {
      "text/plain": [
       "1"
      ]
     },
     "execution_count": 38,
     "metadata": {},
     "output_type": "execute_result"
    }
   ],
   "source": [
    "t.count(3)"
   ]
  },
  {
   "cell_type": "code",
   "execution_count": 42,
   "id": "2263328b",
   "metadata": {},
   "outputs": [
    {
     "data": {
      "text/plain": [
       "4"
      ]
     },
     "execution_count": 42,
     "metadata": {},
     "output_type": "execute_result"
    }
   ],
   "source": [
    "t.index(5)  # find the index of element in tuple"
   ]
  },
  {
   "cell_type": "code",
   "execution_count": 43,
   "id": "10eb6a76",
   "metadata": {},
   "outputs": [],
   "source": [
    "t3=(1,2,4,t1,t2)"
   ]
  },
  {
   "cell_type": "code",
   "execution_count": 44,
   "id": "1ecf8e65",
   "metadata": {},
   "outputs": [
    {
     "data": {
      "text/plain": [
       "(1, 2, 4, (1, 1.2, 'ankit', True, (3+3j)), ())"
      ]
     },
     "execution_count": 44,
     "metadata": {},
     "output_type": "execute_result"
    }
   ],
   "source": [
    "t3"
   ]
  },
  {
   "cell_type": "code",
   "execution_count": 47,
   "id": "bf0f29c7",
   "metadata": {},
   "outputs": [],
   "source": [
    "t4=(t1,[1,2,4,'ankit']) # we can hold any other tuple inside a tuple or also a list inside a tuple"
   ]
  },
  {
   "cell_type": "code",
   "execution_count": 46,
   "id": "4fccc3f6",
   "metadata": {},
   "outputs": [
    {
     "data": {
      "text/plain": [
       "((1, 1.2, 'ankit', True, (3+3j)), [1, 2, 4, 'ankit'])"
      ]
     },
     "execution_count": 46,
     "metadata": {},
     "output_type": "execute_result"
    }
   ],
   "source": [
    "t4"
   ]
  },
  {
   "cell_type": "code",
   "execution_count": 53,
   "id": "39a8ad04",
   "metadata": {},
   "outputs": [],
   "source": [
    "l1=[1,2,t4]  # we can also add a tuple inside a List"
   ]
  },
  {
   "cell_type": "code",
   "execution_count": 54,
   "id": "12e79443",
   "metadata": {},
   "outputs": [
    {
     "data": {
      "text/plain": [
       "[1, 2, ((1, 1.2, 'ankit', True, (3+3j)), [1, 2, 4, 'ankit'])]"
      ]
     },
     "execution_count": 54,
     "metadata": {},
     "output_type": "execute_result"
    }
   ],
   "source": [
    "l1"
   ]
  },
  {
   "cell_type": "code",
   "execution_count": 61,
   "id": "f0de9757",
   "metadata": {},
   "outputs": [],
   "source": [
    "t4[1][2]=2 # we can change the item inside a list holding in tuple because list is mutable"
   ]
  },
  {
   "cell_type": "code",
   "execution_count": 60,
   "id": "cc39a4ac",
   "metadata": {},
   "outputs": [
    {
     "data": {
      "text/plain": [
       "((1, 1.2, 'ankit', True, (3+3j)), [1, 2, 2, 'ankit'])"
      ]
     },
     "execution_count": 60,
     "metadata": {},
     "output_type": "execute_result"
    }
   ],
   "source": [
    "t4"
   ]
  },
  {
   "cell_type": "code",
   "execution_count": 62,
   "id": "67833192",
   "metadata": {},
   "outputs": [],
   "source": [
    "l2=[1,2]"
   ]
  },
  {
   "cell_type": "code",
   "execution_count": 76,
   "id": "c112e84c",
   "metadata": {},
   "outputs": [],
   "source": [
    "l3=list(t4)  # convert Tutples to list"
   ]
  },
  {
   "cell_type": "code",
   "execution_count": 69,
   "id": "faf2ecf7",
   "metadata": {},
   "outputs": [
    {
     "data": {
      "text/plain": [
       "list"
      ]
     },
     "execution_count": 69,
     "metadata": {},
     "output_type": "execute_result"
    }
   ],
   "source": [
    "type(l3)"
   ]
  },
  {
   "cell_type": "code",
   "execution_count": 72,
   "id": "d1528c80",
   "metadata": {},
   "outputs": [
    {
     "data": {
      "text/plain": [
       "((1, 1.2, 'ankit', True, (3+3j)), [1, 2, 2, 'ankit'])"
      ]
     },
     "execution_count": 72,
     "metadata": {},
     "output_type": "execute_result"
    }
   ],
   "source": [
    "t4"
   ]
  },
  {
   "cell_type": "code",
   "execution_count": 73,
   "id": "993e78c6",
   "metadata": {},
   "outputs": [
    {
     "data": {
      "text/plain": [
       "[(1, 1.2, 'ankit', True, (3+3j)), [1, 2, 2, 'ankit']]"
      ]
     },
     "execution_count": 73,
     "metadata": {},
     "output_type": "execute_result"
    }
   ],
   "source": [
    "l3"
   ]
  },
  {
   "cell_type": "code",
   "execution_count": 74,
   "id": "bce074a4",
   "metadata": {},
   "outputs": [
    {
     "data": {
      "text/plain": [
       "2"
      ]
     },
     "execution_count": 74,
     "metadata": {},
     "output_type": "execute_result"
    }
   ],
   "source": [
    "len(t4)"
   ]
  },
  {
   "cell_type": "code",
   "execution_count": 75,
   "id": "c67bd05e",
   "metadata": {},
   "outputs": [
    {
     "data": {
      "text/plain": [
       "2"
      ]
     },
     "execution_count": 75,
     "metadata": {},
     "output_type": "execute_result"
    }
   ],
   "source": [
    "len(l3)"
   ]
  },
  {
   "cell_type": "code",
   "execution_count": 80,
   "id": "d6615132",
   "metadata": {},
   "outputs": [],
   "source": [
    "t5=tuple([1,2,3,4,5])  # convert list to tuple"
   ]
  },
  {
   "cell_type": "code",
   "execution_count": 81,
   "id": "d3501767",
   "metadata": {},
   "outputs": [
    {
     "data": {
      "text/plain": [
       "tuple"
      ]
     },
     "execution_count": 81,
     "metadata": {},
     "output_type": "execute_result"
    }
   ],
   "source": [
    "type(t5)"
   ]
  },
  {
   "cell_type": "code",
   "execution_count": null,
   "id": "61ed5070",
   "metadata": {},
   "outputs": [],
   "source": []
  },
  {
   "cell_type": "markdown",
   "id": "eb22cf06",
   "metadata": {},
   "source": [
    "#  SET in python\n"
   ]
  },
  {
   "cell_type": "raw",
   "id": "ad7f2822",
   "metadata": {},
   "source": [
    "1) Holds Unique element only and eleminate duplicate element\n",
    "2) its an unordered collection so slicing or index based search is not applicable\n",
    "3) set is mutable object because we can not add a set inside any other set or append it\n",
    "4) set can hold homogeneous and heterogeneous type of data\n",
    "5) we cannot add any other type of collection into set such as list and set itself also except immutable object as we can add immutable collection to set like tuple\n",
    "6) slicing operation is not allowed in set as it is a unordered collection object"
   ]
  },
  {
   "cell_type": "code",
   "execution_count": null,
   "id": "28b009a6",
   "metadata": {},
   "outputs": [],
   "source": []
  },
  {
   "cell_type": "code",
   "execution_count": 82,
   "id": "52e9f61d",
   "metadata": {},
   "outputs": [],
   "source": [
    "l=[1,2,3,4,5,5,6,3,5,2,3,4]"
   ]
  },
  {
   "cell_type": "code",
   "execution_count": 84,
   "id": "59570c4a",
   "metadata": {},
   "outputs": [
    {
     "data": {
      "text/plain": [
       "[1, 2, 3, 4, 5, 5, 6, 3, 5, 2, 3, 4]"
      ]
     },
     "execution_count": 84,
     "metadata": {},
     "output_type": "execute_result"
    }
   ],
   "source": [
    "l"
   ]
  },
  {
   "cell_type": "code",
   "execution_count": 89,
   "id": "c9ea085d",
   "metadata": {},
   "outputs": [
    {
     "data": {
      "text/plain": [
       "{1, 2, 3, 4, 5, 6}"
      ]
     },
     "execution_count": 89,
     "metadata": {},
     "output_type": "execute_result"
    }
   ],
   "source": [
    "set(l) # create a set using a list"
   ]
  },
  {
   "cell_type": "code",
   "execution_count": 90,
   "id": "ac6a851e",
   "metadata": {},
   "outputs": [],
   "source": [
    "s={}  # {} will create a dictionary and not a set "
   ]
  },
  {
   "cell_type": "code",
   "execution_count": 91,
   "id": "755c0ce1",
   "metadata": {},
   "outputs": [
    {
     "data": {
      "text/plain": [
       "dict"
      ]
     },
     "execution_count": 91,
     "metadata": {},
     "output_type": "execute_result"
    }
   ],
   "source": [
    "type(s)"
   ]
  },
  {
   "cell_type": "code",
   "execution_count": 96,
   "id": "89e07e25",
   "metadata": {},
   "outputs": [],
   "source": [
    "s1=set() # create an empty set object"
   ]
  },
  {
   "cell_type": "code",
   "execution_count": 97,
   "id": "56867351",
   "metadata": {},
   "outputs": [
    {
     "data": {
      "text/plain": [
       "set"
      ]
     },
     "execution_count": 97,
     "metadata": {},
     "output_type": "execute_result"
    }
   ],
   "source": [
    "type(s1)"
   ]
  },
  {
   "cell_type": "code",
   "execution_count": 98,
   "id": "435497a9",
   "metadata": {},
   "outputs": [
    {
     "data": {
      "text/plain": [
       "set()"
      ]
     },
     "execution_count": 98,
     "metadata": {},
     "output_type": "execute_result"
    }
   ],
   "source": [
    "s1"
   ]
  },
  {
   "cell_type": "code",
   "execution_count": null,
   "id": "d960af32",
   "metadata": {},
   "outputs": [],
   "source": []
  },
  {
   "cell_type": "code",
   "execution_count": 101,
   "id": "3fb3da10",
   "metadata": {},
   "outputs": [],
   "source": [
    "s2={1,2,3,4} # it will create a set as we have provided value in it without key value pair so it will create a set object"
   ]
  },
  {
   "cell_type": "code",
   "execution_count": 102,
   "id": "b2ec9627",
   "metadata": {},
   "outputs": [
    {
     "data": {
      "text/plain": [
       "set"
      ]
     },
     "execution_count": 102,
     "metadata": {},
     "output_type": "execute_result"
    }
   ],
   "source": [
    "type(s2)"
   ]
  },
  {
   "cell_type": "code",
   "execution_count": 103,
   "id": "11bbb0d4",
   "metadata": {},
   "outputs": [],
   "source": [
    "s3={2,2,3,4,5,5,5,5,5,5,1,1,1,1}"
   ]
  },
  {
   "cell_type": "code",
   "execution_count": 105,
   "id": "bfbd9cdc",
   "metadata": {},
   "outputs": [
    {
     "data": {
      "text/plain": [
       "{1, 2, 3, 4, 5}"
      ]
     },
     "execution_count": 105,
     "metadata": {},
     "output_type": "execute_result"
    }
   ],
   "source": [
    "s3"
   ]
  },
  {
   "cell_type": "code",
   "execution_count": 106,
   "id": "39875255",
   "metadata": {},
   "outputs": [
    {
     "ename": "TypeError",
     "evalue": "'set' object is not subscriptable",
     "output_type": "error",
     "traceback": [
      "\u001b[1;31m---------------------------------------------------------------------------\u001b[0m",
      "\u001b[1;31mTypeError\u001b[0m                                 Traceback (most recent call last)",
      "\u001b[1;32m~\\AppData\\Local\\Temp/ipykernel_4740/397937684.py\u001b[0m in \u001b[0;36m<module>\u001b[1;34m\u001b[0m\n\u001b[1;32m----> 1\u001b[1;33m \u001b[0ms3\u001b[0m\u001b[1;33m[\u001b[0m\u001b[1;36m0\u001b[0m\u001b[1;33m]\u001b[0m\u001b[1;33m\u001b[0m\u001b[1;33m\u001b[0m\u001b[0m\n\u001b[0m",
      "\u001b[1;31mTypeError\u001b[0m: 'set' object is not subscriptable"
     ]
    }
   ],
   "source": [
    "s3[0]  # as set is an unordered collection object it is not going to store any index based element internally so it will give an error while accesing the element"
   ]
  },
  {
   "cell_type": "code",
   "execution_count": 107,
   "id": "8eb7ccbe",
   "metadata": {},
   "outputs": [
    {
     "data": {
      "text/plain": [
       "{1, 2, 3, 4, 5}"
      ]
     },
     "execution_count": 107,
     "metadata": {},
     "output_type": "execute_result"
    }
   ],
   "source": [
    "s3"
   ]
  },
  {
   "cell_type": "code",
   "execution_count": 117,
   "id": "89a803bd",
   "metadata": {},
   "outputs": [],
   "source": [
    "s3.add('ankit') # append element in set"
   ]
  },
  {
   "cell_type": "code",
   "execution_count": 109,
   "id": "fc8630cd",
   "metadata": {},
   "outputs": [
    {
     "data": {
      "text/plain": [
       "{1, 2, 3, 4, 5, 'ankit'}"
      ]
     },
     "execution_count": 109,
     "metadata": {},
     "output_type": "execute_result"
    }
   ],
   "source": [
    "s3"
   ]
  },
  {
   "cell_type": "code",
   "execution_count": 113,
   "id": "f5b15b2f",
   "metadata": {},
   "outputs": [],
   "source": [
    "s4={7,6,7,44}"
   ]
  },
  {
   "cell_type": "code",
   "execution_count": 114,
   "id": "3ae2a89f",
   "metadata": {},
   "outputs": [
    {
     "data": {
      "text/plain": [
       "{6, 7, 44}"
      ]
     },
     "execution_count": 114,
     "metadata": {},
     "output_type": "execute_result"
    }
   ],
   "source": [
    "s4"
   ]
  },
  {
   "cell_type": "code",
   "execution_count": 122,
   "id": "d07e88c7",
   "metadata": {},
   "outputs": [
    {
     "ename": "TypeError",
     "evalue": "unhashable type: 'list'",
     "output_type": "error",
     "traceback": [
      "\u001b[1;31m---------------------------------------------------------------------------\u001b[0m",
      "\u001b[1;31mTypeError\u001b[0m                                 Traceback (most recent call last)",
      "\u001b[1;32m~\\AppData\\Local\\Temp/ipykernel_4740/1584908008.py\u001b[0m in \u001b[0;36m<module>\u001b[1;34m\u001b[0m\n\u001b[1;32m----> 1\u001b[1;33m \u001b[0ms3\u001b[0m\u001b[1;33m.\u001b[0m\u001b[0madd\u001b[0m\u001b[1;33m(\u001b[0m\u001b[1;33m[\u001b[0m\u001b[1;36m12\u001b[0m\u001b[1;33m,\u001b[0m\u001b[1;36m2\u001b[0m\u001b[1;33m]\u001b[0m\u001b[1;33m)\u001b[0m  \u001b[1;31m# as we store unique objet in set we can not add any other collection type (except immutable collection type) to set because set can only find the unique element among primitive types and not a collection types\u001b[0m\u001b[1;33m\u001b[0m\u001b[1;33m\u001b[0m\u001b[0m\n\u001b[0m",
      "\u001b[1;31mTypeError\u001b[0m: unhashable type: 'list'"
     ]
    }
   ],
   "source": [
    "s3.add([12,2])  # as we store unique objet in set we can not add any other collection type (except immutable collection type) to set because set can only find the unique element among primitive types and not a collection types"
   ]
  },
  {
   "cell_type": "code",
   "execution_count": 118,
   "id": "a86f4055",
   "metadata": {},
   "outputs": [
    {
     "ename": "TypeError",
     "evalue": "unhashable type: 'list'",
     "output_type": "error",
     "traceback": [
      "\u001b[1;31m---------------------------------------------------------------------------\u001b[0m",
      "\u001b[1;31mTypeError\u001b[0m                                 Traceback (most recent call last)",
      "\u001b[1;32m~\\AppData\\Local\\Temp/ipykernel_4740/20339977.py\u001b[0m in \u001b[0;36m<module>\u001b[1;34m\u001b[0m\n\u001b[1;32m----> 1\u001b[1;33m \u001b[0ms5\u001b[0m\u001b[1;33m=\u001b[0m\u001b[1;33m{\u001b[0m\u001b[1;36m1\u001b[0m\u001b[1;33m,\u001b[0m\u001b[1;36m2\u001b[0m\u001b[1;33m,\u001b[0m\u001b[1;33m[\u001b[0m\u001b[1;36m3\u001b[0m\u001b[1;33m,\u001b[0m\u001b[1;36m1\u001b[0m\u001b[1;33m]\u001b[0m\u001b[1;33m}\u001b[0m\u001b[1;33m\u001b[0m\u001b[1;33m\u001b[0m\u001b[0m\n\u001b[0m",
      "\u001b[1;31mTypeError\u001b[0m: unhashable type: 'list'"
     ]
    }
   ],
   "source": [
    "s5={1,2,[3,1]}"
   ]
  },
  {
   "cell_type": "code",
   "execution_count": 130,
   "id": "f90ace76",
   "metadata": {},
   "outputs": [],
   "source": [
    "s5={1,2,(3,2,2,1,1),(3,2,2,1,1)} # as tuple are immutable we can add tuple to set but only unique tuple"
   ]
  },
  {
   "cell_type": "code",
   "execution_count": 131,
   "id": "ba2a19b0",
   "metadata": {},
   "outputs": [
    {
     "data": {
      "text/plain": [
       "{(3, 2, 2, 1, 1), 1, 2}"
      ]
     },
     "execution_count": 131,
     "metadata": {},
     "output_type": "execute_result"
    }
   ],
   "source": [
    "s5"
   ]
  },
  {
   "cell_type": "code",
   "execution_count": 134,
   "id": "c44c691b",
   "metadata": {},
   "outputs": [
    {
     "data": {
      "text/plain": [
       "[1, 2, (3, 2, 2, 1, 1)]"
      ]
     },
     "execution_count": 134,
     "metadata": {},
     "output_type": "execute_result"
    }
   ],
   "source": [
    "list(s5) # convert set to list"
   ]
  },
  {
   "cell_type": "code",
   "execution_count": 135,
   "id": "f4d33e2c",
   "metadata": {},
   "outputs": [
    {
     "data": {
      "text/plain": [
       "{(3, 2, 2, 1, 1), 1, 2}"
      ]
     },
     "execution_count": 135,
     "metadata": {},
     "output_type": "execute_result"
    }
   ],
   "source": [
    "s5"
   ]
  },
  {
   "cell_type": "code",
   "execution_count": 139,
   "id": "5bb333cb",
   "metadata": {},
   "outputs": [
    {
     "ename": "KeyError",
     "evalue": "1",
     "output_type": "error",
     "traceback": [
      "\u001b[1;31m---------------------------------------------------------------------------\u001b[0m",
      "\u001b[1;31mKeyError\u001b[0m                                  Traceback (most recent call last)",
      "\u001b[1;32m~\\AppData\\Local\\Temp/ipykernel_4740/391660055.py\u001b[0m in \u001b[0;36m<module>\u001b[1;34m\u001b[0m\n\u001b[1;32m----> 1\u001b[1;33m \u001b[0ms5\u001b[0m\u001b[1;33m.\u001b[0m\u001b[0mremove\u001b[0m\u001b[1;33m(\u001b[0m\u001b[1;36m1\u001b[0m\u001b[1;33m)\u001b[0m  \u001b[1;31m# remove the provided element from set and not from that index\u001b[0m\u001b[1;33m\u001b[0m\u001b[1;33m\u001b[0m\u001b[0m\n\u001b[0m",
      "\u001b[1;31mKeyError\u001b[0m: 1"
     ]
    }
   ],
   "source": [
    "s5.remove(1)  # remove the provided element from set and not from that index"
   ]
  },
  {
   "cell_type": "code",
   "execution_count": 141,
   "id": "d0a3711f",
   "metadata": {},
   "outputs": [
    {
     "data": {
      "text/plain": [
       "{(3, 2, 2, 1, 1), 2}"
      ]
     },
     "execution_count": 141,
     "metadata": {},
     "output_type": "execute_result"
    }
   ],
   "source": [
    "s5"
   ]
  },
  {
   "cell_type": "code",
   "execution_count": 144,
   "id": "74160533",
   "metadata": {},
   "outputs": [
    {
     "ename": "KeyError",
     "evalue": "121",
     "output_type": "error",
     "traceback": [
      "\u001b[1;31m---------------------------------------------------------------------------\u001b[0m",
      "\u001b[1;31mKeyError\u001b[0m                                  Traceback (most recent call last)",
      "\u001b[1;32m~\\AppData\\Local\\Temp/ipykernel_4740/1941719301.py\u001b[0m in \u001b[0;36m<module>\u001b[1;34m\u001b[0m\n\u001b[1;32m----> 1\u001b[1;33m \u001b[0ms5\u001b[0m\u001b[1;33m.\u001b[0m\u001b[0mremove\u001b[0m\u001b[1;33m(\u001b[0m\u001b[1;36m121\u001b[0m\u001b[1;33m)\u001b[0m  \u001b[1;31m# remove will give error if element not found to be removed\u001b[0m\u001b[1;33m\u001b[0m\u001b[1;33m\u001b[0m\u001b[0m\n\u001b[0m",
      "\u001b[1;31mKeyError\u001b[0m: 121"
     ]
    }
   ],
   "source": [
    "s5.remove(121)  # remove will give error if element not found to be removed"
   ]
  },
  {
   "cell_type": "code",
   "execution_count": 148,
   "id": "ac9b2edc",
   "metadata": {},
   "outputs": [],
   "source": [
    "s5.discard(121) # whereas discard will also remove the elemtn from the given set but if the element not found it will not throw any error"
   ]
  },
  {
   "cell_type": "code",
   "execution_count": 149,
   "id": "33de5803",
   "metadata": {},
   "outputs": [],
   "source": [
    "s5.discard(2)"
   ]
  },
  {
   "cell_type": "code",
   "execution_count": 150,
   "id": "7e41a063",
   "metadata": {},
   "outputs": [
    {
     "data": {
      "text/plain": [
       "{(3, 2, 2, 1, 1)}"
      ]
     },
     "execution_count": 150,
     "metadata": {},
     "output_type": "execute_result"
    }
   ],
   "source": [
    "s5"
   ]
  },
  {
   "cell_type": "code",
   "execution_count": 2,
   "id": "df42196c",
   "metadata": {},
   "outputs": [
    {
     "data": {
      "text/plain": [
       "{'Sudh', 'sudh'}"
      ]
     },
     "execution_count": 2,
     "metadata": {},
     "output_type": "execute_result"
    }
   ],
   "source": [
    "{'sudh',\"Sudh\"}  # as python is case sensative this will consider as two different element"
   ]
  },
  {
   "cell_type": "code",
   "execution_count": null,
   "id": "53d50662",
   "metadata": {},
   "outputs": [],
   "source": []
  },
  {
   "cell_type": "code",
   "execution_count": null,
   "id": "ef833c20",
   "metadata": {},
   "outputs": [],
   "source": []
  },
  {
   "cell_type": "markdown",
   "id": "99d302a2",
   "metadata": {},
   "source": [
    "# Dictionary in Python"
   ]
  },
  {
   "cell_type": "raw",
   "id": "79dd1386",
   "metadata": {},
   "source": [
    "1) Dictionary store data in a key and value pair\n",
    "2) Key should be unique in dictionary if you duplicated some keys in dictionary then it will take the latest value of duplicated dictionary and value can be anything in dictionary\n",
    "3)\n"
   ]
  },
  {
   "cell_type": "code",
   "execution_count": null,
   "id": "f35c4bf5",
   "metadata": {},
   "outputs": [],
   "source": []
  },
  {
   "cell_type": "code",
   "execution_count": 5,
   "id": "30259fb8",
   "metadata": {},
   "outputs": [],
   "source": [
    "d={} # if it is a blank brace then it will create a dictionary"
   ]
  },
  {
   "cell_type": "code",
   "execution_count": 6,
   "id": "a918861e",
   "metadata": {},
   "outputs": [
    {
     "data": {
      "text/plain": [
       "dict"
      ]
     },
     "execution_count": 6,
     "metadata": {},
     "output_type": "execute_result"
    }
   ],
   "source": [
    "type(d)"
   ]
  },
  {
   "cell_type": "code",
   "execution_count": 7,
   "id": "a9628997",
   "metadata": {},
   "outputs": [],
   "source": [
    "d1={\"k1\":12,\"k2\":12,\"k3\":11}"
   ]
  },
  {
   "cell_type": "code",
   "execution_count": 9,
   "id": "c226bae1",
   "metadata": {},
   "outputs": [
    {
     "data": {
      "text/plain": [
       "{'k1': 12, 'k2': 12, 'k3': 11}"
      ]
     },
     "execution_count": 9,
     "metadata": {},
     "output_type": "execute_result"
    }
   ],
   "source": [
    "d1"
   ]
  },
  {
   "cell_type": "code",
   "execution_count": 12,
   "id": "d982037a",
   "metadata": {},
   "outputs": [],
   "source": [
    "d2={\"k1\":12,\"k2\":12,\"k2\":11,\"k4\":[3232,21],\"k5\":(1,2,3),\"k6\":{1,2,3,2,1}}"
   ]
  },
  {
   "cell_type": "code",
   "execution_count": 13,
   "id": "1960e3bb",
   "metadata": {},
   "outputs": [
    {
     "data": {
      "text/plain": [
       "{'k1': 12, 'k2': 11, 'k4': [3232, 21], 'k5': (1, 2, 3), 'k6': {1, 2, 3}}"
      ]
     },
     "execution_count": 13,
     "metadata": {},
     "output_type": "execute_result"
    }
   ],
   "source": [
    "d2"
   ]
  },
  {
   "cell_type": "code",
   "execution_count": 19,
   "id": "01eae625",
   "metadata": {},
   "outputs": [
    {
     "data": {
      "text/plain": [
       "dict"
      ]
     },
     "execution_count": 19,
     "metadata": {},
     "output_type": "execute_result"
    }
   ],
   "source": [
    "type(d2)"
   ]
  },
  {
   "cell_type": "code",
   "execution_count": 20,
   "id": "22f00eff",
   "metadata": {},
   "outputs": [
    {
     "data": {
      "text/plain": [
       "12"
      ]
     },
     "execution_count": 20,
     "metadata": {},
     "output_type": "execute_result"
    }
   ],
   "source": [
    "d2['k1']"
   ]
  },
  {
   "cell_type": "code",
   "execution_count": 21,
   "id": "78533b48",
   "metadata": {},
   "outputs": [
    {
     "data": {
      "text/plain": [
       "set"
      ]
     },
     "execution_count": 21,
     "metadata": {},
     "output_type": "execute_result"
    }
   ],
   "source": [
    "type(d2['k6'])"
   ]
  },
  {
   "cell_type": "code",
   "execution_count": 22,
   "id": "cd6d2cef",
   "metadata": {},
   "outputs": [
    {
     "data": {
      "text/plain": [
       "5"
      ]
     },
     "execution_count": 22,
     "metadata": {},
     "output_type": "execute_result"
    }
   ],
   "source": [
    "len(d2)"
   ]
  },
  {
   "cell_type": "code",
   "execution_count": 28,
   "id": "077c615c",
   "metadata": {},
   "outputs": [],
   "source": [
    "d3={\n",
    "    .5:\"ankit\"\n",
    "    \n",
    "} # you should give valid meaningful name as a KEY in dictionary no special character is allowed as a key in dictionary"
   ]
  },
  {
   "cell_type": "code",
   "execution_count": 29,
   "id": "b44139ee",
   "metadata": {},
   "outputs": [
    {
     "data": {
      "text/plain": [
       "{0.5: 'ankit'}"
      ]
     },
     "execution_count": 29,
     "metadata": {},
     "output_type": "execute_result"
    }
   ],
   "source": [
    "d3"
   ]
  },
  {
   "cell_type": "code",
   "execution_count": 10,
   "id": "22facd50",
   "metadata": {},
   "outputs": [],
   "source": [
    "d4={1:'a',2:3,'++*':'ankit',\"k1\":{'k1':2,'k2':4}} "
   ]
  },
  {
   "cell_type": "code",
   "execution_count": 11,
   "id": "e2fddd4c",
   "metadata": {},
   "outputs": [
    {
     "data": {
      "text/plain": [
       "'a'"
      ]
     },
     "execution_count": 11,
     "metadata": {},
     "output_type": "execute_result"
    }
   ],
   "source": [
    "d4[1]"
   ]
  },
  {
   "cell_type": "code",
   "execution_count": 12,
   "id": "47e56ef4",
   "metadata": {},
   "outputs": [
    {
     "data": {
      "text/plain": [
       "3"
      ]
     },
     "execution_count": 12,
     "metadata": {},
     "output_type": "execute_result"
    }
   ],
   "source": [
    "d4[2]"
   ]
  },
  {
   "cell_type": "code",
   "execution_count": 13,
   "id": "cf38c4fe",
   "metadata": {},
   "outputs": [
    {
     "data": {
      "text/plain": [
       "'ankit'"
      ]
     },
     "execution_count": 13,
     "metadata": {},
     "output_type": "execute_result"
    }
   ],
   "source": [
    "d4['++*']"
   ]
  },
  {
   "cell_type": "code",
   "execution_count": 15,
   "id": "ccc1a681",
   "metadata": {},
   "outputs": [
    {
     "data": {
      "text/plain": [
       "2"
      ]
     },
     "execution_count": 15,
     "metadata": {},
     "output_type": "execute_result"
    }
   ],
   "source": [
    "d4['k1']['k1']"
   ]
  },
  {
   "cell_type": "code",
   "execution_count": 20,
   "id": "1a7b88d3",
   "metadata": {},
   "outputs": [
    {
     "data": {
      "text/plain": [
       "dict_keys([1, 2, '++*', 'k1'])"
      ]
     },
     "execution_count": 20,
     "metadata": {},
     "output_type": "execute_result"
    }
   ],
   "source": [
    "d4.keys()  # access all the keys "
   ]
  },
  {
   "cell_type": "code",
   "execution_count": 21,
   "id": "6b5e31d8",
   "metadata": {},
   "outputs": [
    {
     "data": {
      "text/plain": [
       "dict_values(['a', 3, 'ankit', {'k1': 2, 'k2': 4}])"
      ]
     },
     "execution_count": 21,
     "metadata": {},
     "output_type": "execute_result"
    }
   ],
   "source": [
    "d4.values()  # access all the values"
   ]
  },
  {
   "cell_type": "code",
   "execution_count": 22,
   "id": "bd2e3c0c",
   "metadata": {},
   "outputs": [
    {
     "data": {
      "text/plain": [
       "dict_items([(1, 'a'), (2, 3), ('++*', 'ankit'), ('k1', {'k1': 2, 'k2': 4})])"
      ]
     },
     "execution_count": 22,
     "metadata": {},
     "output_type": "execute_result"
    }
   ],
   "source": [
    "d4.items()  # access all elements of dictionary inside list containing tuples with key and value"
   ]
  },
  {
   "cell_type": "code",
   "execution_count": 26,
   "id": "65c01c13",
   "metadata": {},
   "outputs": [
    {
     "data": {
      "text/plain": [
       "{1: 'a', 2: 3, '++*': 'ankit', 'k1': {'k1': 2, 'k2': 4}}"
      ]
     },
     "execution_count": 26,
     "metadata": {},
     "output_type": "execute_result"
    }
   ],
   "source": [
    "d4"
   ]
  },
  {
   "cell_type": "code",
   "execution_count": 29,
   "id": "b3617f05",
   "metadata": {},
   "outputs": [],
   "source": [
    "d4['key2']=\"shivane\"  # if you are assigning some values to a key and that key is not present in dictionary then it will add new key to the dictionary and if key is present then it will change the value of that key"
   ]
  },
  {
   "cell_type": "code",
   "execution_count": 30,
   "id": "d1c26c90",
   "metadata": {},
   "outputs": [
    {
     "data": {
      "text/plain": [
       "{1: 'a', 2: 3, '++*': 'ankit', 'k1': {'k1': 2, 'k2': 4}, 'key2': 'shivane'}"
      ]
     },
     "execution_count": 30,
     "metadata": {},
     "output_type": "execute_result"
    }
   ],
   "source": [
    "d4"
   ]
  },
  {
   "cell_type": "code",
   "execution_count": 33,
   "id": "f4b004bd",
   "metadata": {},
   "outputs": [],
   "source": [
    "d4['key2']='ankit'  # update existing key"
   ]
  },
  {
   "cell_type": "code",
   "execution_count": 34,
   "id": "7f5aee1f",
   "metadata": {},
   "outputs": [
    {
     "data": {
      "text/plain": [
       "{1: 'a', 2: 3, '++*': 'ankit', 'k1': {'k1': 2, 'k2': 4}, 'key2': 'ankit'}"
      ]
     },
     "execution_count": 34,
     "metadata": {},
     "output_type": "execute_result"
    }
   ],
   "source": [
    "d4"
   ]
  },
  {
   "cell_type": "code",
   "execution_count": null,
   "id": "bb9a40e3",
   "metadata": {},
   "outputs": [],
   "source": []
  },
  {
   "cell_type": "code",
   "execution_count": 37,
   "id": "d0ceff5c",
   "metadata": {},
   "outputs": [
    {
     "ename": "KeyError",
     "evalue": "'key2'",
     "output_type": "error",
     "traceback": [
      "\u001b[1;31m---------------------------------------------------------------------------\u001b[0m",
      "\u001b[1;31mKeyError\u001b[0m                                  Traceback (most recent call last)",
      "\u001b[1;32m~\\AppData\\Local\\Temp/ipykernel_4224/174980861.py\u001b[0m in \u001b[0;36m<module>\u001b[1;34m\u001b[0m\n\u001b[1;32m----> 1\u001b[1;33m \u001b[1;32mdel\u001b[0m \u001b[0md4\u001b[0m\u001b[1;33m[\u001b[0m\u001b[1;34m'key2'\u001b[0m\u001b[1;33m]\u001b[0m  \u001b[1;31m## delete a key from dictionary\u001b[0m\u001b[1;33m\u001b[0m\u001b[1;33m\u001b[0m\u001b[0m\n\u001b[0m",
      "\u001b[1;31mKeyError\u001b[0m: 'key2'"
     ]
    }
   ],
   "source": [
    "del d4['key2']  ## delete a key from dictionary"
   ]
  },
  {
   "cell_type": "code",
   "execution_count": 38,
   "id": "445d42b7",
   "metadata": {},
   "outputs": [
    {
     "data": {
      "text/plain": [
       "{1: 'a', 2: 3, '++*': 'ankit', 'k1': {'k1': 2, 'k2': 4}}"
      ]
     },
     "execution_count": 38,
     "metadata": {},
     "output_type": "execute_result"
    }
   ],
   "source": [
    "d4"
   ]
  },
  {
   "cell_type": "code",
   "execution_count": 41,
   "id": "a6f7c609",
   "metadata": {},
   "outputs": [
    {
     "ename": "NameError",
     "evalue": "name 'd4' is not defined",
     "output_type": "error",
     "traceback": [
      "\u001b[1;31m---------------------------------------------------------------------------\u001b[0m",
      "\u001b[1;31mNameError\u001b[0m                                 Traceback (most recent call last)",
      "\u001b[1;32m~\\AppData\\Local\\Temp/ipykernel_4224/338618757.py\u001b[0m in \u001b[0;36m<module>\u001b[1;34m\u001b[0m\n\u001b[1;32m----> 1\u001b[1;33m \u001b[1;32mdel\u001b[0m \u001b[0md4\u001b[0m  \u001b[1;31m# delete entire dictionary\u001b[0m\u001b[1;33m\u001b[0m\u001b[1;33m\u001b[0m\u001b[0m\n\u001b[0m",
      "\u001b[1;31mNameError\u001b[0m: name 'd4' is not defined"
     ]
    }
   ],
   "source": [
    "del d4  # delete entire dictionary"
   ]
  },
  {
   "cell_type": "code",
   "execution_count": 40,
   "id": "5edc2d72",
   "metadata": {},
   "outputs": [
    {
     "ename": "NameError",
     "evalue": "name 'd4' is not defined",
     "output_type": "error",
     "traceback": [
      "\u001b[1;31m---------------------------------------------------------------------------\u001b[0m",
      "\u001b[1;31mNameError\u001b[0m                                 Traceback (most recent call last)",
      "\u001b[1;32m~\\AppData\\Local\\Temp/ipykernel_4224/1713583471.py\u001b[0m in \u001b[0;36m<module>\u001b[1;34m\u001b[0m\n\u001b[1;32m----> 1\u001b[1;33m \u001b[0md4\u001b[0m\u001b[1;33m\u001b[0m\u001b[1;33m\u001b[0m\u001b[0m\n\u001b[0m",
      "\u001b[1;31mNameError\u001b[0m: name 'd4' is not defined"
     ]
    }
   ],
   "source": [
    "d4"
   ]
  },
  {
   "cell_type": "code",
   "execution_count": 42,
   "id": "f43a87c8",
   "metadata": {},
   "outputs": [],
   "source": [
    "d5={'l1':2,'l2':12}"
   ]
  },
  {
   "cell_type": "code",
   "execution_count": 44,
   "id": "059a2fa6",
   "metadata": {},
   "outputs": [
    {
     "ename": "TypeError",
     "evalue": "unhashable type: 'list'",
     "output_type": "error",
     "traceback": [
      "\u001b[1;31m---------------------------------------------------------------------------\u001b[0m",
      "\u001b[1;31mTypeError\u001b[0m                                 Traceback (most recent call last)",
      "\u001b[1;32m~\\AppData\\Local\\Temp/ipykernel_4224/4075252885.py\u001b[0m in \u001b[0;36m<module>\u001b[1;34m\u001b[0m\n\u001b[1;32m----> 1\u001b[1;33m \u001b[0md5\u001b[0m\u001b[1;33m[\u001b[0m\u001b[1;33m[\u001b[0m\u001b[1;36m1\u001b[0m\u001b[1;33m,\u001b[0m\u001b[1;36m2\u001b[0m\u001b[1;33m,\u001b[0m\u001b[1;36m3\u001b[0m\u001b[1;33m]\u001b[0m\u001b[1;33m]\u001b[0m\u001b[1;33m=\u001b[0m\u001b[1;34m'ankit'\u001b[0m  \u001b[1;31m## we cannot create a key as a list as the key it is not a immutable collection\u001b[0m\u001b[1;33m\u001b[0m\u001b[1;33m\u001b[0m\u001b[0m\n\u001b[0m",
      "\u001b[1;31mTypeError\u001b[0m: unhashable type: 'list'"
     ]
    }
   ],
   "source": [
    "d5[[1,2,3]]='ankit'  ## we cannot create a key as a list as the key it is not a immutable collection"
   ]
  },
  {
   "cell_type": "code",
   "execution_count": 47,
   "id": "eaafee5a",
   "metadata": {},
   "outputs": [],
   "source": [
    "d5[(1,2,3)]='ankit' # but we can create a key as a tuple as it is a immutable collection"
   ]
  },
  {
   "cell_type": "code",
   "execution_count": 48,
   "id": "fc8ad11b",
   "metadata": {},
   "outputs": [
    {
     "data": {
      "text/plain": [
       "{'l1': 2, 'l2': 12, (1, 2, 3): 'ankit'}"
      ]
     },
     "execution_count": 48,
     "metadata": {},
     "output_type": "execute_result"
    }
   ],
   "source": [
    "d5"
   ]
  },
  {
   "cell_type": "code",
   "execution_count": 50,
   "id": "4c89226b",
   "metadata": {},
   "outputs": [
    {
     "ename": "TypeError",
     "evalue": "unhashable type: 'set'",
     "output_type": "error",
     "traceback": [
      "\u001b[1;31m---------------------------------------------------------------------------\u001b[0m",
      "\u001b[1;31mTypeError\u001b[0m                                 Traceback (most recent call last)",
      "\u001b[1;32m~\\AppData\\Local\\Temp/ipykernel_4224/3610160091.py\u001b[0m in \u001b[0;36m<module>\u001b[1;34m\u001b[0m\n\u001b[1;32m----> 1\u001b[1;33m \u001b[0md5\u001b[0m\u001b[1;33m[\u001b[0m\u001b[1;33m{\u001b[0m\u001b[1;36m1\u001b[0m\u001b[1;33m,\u001b[0m\u001b[1;36m2\u001b[0m\u001b[1;33m,\u001b[0m\u001b[1;36m3\u001b[0m\u001b[1;33m,\u001b[0m\u001b[1;36m4\u001b[0m\u001b[1;33m}\u001b[0m\u001b[1;33m]\u001b[0m\u001b[1;33m=\u001b[0m\u001b[1;34m'set'\u001b[0m  \u001b[1;31m# set is also a mutable collection so we cannot add it as a key\u001b[0m\u001b[1;33m\u001b[0m\u001b[1;33m\u001b[0m\u001b[0m\n\u001b[0m",
      "\u001b[1;31mTypeError\u001b[0m: unhashable type: 'set'"
     ]
    }
   ],
   "source": [
    "d5[{1,2,3,4}]='set'  # set is also a mutable collection so we cannot add it as a key"
   ]
  },
  {
   "cell_type": "code",
   "execution_count": null,
   "id": "d8361f5f",
   "metadata": {},
   "outputs": [],
   "source": []
  },
  {
   "cell_type": "code",
   "execution_count": 53,
   "id": "4a099b59",
   "metadata": {},
   "outputs": [
    {
     "data": {
      "text/plain": [
       "2"
      ]
     },
     "execution_count": 53,
     "metadata": {},
     "output_type": "execute_result"
    }
   ],
   "source": [
    "d5.get('l1')  ## get value from key l1"
   ]
  },
  {
   "cell_type": "code",
   "execution_count": 54,
   "id": "a22be709",
   "metadata": {},
   "outputs": [],
   "source": [
    "d6={'k1':'ineuron','k2':'krish'}"
   ]
  },
  {
   "cell_type": "code",
   "execution_count": 58,
   "id": "bb164f33",
   "metadata": {},
   "outputs": [],
   "source": [
    "d5.update(d6) ## combine two dictionary or update value of d6 to d5"
   ]
  },
  {
   "cell_type": "code",
   "execution_count": 60,
   "id": "2825571f",
   "metadata": {},
   "outputs": [
    {
     "data": {
      "text/plain": [
       "{'l1': 2, 'l2': 12, (1, 2, 3): 'ankit', 'k1': 'ineuron', 'k2': 'krish'}"
      ]
     },
     "execution_count": 60,
     "metadata": {},
     "output_type": "execute_result"
    }
   ],
   "source": [
    "d5"
   ]
  },
  {
   "cell_type": "code",
   "execution_count": 62,
   "id": "230985ee",
   "metadata": {},
   "outputs": [],
   "source": [
    "key=(\"name\",'surname','mobile_no')\n",
    "value='some default'"
   ]
  },
  {
   "cell_type": "code",
   "execution_count": 65,
   "id": "5243705e",
   "metadata": {},
   "outputs": [],
   "source": [
    "d6=d5.fromkeys(key,value)  ## it will create dictionary from given key and value"
   ]
  },
  {
   "cell_type": "code",
   "execution_count": 66,
   "id": "e5fa380b",
   "metadata": {},
   "outputs": [
    {
     "data": {
      "text/plain": [
       "{'name': 'some default',\n",
       " 'surname': 'some default',\n",
       " 'mobile_no': 'some default'}"
      ]
     },
     "execution_count": 66,
     "metadata": {},
     "output_type": "execute_result"
    }
   ],
   "source": [
    "d6"
   ]
  },
  {
   "cell_type": "code",
   "execution_count": 70,
   "id": "b99bcca9",
   "metadata": {},
   "outputs": [],
   "source": [
    "d7={}.fromkeys(key,value)  ## it requires a dictionary to call a function fromkeys"
   ]
  },
  {
   "cell_type": "code",
   "execution_count": 71,
   "id": "67e57807",
   "metadata": {},
   "outputs": [
    {
     "data": {
      "text/plain": [
       "{'name': 'some default',\n",
       " 'surname': 'some default',\n",
       " 'mobile_no': 'some default'}"
      ]
     },
     "execution_count": 71,
     "metadata": {},
     "output_type": "execute_result"
    }
   ],
   "source": [
    "d7"
   ]
  },
  {
   "cell_type": "code",
   "execution_count": null,
   "id": "5b735e18",
   "metadata": {},
   "outputs": [],
   "source": []
  },
  {
   "cell_type": "code",
   "execution_count": 74,
   "id": "1866a4cb",
   "metadata": {},
   "outputs": [],
   "source": [
    "t1={1}"
   ]
  },
  {
   "cell_type": "code",
   "execution_count": 75,
   "id": "34a1e2ef",
   "metadata": {},
   "outputs": [
    {
     "data": {
      "text/plain": [
       "set"
      ]
     },
     "execution_count": 75,
     "metadata": {},
     "output_type": "execute_result"
    }
   ],
   "source": [
    "type(t1)"
   ]
  },
  {
   "cell_type": "code",
   "execution_count": null,
   "id": "2437e654",
   "metadata": {},
   "outputs": [],
   "source": []
  }
 ],
 "metadata": {
  "kernelspec": {
   "display_name": "Python 3 (ipykernel)",
   "language": "python",
   "name": "python3"
  },
  "language_info": {
   "codemirror_mode": {
    "name": "ipython",
    "version": 3
   },
   "file_extension": ".py",
   "mimetype": "text/x-python",
   "name": "python",
   "nbconvert_exporter": "python",
   "pygments_lexer": "ipython3",
   "version": "3.9.7"
  }
 },
 "nbformat": 4,
 "nbformat_minor": 5
}
