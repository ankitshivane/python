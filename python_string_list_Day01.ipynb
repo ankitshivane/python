{
 "cells": [
  {
   "cell_type": "code",
   "execution_count": 2,
   "id": "b5fe4f65",
   "metadata": {},
   "outputs": [],
   "source": [
    "a=1+1"
   ]
  },
  {
   "cell_type": "code",
   "execution_count": 3,
   "id": "90cc0f48",
   "metadata": {},
   "outputs": [
    {
     "data": {
      "text/plain": [
       "2"
      ]
     },
     "execution_count": 3,
     "metadata": {},
     "output_type": "execute_result"
    }
   ],
   "source": [
    "a"
   ]
  },
  {
   "cell_type": "code",
   "execution_count": 10,
   "id": "de5dc9ce",
   "metadata": {},
   "outputs": [],
   "source": [
    "d=4+2j"
   ]
  },
  {
   "cell_type": "code",
   "execution_count": 11,
   "id": "ff91c517",
   "metadata": {},
   "outputs": [
    {
     "data": {
      "text/plain": [
       "4.0"
      ]
     },
     "execution_count": 11,
     "metadata": {},
     "output_type": "execute_result"
    }
   ],
   "source": [
    "d.real"
   ]
  },
  {
   "cell_type": "code",
   "execution_count": 12,
   "id": "4858811c",
   "metadata": {},
   "outputs": [
    {
     "data": {
      "text/plain": [
       "2.0"
      ]
     },
     "execution_count": 12,
     "metadata": {},
     "output_type": "execute_result"
    }
   ],
   "source": [
    "d.imag"
   ]
  },
  {
   "cell_type": "code",
   "execution_count": 13,
   "id": "05106348",
   "metadata": {},
   "outputs": [
    {
     "data": {
      "text/plain": [
       "complex"
      ]
     },
     "execution_count": 13,
     "metadata": {},
     "output_type": "execute_result"
    }
   ],
   "source": [
    "type(d)"
   ]
  },
  {
   "cell_type": "code",
   "execution_count": 16,
   "id": "1b0f4102",
   "metadata": {},
   "outputs": [
    {
     "data": {
      "text/plain": [
       "bool"
      ]
     },
     "execution_count": 16,
     "metadata": {},
     "output_type": "execute_result"
    }
   ],
   "source": [
    "type(True)"
   ]
  },
  {
   "cell_type": "code",
   "execution_count": 19,
   "id": "387cd21f",
   "metadata": {},
   "outputs": [
    {
     "data": {
      "text/plain": [
       "1"
      ]
     },
     "execution_count": 19,
     "metadata": {},
     "output_type": "execute_result"
    }
   ],
   "source": [
    "True+False"
   ]
  },
  {
   "cell_type": "code",
   "execution_count": 20,
   "id": "f0f18584",
   "metadata": {},
   "outputs": [
    {
     "data": {
      "text/plain": [
       "False"
      ]
     },
     "execution_count": 20,
     "metadata": {},
     "output_type": "execute_result"
    }
   ],
   "source": [
    "False"
   ]
  },
  {
   "cell_type": "code",
   "execution_count": 21,
   "id": "a64dd083",
   "metadata": {},
   "outputs": [
    {
     "data": {
      "text/plain": [
       "0"
      ]
     },
     "execution_count": 21,
     "metadata": {},
     "output_type": "execute_result"
    }
   ],
   "source": [
    "False+False"
   ]
  },
  {
   "cell_type": "code",
   "execution_count": 22,
   "id": "71f40478",
   "metadata": {},
   "outputs": [
    {
     "data": {
      "text/plain": [
       "float"
      ]
     },
     "execution_count": 22,
     "metadata": {},
     "output_type": "execute_result"
    }
   ],
   "source": [
    "type(2.2)"
   ]
  },
  {
   "cell_type": "code",
   "execution_count": 23,
   "id": "1459887d",
   "metadata": {},
   "outputs": [
    {
     "data": {
      "text/plain": [
       "int"
      ]
     },
     "execution_count": 23,
     "metadata": {},
     "output_type": "execute_result"
    }
   ],
   "source": [
    "type(2)"
   ]
  },
  {
   "cell_type": "code",
   "execution_count": 36,
   "id": "1c48ba55",
   "metadata": {},
   "outputs": [],
   "source": [
    "q,a=10,1.2"
   ]
  },
  {
   "cell_type": "code",
   "execution_count": 38,
   "id": "6e676f24",
   "metadata": {},
   "outputs": [
    {
     "data": {
      "text/plain": [
       "float"
      ]
     },
     "execution_count": 38,
     "metadata": {},
     "output_type": "execute_result"
    }
   ],
   "source": [
    "type(a)"
   ]
  },
  {
   "cell_type": "code",
   "execution_count": 49,
   "id": "61dc3858",
   "metadata": {},
   "outputs": [],
   "source": [
    "a,b,c,d,e=1,2.3,\"Ankit\",2+3j,False"
   ]
  },
  {
   "cell_type": "code",
   "execution_count": 50,
   "id": "adbc1a7d",
   "metadata": {},
   "outputs": [
    {
     "data": {
      "text/plain": [
       "complex"
      ]
     },
     "execution_count": 50,
     "metadata": {},
     "output_type": "execute_result"
    }
   ],
   "source": [
    "type(d)"
   ]
  },
  {
   "cell_type": "code",
   "execution_count": 51,
   "id": "289b8880",
   "metadata": {},
   "outputs": [
    {
     "data": {
      "text/plain": [
       "str"
      ]
     },
     "execution_count": 51,
     "metadata": {},
     "output_type": "execute_result"
    }
   ],
   "source": [
    "type(c)"
   ]
  },
  {
   "cell_type": "code",
   "execution_count": 52,
   "id": "16f96583",
   "metadata": {},
   "outputs": [
    {
     "data": {
      "text/plain": [
       "float"
      ]
     },
     "execution_count": 52,
     "metadata": {},
     "output_type": "execute_result"
    }
   ],
   "source": [
    "type(b)"
   ]
  },
  {
   "cell_type": "code",
   "execution_count": 53,
   "id": "1f57092b",
   "metadata": {},
   "outputs": [
    {
     "data": {
      "text/plain": [
       "bool"
      ]
     },
     "execution_count": 53,
     "metadata": {},
     "output_type": "execute_result"
    }
   ],
   "source": [
    "type(e)"
   ]
  },
  {
   "cell_type": "code",
   "execution_count": 54,
   "id": "c85f6875",
   "metadata": {},
   "outputs": [],
   "source": [
    "st=\"ankit\""
   ]
  },
  {
   "cell_type": "code",
   "execution_count": 56,
   "id": "427bee4b",
   "metadata": {},
   "outputs": [
    {
     "data": {
      "text/plain": [
       "'ankit4'"
      ]
     },
     "execution_count": 56,
     "metadata": {},
     "output_type": "execute_result"
    }
   ],
   "source": [
    "st+str(4)"
   ]
  },
  {
   "cell_type": "code",
   "execution_count": 57,
   "id": "bb0b3fa9",
   "metadata": {},
   "outputs": [],
   "source": [
    "s='3'"
   ]
  },
  {
   "cell_type": "code",
   "execution_count": 59,
   "id": "af7a1b9a",
   "metadata": {},
   "outputs": [
    {
     "data": {
      "text/plain": [
       "6"
      ]
     },
     "execution_count": 59,
     "metadata": {},
     "output_type": "execute_result"
    }
   ],
   "source": [
    "3+int(s)"
   ]
  },
  {
   "cell_type": "code",
   "execution_count": 60,
   "id": "4d5305f8",
   "metadata": {},
   "outputs": [
    {
     "data": {
      "text/plain": [
       "2"
      ]
     },
     "execution_count": 60,
     "metadata": {},
     "output_type": "execute_result"
    }
   ],
   "source": [
    "1+True"
   ]
  },
  {
   "cell_type": "code",
   "execution_count": 65,
   "id": "5189933a",
   "metadata": {},
   "outputs": [
    {
     "name": "stdout",
     "output_type": "stream",
     "text": [
      "Hi\n"
     ]
    }
   ],
   "source": [
    "if(False):\n",
    "    print(\"Hello\")\n",
    "else:\n",
    "    print(\"Hi\")"
   ]
  },
  {
   "cell_type": "code",
   "execution_count": 66,
   "id": "7e8b762a",
   "metadata": {},
   "outputs": [
    {
     "name": "stdout",
     "output_type": "stream",
     "text": [
      "Ankit\n"
     ]
    },
    {
     "data": {
      "text/plain": [
       "'Ankit'"
      ]
     },
     "execution_count": 66,
     "metadata": {},
     "output_type": "execute_result"
    }
   ],
   "source": [
    "input()"
   ]
  },
  {
   "cell_type": "code",
   "execution_count": 67,
   "id": "97e566bc",
   "metadata": {},
   "outputs": [
    {
     "name": "stdout",
     "output_type": "stream",
     "text": [
      "User\n"
     ]
    }
   ],
   "source": [
    "name=input()"
   ]
  },
  {
   "cell_type": "code",
   "execution_count": 68,
   "id": "e7ac76ef",
   "metadata": {},
   "outputs": [
    {
     "data": {
      "text/plain": [
       "'User'"
      ]
     },
     "execution_count": 68,
     "metadata": {},
     "output_type": "execute_result"
    }
   ],
   "source": [
    "name"
   ]
  },
  {
   "cell_type": "code",
   "execution_count": 69,
   "id": "6005fed8",
   "metadata": {},
   "outputs": [
    {
     "name": "stdout",
     "output_type": "stream",
     "text": [
      "21212\n"
     ]
    }
   ],
   "source": [
    "num=input()"
   ]
  },
  {
   "cell_type": "code",
   "execution_count": 70,
   "id": "f8b3b895",
   "metadata": {},
   "outputs": [
    {
     "data": {
      "text/plain": [
       "'21212'"
      ]
     },
     "execution_count": 70,
     "metadata": {},
     "output_type": "execute_result"
    }
   ],
   "source": [
    "num"
   ]
  },
  {
   "cell_type": "code",
   "execution_count": 71,
   "id": "a42f9f7d",
   "metadata": {},
   "outputs": [
    {
     "data": {
      "text/plain": [
       "str"
      ]
     },
     "execution_count": 71,
     "metadata": {},
     "output_type": "execute_result"
    }
   ],
   "source": [
    "type(num)"
   ]
  },
  {
   "cell_type": "code",
   "execution_count": 72,
   "id": "24084b26",
   "metadata": {},
   "outputs": [
    {
     "data": {
      "text/plain": [
       "21212"
      ]
     },
     "execution_count": 72,
     "metadata": {},
     "output_type": "execute_result"
    }
   ],
   "source": [
    "int(num)"
   ]
  },
  {
   "cell_type": "code",
   "execution_count": 73,
   "id": "d4ff0738",
   "metadata": {},
   "outputs": [
    {
     "data": {
      "text/plain": [
       "21212.0"
      ]
     },
     "execution_count": 73,
     "metadata": {},
     "output_type": "execute_result"
    }
   ],
   "source": [
    "float(num)"
   ]
  },
  {
   "cell_type": "code",
   "execution_count": 74,
   "id": "6c698763",
   "metadata": {},
   "outputs": [
    {
     "data": {
      "text/plain": [
       "True"
      ]
     },
     "execution_count": 74,
     "metadata": {},
     "output_type": "execute_result"
    }
   ],
   "source": [
    "bool(num)"
   ]
  },
  {
   "cell_type": "code",
   "execution_count": 91,
   "id": "742d4928",
   "metadata": {},
   "outputs": [
    {
     "name": "stdout",
     "output_type": "stream",
     "text": [
      "0\n"
     ]
    }
   ],
   "source": [
    "boolean=input()"
   ]
  },
  {
   "cell_type": "code",
   "execution_count": 92,
   "id": "f97a67ca",
   "metadata": {},
   "outputs": [
    {
     "data": {
      "text/plain": [
       "'0'"
      ]
     },
     "execution_count": 92,
     "metadata": {},
     "output_type": "execute_result"
    }
   ],
   "source": [
    "boolean"
   ]
  },
  {
   "cell_type": "code",
   "execution_count": 93,
   "id": "2b4b33aa",
   "metadata": {},
   "outputs": [
    {
     "data": {
      "text/plain": [
       "True"
      ]
     },
     "execution_count": 93,
     "metadata": {},
     "output_type": "execute_result"
    }
   ],
   "source": [
    "bool(boolean)"
   ]
  },
  {
   "cell_type": "code",
   "execution_count": null,
   "id": "9dcfe84f",
   "metadata": {},
   "outputs": [],
   "source": []
  },
  {
   "cell_type": "code",
   "execution_count": 94,
   "id": "172746f9",
   "metadata": {},
   "outputs": [
    {
     "data": {
      "text/plain": [
       "0"
      ]
     },
     "execution_count": 94,
     "metadata": {},
     "output_type": "execute_result"
    }
   ],
   "source": [
    "False+False"
   ]
  },
  {
   "cell_type": "code",
   "execution_count": 97,
   "id": "c32493a9",
   "metadata": {},
   "outputs": [],
   "source": [
    "a='Ankit'"
   ]
  },
  {
   "cell_type": "code",
   "execution_count": 98,
   "id": "dbae8130",
   "metadata": {},
   "outputs": [
    {
     "data": {
      "text/plain": [
       "1416323967024"
      ]
     },
     "execution_count": 98,
     "metadata": {},
     "output_type": "execute_result"
    }
   ],
   "source": [
    "id(a)"
   ]
  },
  {
   "cell_type": "code",
   "execution_count": 99,
   "id": "492a4db7",
   "metadata": {},
   "outputs": [],
   "source": [
    "a='Shivane'"
   ]
  },
  {
   "cell_type": "code",
   "execution_count": 100,
   "id": "b02c737e",
   "metadata": {},
   "outputs": [
    {
     "data": {
      "text/plain": [
       "1416357065648"
      ]
     },
     "execution_count": 100,
     "metadata": {},
     "output_type": "execute_result"
    }
   ],
   "source": [
    "id(a)"
   ]
  },
  {
   "cell_type": "code",
   "execution_count": 101,
   "id": "dd0dd22f",
   "metadata": {},
   "outputs": [],
   "source": [
    "i=1"
   ]
  },
  {
   "cell_type": "code",
   "execution_count": 102,
   "id": "45c2df40",
   "metadata": {},
   "outputs": [
    {
     "data": {
      "text/plain": [
       "1416243079472"
      ]
     },
     "execution_count": 102,
     "metadata": {},
     "output_type": "execute_result"
    }
   ],
   "source": [
    "id(i)"
   ]
  },
  {
   "cell_type": "code",
   "execution_count": 103,
   "id": "7843b10b",
   "metadata": {},
   "outputs": [],
   "source": [
    "i=3"
   ]
  },
  {
   "cell_type": "code",
   "execution_count": 104,
   "id": "b9d19882",
   "metadata": {},
   "outputs": [
    {
     "data": {
      "text/plain": [
       "1416243079536"
      ]
     },
     "execution_count": 104,
     "metadata": {},
     "output_type": "execute_result"
    }
   ],
   "source": [
    "id(i)"
   ]
  },
  {
   "cell_type": "markdown",
   "id": "7c1622b9",
   "metadata": {},
   "source": [
    "# String practice"
   ]
  },
  {
   "cell_type": "code",
   "execution_count": 105,
   "id": "db79da81",
   "metadata": {},
   "outputs": [],
   "source": [
    "name='ankit'"
   ]
  },
  {
   "cell_type": "code",
   "execution_count": 106,
   "id": "4a71adca",
   "metadata": {},
   "outputs": [
    {
     "data": {
      "text/plain": [
       "'a'"
      ]
     },
     "execution_count": 106,
     "metadata": {},
     "output_type": "execute_result"
    }
   ],
   "source": [
    "name[0]"
   ]
  },
  {
   "cell_type": "code",
   "execution_count": 107,
   "id": "aee8c337",
   "metadata": {},
   "outputs": [
    {
     "data": {
      "text/plain": [
       "'n'"
      ]
     },
     "execution_count": 107,
     "metadata": {},
     "output_type": "execute_result"
    }
   ],
   "source": [
    "name[1]"
   ]
  },
  {
   "cell_type": "code",
   "execution_count": 108,
   "id": "8f5be08c",
   "metadata": {},
   "outputs": [
    {
     "data": {
      "text/plain": [
       "'t'"
      ]
     },
     "execution_count": 108,
     "metadata": {},
     "output_type": "execute_result"
    }
   ],
   "source": [
    "name[4]"
   ]
  },
  {
   "cell_type": "code",
   "execution_count": 110,
   "id": "f3b7ed24",
   "metadata": {},
   "outputs": [
    {
     "data": {
      "text/plain": [
       "'t'"
      ]
     },
     "execution_count": 110,
     "metadata": {},
     "output_type": "execute_result"
    }
   ],
   "source": [
    "name[-1]"
   ]
  },
  {
   "cell_type": "code",
   "execution_count": 112,
   "id": "825bcb90",
   "metadata": {},
   "outputs": [
    {
     "data": {
      "text/plain": [
       "'k'"
      ]
     },
     "execution_count": 112,
     "metadata": {},
     "output_type": "execute_result"
    }
   ],
   "source": [
    "name[-3]"
   ]
  },
  {
   "cell_type": "code",
   "execution_count": 123,
   "id": "d413e78f",
   "metadata": {},
   "outputs": [],
   "source": [
    "s='my name is ankit'"
   ]
  },
  {
   "cell_type": "code",
   "execution_count": 124,
   "id": "5840df12",
   "metadata": {},
   "outputs": [
    {
     "data": {
      "text/plain": [
       "'y '"
      ]
     },
     "execution_count": 124,
     "metadata": {},
     "output_type": "execute_result"
    }
   ],
   "source": [
    "s[1:3]"
   ]
  },
  {
   "cell_type": "code",
   "execution_count": 125,
   "id": "9aa73525",
   "metadata": {},
   "outputs": [
    {
     "data": {
      "text/plain": [
       "'my name is'"
      ]
     },
     "execution_count": 125,
     "metadata": {},
     "output_type": "execute_result"
    }
   ],
   "source": [
    "s[0:10]"
   ]
  },
  {
   "cell_type": "code",
   "execution_count": 126,
   "id": "1693d995",
   "metadata": {},
   "outputs": [
    {
     "data": {
      "text/plain": [
       "16"
      ]
     },
     "execution_count": 126,
     "metadata": {},
     "output_type": "execute_result"
    }
   ],
   "source": [
    "len(s)"
   ]
  },
  {
   "cell_type": "code",
   "execution_count": 128,
   "id": "94e89bca",
   "metadata": {},
   "outputs": [
    {
     "data": {
      "text/plain": [
       "'t'"
      ]
     },
     "execution_count": 128,
     "metadata": {},
     "output_type": "execute_result"
    }
   ],
   "source": [
    "s[15]"
   ]
  },
  {
   "cell_type": "code",
   "execution_count": 118,
   "id": "2492dc63",
   "metadata": {},
   "outputs": [
    {
     "data": {
      "text/plain": [
       "'my name is ankit'"
      ]
     },
     "execution_count": 118,
     "metadata": {},
     "output_type": "execute_result"
    }
   ],
   "source": [
    "s[0:len(s)]"
   ]
  },
  {
   "cell_type": "code",
   "execution_count": 129,
   "id": "781091db",
   "metadata": {},
   "outputs": [],
   "source": [
    "b='ineuron'"
   ]
  },
  {
   "cell_type": "code",
   "execution_count": 130,
   "id": "81af1583",
   "metadata": {},
   "outputs": [
    {
     "data": {
      "text/plain": [
       "'ineuron'"
      ]
     },
     "execution_count": 130,
     "metadata": {},
     "output_type": "execute_result"
    }
   ],
   "source": [
    "b[0:300]"
   ]
  },
  {
   "cell_type": "code",
   "execution_count": 138,
   "id": "867fe692",
   "metadata": {},
   "outputs": [
    {
     "data": {
      "text/plain": [
       "7"
      ]
     },
     "execution_count": 138,
     "metadata": {},
     "output_type": "execute_result"
    }
   ],
   "source": [
    "len(b)"
   ]
  },
  {
   "cell_type": "code",
   "execution_count": 131,
   "id": "9e967674",
   "metadata": {},
   "outputs": [
    {
     "data": {
      "text/plain": [
       "'ineuro'"
      ]
     },
     "execution_count": 131,
     "metadata": {},
     "output_type": "execute_result"
    }
   ],
   "source": [
    "b[0:-1]"
   ]
  },
  {
   "cell_type": "code",
   "execution_count": 132,
   "id": "91e12609",
   "metadata": {},
   "outputs": [
    {
     "data": {
      "text/plain": [
       "''"
      ]
     },
     "execution_count": 132,
     "metadata": {},
     "output_type": "execute_result"
    }
   ],
   "source": [
    "b[-1:4]"
   ]
  },
  {
   "cell_type": "code",
   "execution_count": 136,
   "id": "5a2a9048",
   "metadata": {},
   "outputs": [
    {
     "data": {
      "text/plain": [
       "'u'"
      ]
     },
     "execution_count": 136,
     "metadata": {},
     "output_type": "execute_result"
    }
   ],
   "source": [
    "b[-4]"
   ]
  },
  {
   "cell_type": "code",
   "execution_count": 140,
   "id": "ec9ad0c8",
   "metadata": {},
   "outputs": [
    {
     "data": {
      "text/plain": [
       "'ineuron'"
      ]
     },
     "execution_count": 140,
     "metadata": {},
     "output_type": "execute_result"
    }
   ],
   "source": [
    "b[0:7:1]"
   ]
  },
  {
   "cell_type": "code",
   "execution_count": 141,
   "id": "fd748599",
   "metadata": {},
   "outputs": [
    {
     "data": {
      "text/plain": [
       "'iern'"
      ]
     },
     "execution_count": 141,
     "metadata": {},
     "output_type": "execute_result"
    }
   ],
   "source": [
    "b[0:7:2]"
   ]
  },
  {
   "cell_type": "code",
   "execution_count": 143,
   "id": "f836771b",
   "metadata": {},
   "outputs": [
    {
     "data": {
      "text/plain": [
       "''"
      ]
     },
     "execution_count": 143,
     "metadata": {},
     "output_type": "execute_result"
    }
   ],
   "source": [
    "b[0:100:-1]"
   ]
  },
  {
   "cell_type": "code",
   "execution_count": 146,
   "id": "70d89a78",
   "metadata": {},
   "outputs": [
    {
     "data": {
      "text/plain": [
       "'ineuron'"
      ]
     },
     "execution_count": 146,
     "metadata": {},
     "output_type": "execute_result"
    }
   ],
   "source": [
    "b[0:11]"
   ]
  },
  {
   "cell_type": "code",
   "execution_count": 147,
   "id": "f9acda7b",
   "metadata": {},
   "outputs": [
    {
     "data": {
      "text/plain": [
       "'uro'"
      ]
     },
     "execution_count": 147,
     "metadata": {},
     "output_type": "execute_result"
    }
   ],
   "source": [
    "b[-4:-1]"
   ]
  },
  {
   "cell_type": "code",
   "execution_count": 148,
   "id": "e1972d65",
   "metadata": {},
   "outputs": [
    {
     "data": {
      "text/plain": [
       "''"
      ]
     },
     "execution_count": 148,
     "metadata": {},
     "output_type": "execute_result"
    }
   ],
   "source": [
    "b[-1:-4]"
   ]
  },
  {
   "cell_type": "code",
   "execution_count": 1,
   "id": "bff0be64",
   "metadata": {},
   "outputs": [
    {
     "data": {
      "text/plain": [
       "0.1"
      ]
     },
     "execution_count": 1,
     "metadata": {},
     "output_type": "execute_result"
    }
   ],
   "source": [
    "0.1"
   ]
  },
  {
   "cell_type": "code",
   "execution_count": 6,
   "id": "2c14882c",
   "metadata": {},
   "outputs": [],
   "source": [
    "l=\"sudh\"*3"
   ]
  },
  {
   "cell_type": "code",
   "execution_count": 11,
   "id": "f662406f",
   "metadata": {},
   "outputs": [
    {
     "data": {
      "text/plain": [
       "10"
      ]
     },
     "execution_count": 11,
     "metadata": {},
     "output_type": "execute_result"
    }
   ],
   "source": [
    "len('ank'+' '+\"shvane\")"
   ]
  },
  {
   "cell_type": "code",
   "execution_count": 8,
   "id": "02b9548a",
   "metadata": {},
   "outputs": [
    {
     "data": {
      "text/plain": [
       "12"
      ]
     },
     "execution_count": 8,
     "metadata": {},
     "output_type": "execute_result"
    }
   ],
   "source": [
    "len(l)"
   ]
  },
  {
   "cell_type": "code",
   "execution_count": 12,
   "id": "42da3acc",
   "metadata": {},
   "outputs": [],
   "source": [
    "a=\"i am workin with ineuron\""
   ]
  },
  {
   "cell_type": "code",
   "execution_count": null,
   "id": "33f12b36",
   "metadata": {},
   "outputs": [],
   "source": []
  },
  {
   "cell_type": "code",
   "execution_count": 19,
   "id": "3c60fd99",
   "metadata": {},
   "outputs": [
    {
     "data": {
      "text/plain": [
       "2"
      ]
     },
     "execution_count": 19,
     "metadata": {},
     "output_type": "execute_result"
    }
   ],
   "source": [
    "a.find('a') # find  the location of character"
   ]
  },
  {
   "cell_type": "code",
   "execution_count": 20,
   "id": "4fd55b72",
   "metadata": {},
   "outputs": [
    {
     "data": {
      "text/plain": [
       "0"
      ]
     },
     "execution_count": 20,
     "metadata": {},
     "output_type": "execute_result"
    }
   ],
   "source": [
    "a.find('i')"
   ]
  },
  {
   "cell_type": "code",
   "execution_count": 22,
   "id": "c7bfb904",
   "metadata": {},
   "outputs": [
    {
     "data": {
      "text/plain": [
       "-1"
      ]
     },
     "execution_count": 22,
     "metadata": {},
     "output_type": "execute_result"
    }
   ],
   "source": [
    "a.find('an') # if something not found  in given string it will return -1 "
   ]
  },
  {
   "cell_type": "code",
   "execution_count": 23,
   "id": "a32222f6",
   "metadata": {},
   "outputs": [
    {
     "data": {
      "text/plain": [
       "9"
      ]
     },
     "execution_count": 23,
     "metadata": {},
     "output_type": "execute_result"
    }
   ],
   "source": [
    "a.find('in')"
   ]
  },
  {
   "cell_type": "markdown",
   "id": "53ebf8ab",
   "metadata": {},
   "source": [
    "Count will return the number of occurrence of a given string"
   ]
  },
  {
   "cell_type": "code",
   "execution_count": 24,
   "id": "64fb29ca",
   "metadata": {},
   "outputs": [
    {
     "data": {
      "text/plain": [
       "4"
      ]
     },
     "execution_count": 24,
     "metadata": {},
     "output_type": "execute_result"
    }
   ],
   "source": [
    "a.count('i')"
   ]
  },
  {
   "cell_type": "code",
   "execution_count": 25,
   "id": "0017d900",
   "metadata": {},
   "outputs": [
    {
     "data": {
      "text/plain": [
       "2"
      ]
     },
     "execution_count": 25,
     "metadata": {},
     "output_type": "execute_result"
    }
   ],
   "source": [
    "a.count('in')"
   ]
  },
  {
   "cell_type": "code",
   "execution_count": 27,
   "id": "8c5aa8a2",
   "metadata": {},
   "outputs": [],
   "source": [
    "b=\"i am workining with ineuron\""
   ]
  },
  {
   "cell_type": "code",
   "execution_count": 28,
   "id": "edafb8b4",
   "metadata": {},
   "outputs": [
    {
     "data": {
      "text/plain": [
       "'i am workining with ineuron'"
      ]
     },
     "execution_count": 28,
     "metadata": {},
     "output_type": "execute_result"
    }
   ],
   "source": [
    "b"
   ]
  },
  {
   "cell_type": "code",
   "execution_count": 29,
   "id": "ab2ed4f8",
   "metadata": {},
   "outputs": [
    {
     "data": {
      "text/plain": [
       "9"
      ]
     },
     "execution_count": 29,
     "metadata": {},
     "output_type": "execute_result"
    }
   ],
   "source": [
    "b.find('in')"
   ]
  },
  {
   "cell_type": "code",
   "execution_count": 30,
   "id": "69d03066",
   "metadata": {},
   "outputs": [
    {
     "data": {
      "text/plain": [
       "3"
      ]
     },
     "execution_count": 30,
     "metadata": {},
     "output_type": "execute_result"
    }
   ],
   "source": [
    "b.count('in')"
   ]
  },
  {
   "cell_type": "code",
   "execution_count": 31,
   "id": "c4a705ca",
   "metadata": {},
   "outputs": [
    {
     "data": {
      "text/plain": [
       "1"
      ]
     },
     "execution_count": 31,
     "metadata": {},
     "output_type": "execute_result"
    }
   ],
   "source": [
    "b.count('inin')"
   ]
  },
  {
   "cell_type": "code",
   "execution_count": 33,
   "id": "b6bdf4da",
   "metadata": {},
   "outputs": [
    {
     "data": {
      "text/plain": [
       "0"
      ]
     },
     "execution_count": 33,
     "metadata": {},
     "output_type": "execute_result"
    }
   ],
   "source": [
    "a.count('x') # if something not found it will return 0"
   ]
  },
  {
   "cell_type": "raw",
   "id": "7dd8c103",
   "metadata": {},
   "source": [
    "split will seperate out a given string into a list by using given pattern"
   ]
  },
  {
   "cell_type": "code",
   "execution_count": 35,
   "id": "5d3b1eb9",
   "metadata": {},
   "outputs": [
    {
     "data": {
      "text/plain": [
       "['i', 'am', 'workin', 'with', 'ineuron']"
      ]
     },
     "execution_count": 35,
     "metadata": {},
     "output_type": "execute_result"
    }
   ],
   "source": [
    "a.split(' ')"
   ]
  },
  {
   "cell_type": "code",
   "execution_count": 37,
   "id": "97ebb5ed",
   "metadata": {},
   "outputs": [
    {
     "data": {
      "text/plain": [
       "list"
      ]
     },
     "execution_count": 37,
     "metadata": {},
     "output_type": "execute_result"
    }
   ],
   "source": [
    "type('a'.split())"
   ]
  },
  {
   "cell_type": "code",
   "execution_count": 38,
   "id": "66b7a744",
   "metadata": {},
   "outputs": [],
   "source": [
    "l1=a.split()"
   ]
  },
  {
   "cell_type": "code",
   "execution_count": 39,
   "id": "d6f043f0",
   "metadata": {},
   "outputs": [
    {
     "data": {
      "text/plain": [
       "['i', 'am', 'workin', 'with', 'ineuron']"
      ]
     },
     "execution_count": 39,
     "metadata": {},
     "output_type": "execute_result"
    }
   ],
   "source": [
    "l1"
   ]
  },
  {
   "cell_type": "code",
   "execution_count": 40,
   "id": "e94f83a2",
   "metadata": {},
   "outputs": [
    {
     "data": {
      "text/plain": [
       "['i', 'am']"
      ]
     },
     "execution_count": 40,
     "metadata": {},
     "output_type": "execute_result"
    }
   ],
   "source": [
    "l1[0:2]"
   ]
  },
  {
   "cell_type": "code",
   "execution_count": 45,
   "id": "7cc8ad1b",
   "metadata": {},
   "outputs": [
    {
     "data": {
      "text/plain": [
       "['ineuron', 'with']"
      ]
     },
     "execution_count": 45,
     "metadata": {},
     "output_type": "execute_result"
    }
   ],
   "source": [
    "l1[-1:-3:-1] ## we have to specify the jump index"
   ]
  },
  {
   "cell_type": "code",
   "execution_count": 61,
   "id": "350ac431",
   "metadata": {},
   "outputs": [
    {
     "data": {
      "text/plain": [
       "[]"
      ]
     },
     "execution_count": 61,
     "metadata": {},
     "output_type": "execute_result"
    }
   ],
   "source": [
    "l1[-1:-3] # because jump size is +1 and not -1 "
   ]
  },
  {
   "cell_type": "code",
   "execution_count": 62,
   "id": "8508de06",
   "metadata": {},
   "outputs": [
    {
     "data": {
      "text/plain": [
       "['with', 'ineuron']"
      ]
     },
     "execution_count": 62,
     "metadata": {},
     "output_type": "execute_result"
    }
   ],
   "source": [
    "l1[3:5]"
   ]
  },
  {
   "cell_type": "code",
   "execution_count": 70,
   "id": "ed3b1180",
   "metadata": {},
   "outputs": [
    {
     "data": {
      "text/plain": [
       "['workin', 'with']"
      ]
     },
     "execution_count": 70,
     "metadata": {},
     "output_type": "execute_result"
    }
   ],
   "source": [
    "l1[-3:-1:1] ## if u want to go reverse with -ve indexing then you can use +1 as a jump size but if you want to go forward then you should use -ve jump size"
   ]
  },
  {
   "cell_type": "code",
   "execution_count": 64,
   "id": "e83974cb",
   "metadata": {},
   "outputs": [
    {
     "data": {
      "text/plain": [
       "['with', 'ineuron']"
      ]
     },
     "execution_count": 64,
     "metadata": {},
     "output_type": "execute_result"
    }
   ],
   "source": [
    "l1[-2::1]"
   ]
  },
  {
   "cell_type": "code",
   "execution_count": 59,
   "id": "8a6f788e",
   "metadata": {},
   "outputs": [
    {
     "data": {
      "text/plain": [
       "['i', 'am', 'workin', 'with', 'ineuron']"
      ]
     },
     "execution_count": 59,
     "metadata": {},
     "output_type": "execute_result"
    }
   ],
   "source": [
    "l1"
   ]
  },
  {
   "cell_type": "code",
   "execution_count": 60,
   "id": "d79115de",
   "metadata": {},
   "outputs": [
    {
     "data": {
      "text/plain": [
       "'i am workin with ineuron'"
      ]
     },
     "execution_count": 60,
     "metadata": {},
     "output_type": "execute_result"
    }
   ],
   "source": [
    "a"
   ]
  },
  {
   "cell_type": "code",
   "execution_count": 69,
   "id": "e7641b1b",
   "metadata": {},
   "outputs": [
    {
     "data": {
      "text/plain": [
       "['workin', 'with']"
      ]
     },
     "execution_count": 69,
     "metadata": {},
     "output_type": "execute_result"
    }
   ],
   "source": [
    "l1[-3:-1]"
   ]
  },
  {
   "cell_type": "code",
   "execution_count": 4,
   "id": "58d89eec",
   "metadata": {},
   "outputs": [],
   "source": [
    "b='i am working with ineuron'"
   ]
  },
  {
   "cell_type": "code",
   "execution_count": 74,
   "id": "9197b4d8",
   "metadata": {},
   "outputs": [
    {
     "data": {
      "text/plain": [
       "'i am working with ineuron'"
      ]
     },
     "execution_count": 74,
     "metadata": {},
     "output_type": "execute_result"
    }
   ],
   "source": [
    "b"
   ]
  },
  {
   "cell_type": "code",
   "execution_count": 75,
   "id": "669dcdf2",
   "metadata": {},
   "outputs": [
    {
     "data": {
      "text/plain": [
       "'i'"
      ]
     },
     "execution_count": 75,
     "metadata": {},
     "output_type": "execute_result"
    }
   ],
   "source": [
    "b[0]"
   ]
  },
  {
   "cell_type": "code",
   "execution_count": 76,
   "id": "2f5c13ba",
   "metadata": {},
   "outputs": [
    {
     "data": {
      "text/plain": [
       "'am'"
      ]
     },
     "execution_count": 76,
     "metadata": {},
     "output_type": "execute_result"
    }
   ],
   "source": [
    "b[2:4]"
   ]
  },
  {
   "cell_type": "code",
   "execution_count": 78,
   "id": "57a9380f",
   "metadata": {},
   "outputs": [
    {
     "data": {
      "text/plain": [
       "'i am working with ineuron'"
      ]
     },
     "execution_count": 78,
     "metadata": {},
     "output_type": "execute_result"
    }
   ],
   "source": [
    "b[0:]"
   ]
  },
  {
   "cell_type": "code",
   "execution_count": 79,
   "id": "074ac4b1",
   "metadata": {},
   "outputs": [
    {
     "data": {
      "text/plain": [
       "'ia okn ihiern'"
      ]
     },
     "execution_count": 79,
     "metadata": {},
     "output_type": "execute_result"
    }
   ],
   "source": [
    "b[0::2]"
   ]
  },
  {
   "cell_type": "code",
   "execution_count": 83,
   "id": "2c3f8f23",
   "metadata": {},
   "outputs": [
    {
     "data": {
      "text/plain": [
       "'i'"
      ]
     },
     "execution_count": 83,
     "metadata": {},
     "output_type": "execute_result"
    }
   ],
   "source": [
    "b[0::-1]"
   ]
  },
  {
   "cell_type": "code",
   "execution_count": 89,
   "id": "2f2e62b2",
   "metadata": {},
   "outputs": [
    {
     "data": {
      "text/plain": [
       "'n'"
      ]
     },
     "execution_count": 89,
     "metadata": {},
     "output_type": "execute_result"
    }
   ],
   "source": [
    "b[-1::1]"
   ]
  },
  {
   "cell_type": "code",
   "execution_count": 90,
   "id": "54288d5b",
   "metadata": {},
   "outputs": [
    {
     "data": {
      "text/plain": [
       "' '"
      ]
     },
     "execution_count": 90,
     "metadata": {},
     "output_type": "execute_result"
    }
   ],
   "source": [
    "b[1]"
   ]
  },
  {
   "cell_type": "code",
   "execution_count": 92,
   "id": "1f722508",
   "metadata": {},
   "outputs": [
    {
     "data": {
      "text/plain": [
       "25"
      ]
     },
     "execution_count": 92,
     "metadata": {},
     "output_type": "execute_result"
    }
   ],
   "source": [
    "len(b)"
   ]
  },
  {
   "cell_type": "code",
   "execution_count": 95,
   "id": "f6ae6926",
   "metadata": {},
   "outputs": [
    {
     "data": {
      "text/plain": [
       "'norueni htiw gnikrow ma '"
      ]
     },
     "execution_count": 95,
     "metadata": {},
     "output_type": "execute_result"
    }
   ],
   "source": [
    "b[-1:-25:-1]"
   ]
  },
  {
   "cell_type": "code",
   "execution_count": 96,
   "id": "7602e468",
   "metadata": {},
   "outputs": [
    {
     "data": {
      "text/plain": [
       "'norueni htiw gnikrow ma i'"
      ]
     },
     "execution_count": 96,
     "metadata": {},
     "output_type": "execute_result"
    }
   ],
   "source": [
    "b[-1::-1]"
   ]
  },
  {
   "cell_type": "code",
   "execution_count": 97,
   "id": "6614d707",
   "metadata": {},
   "outputs": [
    {
     "data": {
      "text/plain": [
       "'i am working with ineuron'"
      ]
     },
     "execution_count": 97,
     "metadata": {},
     "output_type": "execute_result"
    }
   ],
   "source": [
    "b"
   ]
  },
  {
   "cell_type": "code",
   "execution_count": 102,
   "id": "b663731a",
   "metadata": {},
   "outputs": [
    {
     "data": {
      "text/plain": [
       "'w ma '"
      ]
     },
     "execution_count": 102,
     "metadata": {},
     "output_type": "execute_result"
    }
   ],
   "source": [
    "b[-20:0:-1]"
   ]
  },
  {
   "cell_type": "code",
   "execution_count": 104,
   "id": "47a72583",
   "metadata": {},
   "outputs": [
    {
     "data": {
      "text/plain": [
       "'working with ineuron'"
      ]
     },
     "execution_count": 104,
     "metadata": {},
     "output_type": "execute_result"
    }
   ],
   "source": [
    "b[-20::1]"
   ]
  },
  {
   "cell_type": "code",
   "execution_count": 105,
   "id": "4e9e17ca",
   "metadata": {},
   "outputs": [
    {
     "data": {
      "text/plain": [
       "'working with ineuron'"
      ]
     },
     "execution_count": 105,
     "metadata": {},
     "output_type": "execute_result"
    }
   ],
   "source": [
    "b[-20:]"
   ]
  },
  {
   "cell_type": "code",
   "execution_count": 108,
   "id": "3210216e",
   "metadata": {},
   "outputs": [
    {
     "data": {
      "text/plain": [
       "['i', 'am', 'working', 'with', 'ineuron']"
      ]
     },
     "execution_count": 108,
     "metadata": {},
     "output_type": "execute_result"
    }
   ],
   "source": [
    "b.split()"
   ]
  },
  {
   "cell_type": "code",
   "execution_count": 109,
   "id": "e727eac1",
   "metadata": {},
   "outputs": [
    {
     "data": {
      "text/plain": [
       "['', ' am work', 'ng w', 'th ', 'neuron']"
      ]
     },
     "execution_count": 109,
     "metadata": {},
     "output_type": "execute_result"
    }
   ],
   "source": [
    "b.split('i')"
   ]
  },
  {
   "cell_type": "code",
   "execution_count": 110,
   "id": "264c36b8",
   "metadata": {},
   "outputs": [
    {
     "data": {
      "text/plain": [
       "'i am working with ineuron'"
      ]
     },
     "execution_count": 110,
     "metadata": {},
     "output_type": "execute_result"
    }
   ],
   "source": [
    "b"
   ]
  },
  {
   "cell_type": "code",
   "execution_count": 111,
   "id": "07229170",
   "metadata": {},
   "outputs": [
    {
     "data": {
      "text/plain": [
       "['i am ', 'orking ', 'ith ineuron']"
      ]
     },
     "execution_count": 111,
     "metadata": {},
     "output_type": "execute_result"
    }
   ],
   "source": [
    "b.split('w')"
   ]
  },
  {
   "cell_type": "code",
   "execution_count": 112,
   "id": "c81b5c83",
   "metadata": {},
   "outputs": [
    {
     "data": {
      "text/plain": [
       "'I AM WORKIN WITH INEURON'"
      ]
     },
     "execution_count": 112,
     "metadata": {},
     "output_type": "execute_result"
    }
   ],
   "source": [
    "a.upper()"
   ]
  },
  {
   "cell_type": "code",
   "execution_count": 113,
   "id": "f1e3b5a8",
   "metadata": {},
   "outputs": [
    {
     "data": {
      "text/plain": [
       "'i am workin with ineuron'"
      ]
     },
     "execution_count": 113,
     "metadata": {},
     "output_type": "execute_result"
    }
   ],
   "source": [
    "a"
   ]
  },
  {
   "cell_type": "code",
   "execution_count": 114,
   "id": "acc88967",
   "metadata": {},
   "outputs": [],
   "source": [
    "s=\"sUdh\""
   ]
  },
  {
   "cell_type": "code",
   "execution_count": 115,
   "id": "0e5f7d49",
   "metadata": {},
   "outputs": [
    {
     "data": {
      "text/plain": [
       "'SuDH'"
      ]
     },
     "execution_count": 115,
     "metadata": {},
     "output_type": "execute_result"
    }
   ],
   "source": [
    "s.swapcase()"
   ]
  },
  {
   "cell_type": "code",
   "execution_count": 116,
   "id": "acda63f0",
   "metadata": {},
   "outputs": [
    {
     "data": {
      "text/plain": [
       "'sudh'"
      ]
     },
     "execution_count": 116,
     "metadata": {},
     "output_type": "execute_result"
    }
   ],
   "source": [
    "s.lower()"
   ]
  },
  {
   "cell_type": "code",
   "execution_count": 117,
   "id": "e13548eb",
   "metadata": {},
   "outputs": [
    {
     "data": {
      "text/plain": [
       "'Sudh'"
      ]
     },
     "execution_count": 117,
     "metadata": {},
     "output_type": "execute_result"
    }
   ],
   "source": [
    "s.title()"
   ]
  },
  {
   "cell_type": "code",
   "execution_count": 118,
   "id": "40c63a73",
   "metadata": {},
   "outputs": [
    {
     "data": {
      "text/plain": [
       "'I Am Working With Ineuron'"
      ]
     },
     "execution_count": 118,
     "metadata": {},
     "output_type": "execute_result"
    }
   ],
   "source": [
    "b.title()"
   ]
  },
  {
   "cell_type": "code",
   "execution_count": 119,
   "id": "9f3a1d82",
   "metadata": {},
   "outputs": [
    {
     "data": {
      "text/plain": [
       "'I AM WORKING WITH INEURON'"
      ]
     },
     "execution_count": 119,
     "metadata": {},
     "output_type": "execute_result"
    }
   ],
   "source": [
    "b.swapcase()"
   ]
  },
  {
   "cell_type": "code",
   "execution_count": 120,
   "id": "b8cef510",
   "metadata": {},
   "outputs": [
    {
     "data": {
      "text/plain": [
       "'I am working with ineuron'"
      ]
     },
     "execution_count": 120,
     "metadata": {},
     "output_type": "execute_result"
    }
   ],
   "source": [
    "b.capitalize()"
   ]
  },
  {
   "cell_type": "code",
   "execution_count": 121,
   "id": "3f470bc1",
   "metadata": {},
   "outputs": [
    {
     "data": {
      "text/plain": [
       "'i am working with ineuron'"
      ]
     },
     "execution_count": 121,
     "metadata": {},
     "output_type": "execute_result"
    }
   ],
   "source": [
    "b"
   ]
  },
  {
   "cell_type": "code",
   "execution_count": null,
   "id": "46eb8a4a",
   "metadata": {},
   "outputs": [],
   "source": []
  },
  {
   "cell_type": "code",
   "execution_count": 128,
   "id": "38116301",
   "metadata": {},
   "outputs": [
    {
     "data": {
      "text/plain": [
       "'ii am working with ineuron i am working with ineuronai am working with ineuronmi am working with ineuron i am working with ineuronwi am working with ineuronoi am working with ineuronri am working with ineuronki am working with ineuronii am working with ineuronni am working with ineuron i am working with ineuronwi am working with ineuronii am working with ineuronti am working with ineuronhi am working with ineuron i am working with ineuronii am working with ineuronni am working with ineuronei am working with ineuronui am working with ineuronri am working with ineuronoi am working with ineuronn'"
      ]
     },
     "execution_count": 128,
     "metadata": {},
     "output_type": "execute_result"
    }
   ],
   "source": [
    "b.join(a) # join func will join every 1st string to after every letter of second string provided as a argument to a function"
   ]
  },
  {
   "cell_type": "code",
   "execution_count": 129,
   "id": "328b3898",
   "metadata": {},
   "outputs": [],
   "source": [
    "c=\"ankit\""
   ]
  },
  {
   "cell_type": "code",
   "execution_count": 130,
   "id": "3676b746",
   "metadata": {},
   "outputs": [],
   "source": [
    "d=\"shivane\""
   ]
  },
  {
   "cell_type": "code",
   "execution_count": 131,
   "id": "3b103291",
   "metadata": {},
   "outputs": [
    {
     "data": {
      "text/plain": [
       "'sankithankitiankitvankitaankitnankite'"
      ]
     },
     "execution_count": 131,
     "metadata": {},
     "output_type": "execute_result"
    }
   ],
   "source": [
    "c.join(d)"
   ]
  },
  {
   "cell_type": "code",
   "execution_count": 132,
   "id": "5c1daff6",
   "metadata": {},
   "outputs": [
    {
     "data": {
      "text/plain": [
       "'a n k i t'"
      ]
     },
     "execution_count": 132,
     "metadata": {},
     "output_type": "execute_result"
    }
   ],
   "source": [
    "\" \".join(\"ankit\")"
   ]
  },
  {
   "cell_type": "code",
   "execution_count": 133,
   "id": "6e34336e",
   "metadata": {},
   "outputs": [
    {
     "data": {
      "text/plain": [
       "<reversed at 0x1cffb3cbbb0>"
      ]
     },
     "execution_count": 133,
     "metadata": {},
     "output_type": "execute_result"
    }
   ],
   "source": [
    "reversed(b)"
   ]
  },
  {
   "cell_type": "code",
   "execution_count": 143,
   "id": "0a32894c",
   "metadata": {},
   "outputs": [],
   "source": [
    "e=''"
   ]
  },
  {
   "cell_type": "code",
   "execution_count": 148,
   "id": "5bed1ba8",
   "metadata": {},
   "outputs": [
    {
     "name": "stdout",
     "output_type": "stream",
     "text": [
      "tiknatikna\n"
     ]
    }
   ],
   "source": [
    "for i in reversed('ankit'):\n",
    "    e=e+i\n",
    "\n",
    "print(e)"
   ]
  },
  {
   "cell_type": "code",
   "execution_count": 149,
   "id": "16125b22",
   "metadata": {},
   "outputs": [
    {
     "data": {
      "text/plain": [
       "'norueni htiw gnikrow ma '"
      ]
     },
     "execution_count": 149,
     "metadata": {},
     "output_type": "execute_result"
    }
   ],
   "source": [
    "b[-1:-25:-1]"
   ]
  },
  {
   "cell_type": "code",
   "execution_count": 150,
   "id": "6cb86e4e",
   "metadata": {},
   "outputs": [
    {
     "data": {
      "text/plain": [
       "'tikna'"
      ]
     },
     "execution_count": 150,
     "metadata": {},
     "output_type": "execute_result"
    }
   ],
   "source": [
    "'ankit'[-1::-1]"
   ]
  },
  {
   "cell_type": "code",
   "execution_count": 151,
   "id": "bee5a097",
   "metadata": {},
   "outputs": [
    {
     "data": {
      "text/plain": [
       "'norueni htiw gnikrow ma i'"
      ]
     },
     "execution_count": 151,
     "metadata": {},
     "output_type": "execute_result"
    }
   ],
   "source": [
    "b[::-1]"
   ]
  },
  {
   "cell_type": "code",
   "execution_count": 152,
   "id": "a833a0a5",
   "metadata": {},
   "outputs": [
    {
     "data": {
      "text/plain": [
       "'tikna'"
      ]
     },
     "execution_count": 152,
     "metadata": {},
     "output_type": "execute_result"
    }
   ],
   "source": [
    "'ankit'[::-1]"
   ]
  },
  {
   "cell_type": "code",
   "execution_count": 161,
   "id": "74915a45",
   "metadata": {},
   "outputs": [],
   "source": [
    "f=\" sudh   \""
   ]
  },
  {
   "cell_type": "code",
   "execution_count": 162,
   "id": "4cfa05ad",
   "metadata": {},
   "outputs": [
    {
     "data": {
      "text/plain": [
       "' sudh   '"
      ]
     },
     "execution_count": 162,
     "metadata": {},
     "output_type": "execute_result"
    }
   ],
   "source": [
    "f"
   ]
  },
  {
   "cell_type": "code",
   "execution_count": 163,
   "id": "86147bd3",
   "metadata": {},
   "outputs": [
    {
     "data": {
      "text/plain": [
       "' sudh'"
      ]
     },
     "execution_count": 163,
     "metadata": {},
     "output_type": "execute_result"
    }
   ],
   "source": [
    "f.rstrip()"
   ]
  },
  {
   "cell_type": "code",
   "execution_count": null,
   "id": "46b83ea0",
   "metadata": {},
   "outputs": [],
   "source": [
    "\n"
   ]
  },
  {
   "cell_type": "code",
   "execution_count": 164,
   "id": "69738ca4",
   "metadata": {},
   "outputs": [
    {
     "data": {
      "text/plain": [
       "'sudh   '"
      ]
     },
     "execution_count": 164,
     "metadata": {},
     "output_type": "execute_result"
    }
   ],
   "source": [
    "f.lstrip()"
   ]
  },
  {
   "cell_type": "code",
   "execution_count": 165,
   "id": "c9ac80bc",
   "metadata": {},
   "outputs": [
    {
     "data": {
      "text/plain": [
       "'sudh'"
      ]
     },
     "execution_count": 165,
     "metadata": {},
     "output_type": "execute_result"
    }
   ],
   "source": [
    "f.strip()"
   ]
  },
  {
   "cell_type": "code",
   "execution_count": 166,
   "id": "6f18b070",
   "metadata": {},
   "outputs": [
    {
     "data": {
      "text/plain": [
       "' sxydh   '"
      ]
     },
     "execution_count": 166,
     "metadata": {},
     "output_type": "execute_result"
    }
   ],
   "source": [
    "f.replace('u',\"xy\")"
   ]
  },
  {
   "cell_type": "code",
   "execution_count": 174,
   "id": "947fd70f",
   "metadata": {},
   "outputs": [],
   "source": [
    "f=\"sudhanshu sudhanshu sudhanshu sudhanshu sudhanshu sudhanshu \""
   ]
  },
  {
   "cell_type": "code",
   "execution_count": 177,
   "id": "03eceb95",
   "metadata": {},
   "outputs": [
    {
     "data": {
      "text/plain": [
       "'sZdhanshZ sZdhanshZ sZdhanshZ sZdhanshZ sZdhanshZ sZdhanshZ '"
      ]
     },
     "execution_count": 177,
     "metadata": {},
     "output_type": "execute_result"
    }
   ],
   "source": [
    "f.replace('u','Z')"
   ]
  },
  {
   "cell_type": "code",
   "execution_count": 178,
   "id": "e3883312",
   "metadata": {},
   "outputs": [
    {
     "data": {
      "text/plain": [
       "'sZdhanshZ sudhanshu sudhanshu sudhanshu sudhanshu sudhanshu '"
      ]
     },
     "execution_count": 178,
     "metadata": {},
     "output_type": "execute_result"
    }
   ],
   "source": [
    "f.replace('u','Z',2)"
   ]
  },
  {
   "cell_type": "code",
   "execution_count": 181,
   "id": "bc320132",
   "metadata": {},
   "outputs": [
    {
     "data": {
      "text/plain": [
       "12"
      ]
     },
     "execution_count": 181,
     "metadata": {},
     "output_type": "execute_result"
    }
   ],
   "source": [
    "f.count('u')"
   ]
  },
  {
   "cell_type": "code",
   "execution_count": 182,
   "id": "37d156a0",
   "metadata": {},
   "outputs": [
    {
     "data": {
      "text/plain": [
       "'sZdhanshZ sZdhanshZ sudhanshu sudhanshu sudhanshu sudhanshu '"
      ]
     },
     "execution_count": 182,
     "metadata": {},
     "output_type": "execute_result"
    }
   ],
   "source": [
    "f.replace('u','Z',4)"
   ]
  },
  {
   "cell_type": "code",
   "execution_count": 186,
   "id": "f81079e5",
   "metadata": {},
   "outputs": [
    {
     "data": {
      "text/plain": [
       "'sudhanshu sudhanshu sudhanshu sudhanshu sudhanshu sudhanshu '"
      ]
     },
     "execution_count": 186,
     "metadata": {},
     "output_type": "execute_result"
    }
   ],
   "source": [
    "f.replace('ss','Z')"
   ]
  },
  {
   "cell_type": "code",
   "execution_count": 187,
   "id": "247dccff",
   "metadata": {},
   "outputs": [
    {
     "data": {
      "text/plain": [
       "'sudhanshu sudhanshu sudhanshu sudhanshu sudhanshu sudhanshu '"
      ]
     },
     "execution_count": 187,
     "metadata": {},
     "output_type": "execute_result"
    }
   ],
   "source": [
    "f"
   ]
  },
  {
   "cell_type": "code",
   "execution_count": 189,
   "id": "8429d5ec",
   "metadata": {},
   "outputs": [
    {
     "data": {
      "text/plain": [
       "'sudhanshu sudhanshu sudhanshu sudhanshu sudhanshu sudhanshu '"
      ]
     },
     "execution_count": 189,
     "metadata": {},
     "output_type": "execute_result"
    }
   ],
   "source": [
    "f.expandtabs() # this will exand the tab in a string"
   ]
  },
  {
   "cell_type": "code",
   "execution_count": 190,
   "id": "bf87246e",
   "metadata": {},
   "outputs": [
    {
     "data": {
      "text/plain": [
       "'ankit   shivane'"
      ]
     },
     "execution_count": 190,
     "metadata": {},
     "output_type": "execute_result"
    }
   ],
   "source": [
    "\"ankit\\tshivane\".expandtabs()"
   ]
  },
  {
   "cell_type": "code",
   "execution_count": 193,
   "id": "1fbea433",
   "metadata": {},
   "outputs": [
    {
     "data": {
      "text/plain": [
       "'ZZankitZZZ'"
      ]
     },
     "execution_count": 193,
     "metadata": {},
     "output_type": "execute_result"
    }
   ],
   "source": [
    "\"ankit\".center(10,'Z') # it will try to place string into center"
   ]
  },
  {
   "cell_type": "code",
   "execution_count": 196,
   "id": "2c08f7bc",
   "metadata": {},
   "outputs": [
    {
     "data": {
      "text/plain": [
       "'##################################################################################################################################'"
      ]
     },
     "execution_count": 196,
     "metadata": {},
     "output_type": "execute_result"
    }
   ],
   "source": [
    "''.center(130,'#')"
   ]
  },
  {
   "cell_type": "code",
   "execution_count": 197,
   "id": "574e95f9",
   "metadata": {},
   "outputs": [],
   "source": [
    "str1=\"   indians are the best in the world\""
   ]
  },
  {
   "cell_type": "code",
   "execution_count": 198,
   "id": "f5064e6a",
   "metadata": {},
   "outputs": [
    {
     "data": {
      "text/plain": [
       "'indians are the best in the world'"
      ]
     },
     "execution_count": 198,
     "metadata": {},
     "output_type": "execute_result"
    }
   ],
   "source": [
    "str1.strip()"
   ]
  },
  {
   "cell_type": "code",
   "execution_count": 219,
   "id": "591b007a",
   "metadata": {},
   "outputs": [
    {
     "data": {
      "text/plain": [
       "'  are indians are the best in the world'"
      ]
     },
     "execution_count": 219,
     "metadata": {},
     "output_type": "execute_result"
    }
   ],
   "source": [
    "str1.strip(\"are\") # strip is not working if we provided the delimeter because delimeter is not at the start and end of line"
   ]
  },
  {
   "cell_type": "code",
   "execution_count": 220,
   "id": "7eb7b2e8",
   "metadata": {},
   "outputs": [],
   "source": [
    "str2=\"are indians are the best in the world asa\""
   ]
  },
  {
   "cell_type": "code",
   "execution_count": 221,
   "id": "75ee9558",
   "metadata": {},
   "outputs": [
    {
     "data": {
      "text/plain": [
       "'re indians are the best in the world as'"
      ]
     },
     "execution_count": 221,
     "metadata": {},
     "output_type": "execute_result"
    }
   ],
   "source": [
    "str2.strip('a')   #"
   ]
  },
  {
   "cell_type": "code",
   "execution_count": 222,
   "id": "c0491418",
   "metadata": {},
   "outputs": [
    {
     "data": {
      "text/plain": [
       "'i am working with ineuron'"
      ]
     },
     "execution_count": 222,
     "metadata": {},
     "output_type": "execute_result"
    }
   ],
   "source": [
    "b"
   ]
  },
  {
   "cell_type": "code",
   "execution_count": 231,
   "id": "993e081a",
   "metadata": {},
   "outputs": [
    {
     "data": {
      "text/plain": [
       "False"
      ]
     },
     "execution_count": 231,
     "metadata": {},
     "output_type": "execute_result"
    }
   ],
   "source": [
    "b.isupper()  # it will check a whole string in upper case or not"
   ]
  },
  {
   "cell_type": "code",
   "execution_count": 232,
   "id": "3b5cf9d4",
   "metadata": {},
   "outputs": [],
   "source": [
    "e=b.upper()"
   ]
  },
  {
   "cell_type": "code",
   "execution_count": 233,
   "id": "7c087c72",
   "metadata": {},
   "outputs": [
    {
     "data": {
      "text/plain": [
       "'I AM WORKING WITH INEURON'"
      ]
     },
     "execution_count": 233,
     "metadata": {},
     "output_type": "execute_result"
    }
   ],
   "source": [
    "e"
   ]
  },
  {
   "cell_type": "code",
   "execution_count": 234,
   "id": "43a2079d",
   "metadata": {},
   "outputs": [
    {
     "data": {
      "text/plain": [
       "True"
      ]
     },
     "execution_count": 234,
     "metadata": {},
     "output_type": "execute_result"
    }
   ],
   "source": [
    "e.isupper()"
   ]
  },
  {
   "cell_type": "code",
   "execution_count": 235,
   "id": "e854cc3d",
   "metadata": {},
   "outputs": [],
   "source": [
    "ee=e.capitalize()"
   ]
  },
  {
   "cell_type": "code",
   "execution_count": 236,
   "id": "f8f07d9f",
   "metadata": {},
   "outputs": [
    {
     "data": {
      "text/plain": [
       "'I am working with ineuron'"
      ]
     },
     "execution_count": 236,
     "metadata": {},
     "output_type": "execute_result"
    }
   ],
   "source": [
    "ee"
   ]
  },
  {
   "cell_type": "code",
   "execution_count": 237,
   "id": "c5f6540f",
   "metadata": {},
   "outputs": [
    {
     "data": {
      "text/plain": [
       "False"
      ]
     },
     "execution_count": 237,
     "metadata": {},
     "output_type": "execute_result"
    }
   ],
   "source": [
    "ee.isupper()"
   ]
  },
  {
   "cell_type": "code",
   "execution_count": 238,
   "id": "1a3fe1ac",
   "metadata": {},
   "outputs": [
    {
     "data": {
      "text/plain": [
       "'I AM WORKING WITH INEURON'"
      ]
     },
     "execution_count": 238,
     "metadata": {},
     "output_type": "execute_result"
    }
   ],
   "source": [
    "e"
   ]
  },
  {
   "cell_type": "code",
   "execution_count": 239,
   "id": "c241100f",
   "metadata": {},
   "outputs": [
    {
     "data": {
      "text/plain": [
       "False"
      ]
     },
     "execution_count": 239,
     "metadata": {},
     "output_type": "execute_result"
    }
   ],
   "source": [
    "e.islower()"
   ]
  },
  {
   "cell_type": "code",
   "execution_count": 240,
   "id": "394274e9",
   "metadata": {},
   "outputs": [
    {
     "data": {
      "text/plain": [
       "True"
      ]
     },
     "execution_count": 240,
     "metadata": {},
     "output_type": "execute_result"
    }
   ],
   "source": [
    "b.islower()"
   ]
  },
  {
   "cell_type": "code",
   "execution_count": 241,
   "id": "839f3752",
   "metadata": {},
   "outputs": [],
   "source": [
    "a=\"ankit\""
   ]
  },
  {
   "cell_type": "code",
   "execution_count": 246,
   "id": "3baf63cc",
   "metadata": {},
   "outputs": [
    {
     "data": {
      "text/plain": [
       "False"
      ]
     },
     "execution_count": 246,
     "metadata": {},
     "output_type": "execute_result"
    }
   ],
   "source": [
    "a.isspace()  # this will check whther entire string is a space or not"
   ]
  },
  {
   "cell_type": "code",
   "execution_count": 243,
   "id": "cefd531f",
   "metadata": {},
   "outputs": [
    {
     "data": {
      "text/plain": [
       "False"
      ]
     },
     "execution_count": 243,
     "metadata": {},
     "output_type": "execute_result"
    }
   ],
   "source": [
    "b.isspace()"
   ]
  },
  {
   "cell_type": "code",
   "execution_count": 244,
   "id": "6fd4b867",
   "metadata": {},
   "outputs": [],
   "source": [
    "q1=\" \""
   ]
  },
  {
   "cell_type": "code",
   "execution_count": 245,
   "id": "6f268a0d",
   "metadata": {},
   "outputs": [
    {
     "data": {
      "text/plain": [
       "True"
      ]
     },
     "execution_count": 245,
     "metadata": {},
     "output_type": "execute_result"
    }
   ],
   "source": [
    "q1.isspace()"
   ]
  },
  {
   "cell_type": "code",
   "execution_count": 247,
   "id": "5b37dc6d",
   "metadata": {},
   "outputs": [],
   "source": [
    "s=\"22\" "
   ]
  },
  {
   "cell_type": "code",
   "execution_count": 251,
   "id": "69f8a695",
   "metadata": {},
   "outputs": [
    {
     "data": {
      "text/plain": [
       "True"
      ]
     },
     "execution_count": 251,
     "metadata": {},
     "output_type": "execute_result"
    }
   ],
   "source": [
    "s.isdigit()  # this will check whther entire string is a digit or not"
   ]
  },
  {
   "cell_type": "code",
   "execution_count": 252,
   "id": "7a85bce6",
   "metadata": {},
   "outputs": [],
   "source": [
    "a1='ankit94'"
   ]
  },
  {
   "cell_type": "code",
   "execution_count": 253,
   "id": "2c08b2c0",
   "metadata": {},
   "outputs": [
    {
     "data": {
      "text/plain": [
       "False"
      ]
     },
     "execution_count": 253,
     "metadata": {},
     "output_type": "execute_result"
    }
   ],
   "source": [
    "a1.isdigit()"
   ]
  },
  {
   "cell_type": "code",
   "execution_count": null,
   "id": "a03200b2",
   "metadata": {},
   "outputs": [],
   "source": []
  },
  {
   "cell_type": "code",
   "execution_count": 254,
   "id": "0c92ca38",
   "metadata": {},
   "outputs": [
    {
     "data": {
      "text/plain": [
       "True"
      ]
     },
     "execution_count": 254,
     "metadata": {},
     "output_type": "execute_result"
    }
   ],
   "source": [
    "a1.endswith('4')"
   ]
  },
  {
   "cell_type": "code",
   "execution_count": 255,
   "id": "2627add8",
   "metadata": {},
   "outputs": [
    {
     "data": {
      "text/plain": [
       "True"
      ]
     },
     "execution_count": 255,
     "metadata": {},
     "output_type": "execute_result"
    }
   ],
   "source": [
    "b.endswith('n')"
   ]
  },
  {
   "cell_type": "code",
   "execution_count": 256,
   "id": "455556be",
   "metadata": {},
   "outputs": [
    {
     "data": {
      "text/plain": [
       "False"
      ]
     },
     "execution_count": 256,
     "metadata": {},
     "output_type": "execute_result"
    }
   ],
   "source": [
    "b.endswith('a')"
   ]
  },
  {
   "cell_type": "code",
   "execution_count": 257,
   "id": "abcd9da6",
   "metadata": {},
   "outputs": [
    {
     "data": {
      "text/plain": [
       "True"
      ]
     },
     "execution_count": 257,
     "metadata": {},
     "output_type": "execute_result"
    }
   ],
   "source": [
    "b.startswith('i')"
   ]
  },
  {
   "cell_type": "code",
   "execution_count": 258,
   "id": "bfc8cf3c",
   "metadata": {},
   "outputs": [
    {
     "data": {
      "text/plain": [
       "False"
      ]
     },
     "execution_count": 258,
     "metadata": {},
     "output_type": "execute_result"
    }
   ],
   "source": [
    "b.startswith('a')"
   ]
  },
  {
   "cell_type": "code",
   "execution_count": 259,
   "id": "936d71b2",
   "metadata": {},
   "outputs": [
    {
     "data": {
      "text/plain": [
       "'i am working with ineuron'"
      ]
     },
     "execution_count": 259,
     "metadata": {},
     "output_type": "execute_result"
    }
   ],
   "source": [
    "b"
   ]
  },
  {
   "cell_type": "code",
   "execution_count": 260,
   "id": "6d1caf80",
   "metadata": {},
   "outputs": [],
   "source": [
    "l=b.split()"
   ]
  },
  {
   "cell_type": "code",
   "execution_count": 261,
   "id": "7ca0166e",
   "metadata": {},
   "outputs": [
    {
     "data": {
      "text/plain": [
       "['i', 'am', 'working', 'with', 'ineuron']"
      ]
     },
     "execution_count": 261,
     "metadata": {},
     "output_type": "execute_result"
    }
   ],
   "source": [
    "l"
   ]
  },
  {
   "cell_type": "code",
   "execution_count": 262,
   "id": "4d2958df",
   "metadata": {},
   "outputs": [
    {
     "data": {
      "text/plain": [
       "5"
      ]
     },
     "execution_count": 262,
     "metadata": {},
     "output_type": "execute_result"
    }
   ],
   "source": [
    "len(l)"
   ]
  },
  {
   "cell_type": "code",
   "execution_count": 263,
   "id": "4dc61f3c",
   "metadata": {},
   "outputs": [
    {
     "data": {
      "text/plain": [
       "''"
      ]
     },
     "execution_count": 263,
     "metadata": {},
     "output_type": "execute_result"
    }
   ],
   "source": [
    "b[-1:6]"
   ]
  },
  {
   "cell_type": "code",
   "execution_count": 267,
   "id": "ac1f2a66",
   "metadata": {},
   "outputs": [
    {
     "data": {
      "text/plain": [
       "['ineuron']"
      ]
     },
     "execution_count": 267,
     "metadata": {},
     "output_type": "execute_result"
    }
   ],
   "source": [
    "l[-1:5]"
   ]
  },
  {
   "cell_type": "code",
   "execution_count": 6,
   "id": "575b7723",
   "metadata": {},
   "outputs": [
    {
     "data": {
      "text/plain": [
       "'n'"
      ]
     },
     "execution_count": 6,
     "metadata": {},
     "output_type": "execute_result"
    }
   ],
   "source": [
    "b[-1:25]"
   ]
  },
  {
   "cell_type": "code",
   "execution_count": 5,
   "id": "e4739a98",
   "metadata": {},
   "outputs": [
    {
     "data": {
      "text/plain": [
       "'i am working with ineuron'"
      ]
     },
     "execution_count": 5,
     "metadata": {},
     "output_type": "execute_result"
    }
   ],
   "source": [
    "b"
   ]
  },
  {
   "cell_type": "code",
   "execution_count": 15,
   "id": "79b77eb4",
   "metadata": {},
   "outputs": [
    {
     "data": {
      "text/plain": [
       "'n'"
      ]
     },
     "execution_count": 15,
     "metadata": {},
     "output_type": "execute_result"
    }
   ],
   "source": [
    "b[-1:25]"
   ]
  },
  {
   "cell_type": "code",
   "execution_count": null,
   "id": "ddb0c610",
   "metadata": {},
   "outputs": [],
   "source": []
  },
  {
   "cell_type": "markdown",
   "id": "a5a3fc89",
   "metadata": {},
   "source": [
    "# List in Python"
   ]
  },
  {
   "cell_type": "code",
   "execution_count": null,
   "id": "6294710e",
   "metadata": {},
   "outputs": [],
   "source": []
  },
  {
   "cell_type": "code",
   "execution_count": 1,
   "id": "0df21ed6",
   "metadata": {},
   "outputs": [],
   "source": [
    "l=['sudh','kumar',232,(4+3j),True,345.34]"
   ]
  },
  {
   "cell_type": "code",
   "execution_count": 2,
   "id": "a017b657",
   "metadata": {},
   "outputs": [
    {
     "data": {
      "text/plain": [
       "['sudh', 'kumar', 232, (4+3j), True, 345.34]"
      ]
     },
     "execution_count": 2,
     "metadata": {},
     "output_type": "execute_result"
    }
   ],
   "source": [
    "l"
   ]
  },
  {
   "cell_type": "code",
   "execution_count": 17,
   "id": "50d2e2a7",
   "metadata": {},
   "outputs": [
    {
     "data": {
      "text/plain": [
       "[]"
      ]
     },
     "execution_count": 17,
     "metadata": {},
     "output_type": "execute_result"
    }
   ],
   "source": [
    "l[-1:5]  # the end index should not be less than len of string or list otherwise it will give empty string or list"
   ]
  },
  {
   "cell_type": "code",
   "execution_count": 18,
   "id": "ed118848",
   "metadata": {},
   "outputs": [
    {
     "data": {
      "text/plain": [
       "[345.34]"
      ]
     },
     "execution_count": 18,
     "metadata": {},
     "output_type": "execute_result"
    }
   ],
   "source": [
    "l[-1:6]"
   ]
  },
  {
   "cell_type": "code",
   "execution_count": 19,
   "id": "7b180044",
   "metadata": {},
   "outputs": [
    {
     "data": {
      "text/plain": [
       "[True, 345.34]"
      ]
     },
     "execution_count": 19,
     "metadata": {},
     "output_type": "execute_result"
    }
   ],
   "source": [
    "l[-2:7]"
   ]
  },
  {
   "cell_type": "code",
   "execution_count": 20,
   "id": "4f1db554",
   "metadata": {},
   "outputs": [
    {
     "data": {
      "text/plain": [
       "'sudh'"
      ]
     },
     "execution_count": 20,
     "metadata": {},
     "output_type": "execute_result"
    }
   ],
   "source": [
    "l[0]"
   ]
  },
  {
   "cell_type": "code",
   "execution_count": 22,
   "id": "0acebb06",
   "metadata": {},
   "outputs": [
    {
     "data": {
      "text/plain": [
       "'sudh'"
      ]
     },
     "execution_count": 22,
     "metadata": {},
     "output_type": "execute_result"
    }
   ],
   "source": [
    "l[0][::]"
   ]
  },
  {
   "cell_type": "code",
   "execution_count": 24,
   "id": "52519efa",
   "metadata": {},
   "outputs": [
    {
     "data": {
      "text/plain": [
       "4.0"
      ]
     },
     "execution_count": 24,
     "metadata": {},
     "output_type": "execute_result"
    }
   ],
   "source": [
    "l[3].real"
   ]
  },
  {
   "cell_type": "code",
   "execution_count": 25,
   "id": "8958c2d0",
   "metadata": {},
   "outputs": [
    {
     "data": {
      "text/plain": [
       "3.0"
      ]
     },
     "execution_count": 25,
     "metadata": {},
     "output_type": "execute_result"
    }
   ],
   "source": [
    "l[3].imag"
   ]
  },
  {
   "cell_type": "code",
   "execution_count": 26,
   "id": "04f8384b",
   "metadata": {},
   "outputs": [
    {
     "data": {
      "text/plain": [
       "(4+3j)"
      ]
     },
     "execution_count": 26,
     "metadata": {},
     "output_type": "execute_result"
    }
   ],
   "source": [
    "l[3]"
   ]
  },
  {
   "cell_type": "code",
   "execution_count": 27,
   "id": "6158c0c0",
   "metadata": {},
   "outputs": [],
   "source": [
    "l1=[\"sudh\",\"kumar\",121]"
   ]
  },
  {
   "cell_type": "code",
   "execution_count": 28,
   "id": "4eec7ed4",
   "metadata": {},
   "outputs": [],
   "source": [
    "l2=[\"ankit\",\"sjhivane\",2121.1]"
   ]
  },
  {
   "cell_type": "code",
   "execution_count": 29,
   "id": "4405455f",
   "metadata": {},
   "outputs": [],
   "source": [
    "l1.append(l2)"
   ]
  },
  {
   "cell_type": "code",
   "execution_count": 30,
   "id": "99f9f5ff",
   "metadata": {},
   "outputs": [
    {
     "data": {
      "text/plain": [
       "['sudh', 'kumar', 121, ['ankit', 'sjhivane', 2121.1]]"
      ]
     },
     "execution_count": 30,
     "metadata": {},
     "output_type": "execute_result"
    }
   ],
   "source": [
    "l1"
   ]
  },
  {
   "cell_type": "code",
   "execution_count": 31,
   "id": "1fbf859b",
   "metadata": {},
   "outputs": [
    {
     "data": {
      "text/plain": [
       "['sudh',\n",
       " 'kumar',\n",
       " 121,\n",
       " ['ankit', 'sjhivane', 2121.1],\n",
       " 'ankit',\n",
       " 'sjhivane',\n",
       " 2121.1]"
      ]
     },
     "execution_count": 31,
     "metadata": {},
     "output_type": "execute_result"
    }
   ],
   "source": [
    "l1+l2"
   ]
  },
  {
   "cell_type": "code",
   "execution_count": 32,
   "id": "6ef5084c",
   "metadata": {},
   "outputs": [
    {
     "data": {
      "text/plain": [
       "['sudh', 'kumar', 121, ['ankit', 'sjhivane', 2121.1]]"
      ]
     },
     "execution_count": 32,
     "metadata": {},
     "output_type": "execute_result"
    }
   ],
   "source": [
    "l1\n"
   ]
  },
  {
   "cell_type": "code",
   "execution_count": 33,
   "id": "3833459d",
   "metadata": {},
   "outputs": [
    {
     "data": {
      "text/plain": [
       "['sudh',\n",
       " 'kumar',\n",
       " 121,\n",
       " ['ankit', 'sjhivane', 2121.1],\n",
       " 'sudh',\n",
       " 'kumar',\n",
       " 121,\n",
       " ['ankit', 'sjhivane', 2121.1],\n",
       " 'sudh',\n",
       " 'kumar',\n",
       " 121,\n",
       " ['ankit', 'sjhivane', 2121.1],\n",
       " 'sudh',\n",
       " 'kumar',\n",
       " 121,\n",
       " ['ankit', 'sjhivane', 2121.1]]"
      ]
     },
     "execution_count": 33,
     "metadata": {},
     "output_type": "execute_result"
    }
   ],
   "source": [
    "l1*4"
   ]
  },
  {
   "cell_type": "code",
   "execution_count": 35,
   "id": "f6186400",
   "metadata": {},
   "outputs": [
    {
     "data": {
      "text/plain": [
       "['sudh',\n",
       " 'kumar',\n",
       " 121,\n",
       " ['ankit', 'sjhivane', 2121.1],\n",
       " 'ankit',\n",
       " 'sjhivane',\n",
       " 2121.1]"
      ]
     },
     "execution_count": 35,
     "metadata": {},
     "output_type": "execute_result"
    }
   ],
   "source": [
    "l1+l2"
   ]
  },
  {
   "cell_type": "code",
   "execution_count": 38,
   "id": "0702178b",
   "metadata": {},
   "outputs": [
    {
     "data": {
      "text/plain": [
       "'Ankit'"
      ]
     },
     "execution_count": 38,
     "metadata": {},
     "output_type": "execute_result"
    }
   ],
   "source": [
    "l1[0].replace('sudh','Ankit')"
   ]
  },
  {
   "cell_type": "code",
   "execution_count": 40,
   "id": "de832318",
   "metadata": {},
   "outputs": [],
   "source": [
    "l1[0]='ankit'"
   ]
  },
  {
   "cell_type": "code",
   "execution_count": 41,
   "id": "bd10285c",
   "metadata": {},
   "outputs": [
    {
     "data": {
      "text/plain": [
       "['ankit', 'kumar', 121, ['ankit', 'sjhivane', 2121.1]]"
      ]
     },
     "execution_count": 41,
     "metadata": {},
     "output_type": "execute_result"
    }
   ],
   "source": [
    "l1"
   ]
  },
  {
   "cell_type": "code",
   "execution_count": 55,
   "id": "6975ecda",
   "metadata": {},
   "outputs": [
    {
     "data": {
      "text/plain": [
       "['ankit', 'kumar', 121, ['ankit', 'sjhivane', 2121.1]]"
      ]
     },
     "execution_count": 55,
     "metadata": {},
     "output_type": "execute_result"
    }
   ],
   "source": [
    "l1"
   ]
  },
  {
   "cell_type": "code",
   "execution_count": 56,
   "id": "9857f556",
   "metadata": {},
   "outputs": [
    {
     "ename": "TypeError",
     "evalue": "'str' object does not support item assignment",
     "output_type": "error",
     "traceback": [
      "\u001b[1;31m---------------------------------------------------------------------------\u001b[0m",
      "\u001b[1;31mTypeError\u001b[0m                                 Traceback (most recent call last)",
      "\u001b[1;32m~\\AppData\\Local\\Temp/ipykernel_10492/2904822548.py\u001b[0m in \u001b[0;36m<module>\u001b[1;34m\u001b[0m\n\u001b[1;32m----> 1\u001b[1;33m \u001b[0ml1\u001b[0m\u001b[1;33m[\u001b[0m\u001b[1;36m1\u001b[0m\u001b[1;33m]\u001b[0m\u001b[1;33m[\u001b[0m\u001b[1;36m0\u001b[0m\u001b[1;33m]\u001b[0m\u001b[1;33m=\u001b[0m\u001b[1;34m's'\u001b[0m  \u001b[1;31m## it will not allowed because string is immutable\u001b[0m\u001b[1;33m\u001b[0m\u001b[1;33m\u001b[0m\u001b[0m\n\u001b[0m",
      "\u001b[1;31mTypeError\u001b[0m: 'str' object does not support item assignment"
     ]
    }
   ],
   "source": [
    "l1[1][0]='s'  ## it will not allowed because string is immutable "
   ]
  },
  {
   "cell_type": "code",
   "execution_count": 63,
   "id": "9feffc24",
   "metadata": {},
   "outputs": [
    {
     "data": {
      "text/plain": [
       "'s'"
      ]
     },
     "execution_count": 63,
     "metadata": {},
     "output_type": "execute_result"
    }
   ],
   "source": [
    "l1[1][0].replace('k','s')"
   ]
  },
  {
   "cell_type": "code",
   "execution_count": 64,
   "id": "73472a1a",
   "metadata": {},
   "outputs": [
    {
     "ename": "TypeError",
     "evalue": "'int' object is not subscriptable",
     "output_type": "error",
     "traceback": [
      "\u001b[1;31m---------------------------------------------------------------------------\u001b[0m",
      "\u001b[1;31mTypeError\u001b[0m                                 Traceback (most recent call last)",
      "\u001b[1;32m~\\AppData\\Local\\Temp/ipykernel_10492/1132276453.py\u001b[0m in \u001b[0;36m<module>\u001b[1;34m\u001b[0m\n\u001b[1;32m----> 1\u001b[1;33m \u001b[0ml1\u001b[0m\u001b[1;33m[\u001b[0m\u001b[1;36m2\u001b[0m\u001b[1;33m]\u001b[0m\u001b[1;33m[\u001b[0m\u001b[1;36m0\u001b[0m\u001b[1;33m]\u001b[0m \u001b[1;31m## it will not allowed because number is not subscriptable we can not access number using subscript\u001b[0m\u001b[1;33m\u001b[0m\u001b[1;33m\u001b[0m\u001b[0m\n\u001b[0m",
      "\u001b[1;31mTypeError\u001b[0m: 'int' object is not subscriptable"
     ]
    }
   ],
   "source": [
    "l1[2][0] ## it will not allowed because number is not subscriptable we can not access number using subscript"
   ]
  },
  {
   "cell_type": "code",
   "execution_count": 65,
   "id": "1147e005",
   "metadata": {},
   "outputs": [
    {
     "data": {
      "text/plain": [
       "['ankit', 'kumar', 121, ['ankit', 'sjhivane', 2121.1]]"
      ]
     },
     "execution_count": 65,
     "metadata": {},
     "output_type": "execute_result"
    }
   ],
   "source": [
    "l1"
   ]
  },
  {
   "cell_type": "code",
   "execution_count": 66,
   "id": "1b202f4a",
   "metadata": {},
   "outputs": [],
   "source": [
    "str1='sudh'"
   ]
  },
  {
   "cell_type": "code",
   "execution_count": 67,
   "id": "da1521ed",
   "metadata": {},
   "outputs": [
    {
     "data": {
      "text/plain": [
       "'s'"
      ]
     },
     "execution_count": 67,
     "metadata": {},
     "output_type": "execute_result"
    }
   ],
   "source": [
    "str1[0]"
   ]
  },
  {
   "cell_type": "code",
   "execution_count": 69,
   "id": "ffb99baa",
   "metadata": {},
   "outputs": [
    {
     "ename": "TypeError",
     "evalue": "'str' object does not support item assignment",
     "output_type": "error",
     "traceback": [
      "\u001b[1;31m---------------------------------------------------------------------------\u001b[0m",
      "\u001b[1;31mTypeError\u001b[0m                                 Traceback (most recent call last)",
      "\u001b[1;32m~\\AppData\\Local\\Temp/ipykernel_10492/1337129361.py\u001b[0m in \u001b[0;36m<module>\u001b[1;34m\u001b[0m\n\u001b[1;32m----> 1\u001b[1;33m \u001b[0mstr1\u001b[0m\u001b[1;33m[\u001b[0m\u001b[1;36m0\u001b[0m\u001b[1;33m]\u001b[0m\u001b[1;33m=\u001b[0m\u001b[1;34m's'\u001b[0m\u001b[1;33m\u001b[0m\u001b[1;33m\u001b[0m\u001b[0m\n\u001b[0m",
      "\u001b[1;31mTypeError\u001b[0m: 'str' object does not support item assignment"
     ]
    }
   ],
   "source": [
    "str1[0]='s'"
   ]
  },
  {
   "cell_type": "code",
   "execution_count": 70,
   "id": "baf79846",
   "metadata": {},
   "outputs": [
    {
     "data": {
      "text/plain": [
       "'k'"
      ]
     },
     "execution_count": 70,
     "metadata": {},
     "output_type": "execute_result"
    }
   ],
   "source": [
    "str1[0].replace('s','k')"
   ]
  },
  {
   "cell_type": "code",
   "execution_count": 71,
   "id": "1977c7b9",
   "metadata": {},
   "outputs": [
    {
     "data": {
      "text/plain": [
       "'sudh'"
      ]
     },
     "execution_count": 71,
     "metadata": {},
     "output_type": "execute_result"
    }
   ],
   "source": [
    "str1"
   ]
  },
  {
   "cell_type": "code",
   "execution_count": 73,
   "id": "83c05ea3",
   "metadata": {},
   "outputs": [
    {
     "data": {
      "text/plain": [
       "'kudh'"
      ]
     },
     "execution_count": 73,
     "metadata": {},
     "output_type": "execute_result"
    }
   ],
   "source": [
    "str1.replace('s','k')  ## here it has replaced the s with k but it is not like this internally it has created new string object and assigned str1 reference to that replaced item"
   ]
  },
  {
   "cell_type": "code",
   "execution_count": 74,
   "id": "6c978d8e",
   "metadata": {},
   "outputs": [
    {
     "data": {
      "text/plain": [
       "['ankit', 'kumar', 121, ['ankit', 'sjhivane', 2121.1]]"
      ]
     },
     "execution_count": 74,
     "metadata": {},
     "output_type": "execute_result"
    }
   ],
   "source": [
    "l1"
   ]
  },
  {
   "cell_type": "code",
   "execution_count": 76,
   "id": "3e680268",
   "metadata": {},
   "outputs": [
    {
     "data": {
      "text/plain": [
       "True"
      ]
     },
     "execution_count": 76,
     "metadata": {},
     "output_type": "execute_result"
    }
   ],
   "source": [
    "'kumar' in l1  ## here in clause check that whther given value contains in a list or not"
   ]
  },
  {
   "cell_type": "code",
   "execution_count": 77,
   "id": "ce80bbdc",
   "metadata": {},
   "outputs": [
    {
     "data": {
      "text/plain": [
       "False"
      ]
     },
     "execution_count": 77,
     "metadata": {},
     "output_type": "execute_result"
    }
   ],
   "source": [
    "12211 in l1"
   ]
  },
  {
   "cell_type": "code",
   "execution_count": 78,
   "id": "eb02be05",
   "metadata": {},
   "outputs": [
    {
     "data": {
      "text/plain": [
       "['ankit', 'sjhivane', 2121.1]"
      ]
     },
     "execution_count": 78,
     "metadata": {},
     "output_type": "execute_result"
    }
   ],
   "source": [
    "l2"
   ]
  },
  {
   "cell_type": "code",
   "execution_count": 79,
   "id": "8432144c",
   "metadata": {},
   "outputs": [],
   "source": [
    "l2.append('21')"
   ]
  },
  {
   "cell_type": "code",
   "execution_count": 80,
   "id": "c5aa0a1d",
   "metadata": {},
   "outputs": [
    {
     "data": {
      "text/plain": [
       "['ankit', 'sjhivane', 2121.1, '21']"
      ]
     },
     "execution_count": 80,
     "metadata": {},
     "output_type": "execute_result"
    }
   ],
   "source": [
    "l2"
   ]
  },
  {
   "cell_type": "code",
   "execution_count": 88,
   "id": "0b5b5930",
   "metadata": {},
   "outputs": [
    {
     "data": {
      "text/plain": [
       "'sjhivane'"
      ]
     },
     "execution_count": 88,
     "metadata": {},
     "output_type": "execute_result"
    }
   ],
   "source": [
    "l2.pop()  # the pop function will remove the last element from list we can also provide the index to remove the element"
   ]
  },
  {
   "cell_type": "code",
   "execution_count": 89,
   "id": "15cdc020",
   "metadata": {},
   "outputs": [
    {
     "data": {
      "text/plain": [
       "['ankit']"
      ]
     },
     "execution_count": 89,
     "metadata": {},
     "output_type": "execute_result"
    }
   ],
   "source": [
    "l2"
   ]
  },
  {
   "cell_type": "code",
   "execution_count": 90,
   "id": "a9a774de",
   "metadata": {},
   "outputs": [
    {
     "data": {
      "text/plain": [
       "['ankit', 'kumar', 121]"
      ]
     },
     "execution_count": 90,
     "metadata": {},
     "output_type": "execute_result"
    }
   ],
   "source": [
    "l1"
   ]
  },
  {
   "cell_type": "code",
   "execution_count": 91,
   "id": "0394c7a9",
   "metadata": {},
   "outputs": [
    {
     "ename": "IndexError",
     "evalue": "pop index out of range",
     "output_type": "error",
     "traceback": [
      "\u001b[1;31m---------------------------------------------------------------------------\u001b[0m",
      "\u001b[1;31mIndexError\u001b[0m                                Traceback (most recent call last)",
      "\u001b[1;32m~\\AppData\\Local\\Temp/ipykernel_10492/619608321.py\u001b[0m in \u001b[0;36m<module>\u001b[1;34m\u001b[0m\n\u001b[1;32m----> 1\u001b[1;33m \u001b[0ml1\u001b[0m\u001b[1;33m.\u001b[0m\u001b[0mpop\u001b[0m\u001b[1;33m(\u001b[0m\u001b[1;36m3\u001b[0m\u001b[1;33m)\u001b[0m\u001b[1;33m\u001b[0m\u001b[1;33m\u001b[0m\u001b[0m\n\u001b[0m",
      "\u001b[1;31mIndexError\u001b[0m: pop index out of range"
     ]
    }
   ],
   "source": [
    "l1.pop(3)"
   ]
  },
  {
   "cell_type": "code",
   "execution_count": 92,
   "id": "65e2a707",
   "metadata": {},
   "outputs": [
    {
     "data": {
      "text/plain": [
       "['ankit', 'kumar', 121]"
      ]
     },
     "execution_count": 92,
     "metadata": {},
     "output_type": "execute_result"
    }
   ],
   "source": [
    "l1"
   ]
  },
  {
   "cell_type": "code",
   "execution_count": 95,
   "id": "efc61ca6",
   "metadata": {},
   "outputs": [
    {
     "data": {
      "text/plain": [
       "1"
      ]
     },
     "execution_count": 95,
     "metadata": {},
     "output_type": "execute_result"
    }
   ],
   "source": [
    "l1.count(121)"
   ]
  },
  {
   "cell_type": "code",
   "execution_count": 96,
   "id": "fcb6e4bf",
   "metadata": {},
   "outputs": [
    {
     "data": {
      "text/plain": [
       "['ankit', 'kumar', 121]"
      ]
     },
     "execution_count": 96,
     "metadata": {},
     "output_type": "execute_result"
    }
   ],
   "source": [
    "l1"
   ]
  },
  {
   "cell_type": "code",
   "execution_count": 99,
   "id": "d7067298",
   "metadata": {},
   "outputs": [],
   "source": [
    "l1.insert(1,'shivane') ## insert the element at the given index location in between and the number of time you will execute the statement it will insert the element in the list"
   ]
  },
  {
   "cell_type": "code",
   "execution_count": 100,
   "id": "55d27f93",
   "metadata": {},
   "outputs": [
    {
     "data": {
      "text/plain": [
       "['ankit', 'shivane', 'shivane', 'kumar', 121]"
      ]
     },
     "execution_count": 100,
     "metadata": {},
     "output_type": "execute_result"
    }
   ],
   "source": [
    "l1"
   ]
  },
  {
   "cell_type": "code",
   "execution_count": 102,
   "id": "ec47b456",
   "metadata": {},
   "outputs": [
    {
     "data": {
      "text/plain": [
       "['ankit', 'shivane', 'kumar', 121]"
      ]
     },
     "execution_count": 102,
     "metadata": {},
     "output_type": "execute_result"
    }
   ],
   "source": [
    "l1"
   ]
  },
  {
   "cell_type": "code",
   "execution_count": 103,
   "id": "869e92a6",
   "metadata": {},
   "outputs": [
    {
     "data": {
      "text/plain": [
       "[121, 'kumar', 'shivane', 'ankit']"
      ]
     },
     "execution_count": 103,
     "metadata": {},
     "output_type": "execute_result"
    }
   ],
   "source": [
    "l1[::-1]"
   ]
  },
  {
   "cell_type": "code",
   "execution_count": 104,
   "id": "5f29fd71",
   "metadata": {},
   "outputs": [
    {
     "data": {
      "text/plain": [
       "['ankit', 'shivane', 'kumar', 121]"
      ]
     },
     "execution_count": 104,
     "metadata": {},
     "output_type": "execute_result"
    }
   ],
   "source": [
    "l1"
   ]
  },
  {
   "cell_type": "code",
   "execution_count": 107,
   "id": "633a7d39",
   "metadata": {},
   "outputs": [],
   "source": [
    "l1.reverse() ## here reversed func will reverse string and apply the reverse result to the same list"
   ]
  },
  {
   "cell_type": "code",
   "execution_count": 108,
   "id": "600922f9",
   "metadata": {},
   "outputs": [
    {
     "data": {
      "text/plain": [
       "['ankit', 'shivane', 'kumar', 121]"
      ]
     },
     "execution_count": 108,
     "metadata": {},
     "output_type": "execute_result"
    }
   ],
   "source": [
    "l1"
   ]
  },
  {
   "cell_type": "code",
   "execution_count": 109,
   "id": "ba9f51b8",
   "metadata": {},
   "outputs": [],
   "source": [
    "l1.insert(2,[212,12,12,31,13,44])"
   ]
  },
  {
   "cell_type": "code",
   "execution_count": null,
   "id": "44a5dae1",
   "metadata": {},
   "outputs": [],
   "source": []
  },
  {
   "cell_type": "code",
   "execution_count": 110,
   "id": "7e6c1fc9",
   "metadata": {},
   "outputs": [
    {
     "data": {
      "text/plain": [
       "['ankit', 'shivane', [212, 12, 12, 31, 13, 44], 'kumar', 121]"
      ]
     },
     "execution_count": 110,
     "metadata": {},
     "output_type": "execute_result"
    }
   ],
   "source": [
    "l1"
   ]
  },
  {
   "cell_type": "code",
   "execution_count": 111,
   "id": "77a9915c",
   "metadata": {},
   "outputs": [],
   "source": [
    "l1[2].append(121)"
   ]
  },
  {
   "cell_type": "code",
   "execution_count": 112,
   "id": "15fce803",
   "metadata": {},
   "outputs": [
    {
     "data": {
      "text/plain": [
       "['ankit', 'shivane', [212, 12, 12, 31, 13, 44, 121], 'kumar', 121]"
      ]
     },
     "execution_count": 112,
     "metadata": {},
     "output_type": "execute_result"
    }
   ],
   "source": [
    "l1"
   ]
  },
  {
   "cell_type": "code",
   "execution_count": 114,
   "id": "c604ff39",
   "metadata": {},
   "outputs": [
    {
     "data": {
      "text/plain": [
       "1"
      ]
     },
     "execution_count": 114,
     "metadata": {},
     "output_type": "execute_result"
    }
   ],
   "source": [
    "l1.count(121)  ## count will not search for the occurenece of element list inside list"
   ]
  },
  {
   "cell_type": "code",
   "execution_count": 115,
   "id": "38c9f66c",
   "metadata": {},
   "outputs": [
    {
     "data": {
      "text/plain": [
       "['ankit', 'shivane', [212, 12, 12, 31, 13, 44, 121], 'kumar', 121]"
      ]
     },
     "execution_count": 115,
     "metadata": {},
     "output_type": "execute_result"
    }
   ],
   "source": [
    "l1"
   ]
  },
  {
   "cell_type": "code",
   "execution_count": 116,
   "id": "33043589",
   "metadata": {},
   "outputs": [],
   "source": [
    "l1.append([1,2,4])"
   ]
  },
  {
   "cell_type": "code",
   "execution_count": 117,
   "id": "6b6b49f8",
   "metadata": {},
   "outputs": [
    {
     "data": {
      "text/plain": [
       "['ankit', 'shivane', [212, 12, 12, 31, 13, 44, 121], 'kumar', 121, [1, 2, 4]]"
      ]
     },
     "execution_count": 117,
     "metadata": {},
     "output_type": "execute_result"
    }
   ],
   "source": [
    "l1"
   ]
  },
  {
   "cell_type": "code",
   "execution_count": 120,
   "id": "f5eeab74",
   "metadata": {},
   "outputs": [],
   "source": [
    "l1.extend([1,2,4]) # extend operation will open up the list and then try to append the obj to the list"
   ]
  },
  {
   "cell_type": "code",
   "execution_count": 121,
   "id": "22107d6c",
   "metadata": {},
   "outputs": [
    {
     "data": {
      "text/plain": [
       "['ankit',\n",
       " 'shivane',\n",
       " [212, 12, 12, 31, 13, 44, 121],\n",
       " 'kumar',\n",
       " 121,\n",
       " [1, 2, 4],\n",
       " 1,\n",
       " 2,\n",
       " 4,\n",
       " 1,\n",
       " 2,\n",
       " 4]"
      ]
     },
     "execution_count": 121,
     "metadata": {},
     "output_type": "execute_result"
    }
   ],
   "source": [
    "l1"
   ]
  },
  {
   "cell_type": "code",
   "execution_count": 122,
   "id": "4c722215",
   "metadata": {},
   "outputs": [
    {
     "data": {
      "text/plain": [
       "['s', 'u', 'd', 'h']"
      ]
     },
     "execution_count": 122,
     "metadata": {},
     "output_type": "execute_result"
    }
   ],
   "source": [
    "list('sudh')"
   ]
  },
  {
   "cell_type": "code",
   "execution_count": 123,
   "id": "fea6379f",
   "metadata": {},
   "outputs": [
    {
     "data": {
      "text/plain": [
       "['ankit',\n",
       " 'shivane',\n",
       " [212, 12, 12, 31, 13, 44, 121],\n",
       " 'kumar',\n",
       " 121,\n",
       " [1, 2, 4],\n",
       " 1,\n",
       " 2,\n",
       " 4,\n",
       " 1,\n",
       " 2,\n",
       " 4]"
      ]
     },
     "execution_count": 123,
     "metadata": {},
     "output_type": "execute_result"
    }
   ],
   "source": [
    "l1"
   ]
  },
  {
   "cell_type": "code",
   "execution_count": 124,
   "id": "263996af",
   "metadata": {},
   "outputs": [],
   "source": [
    "l1.extend('sudh')"
   ]
  },
  {
   "cell_type": "code",
   "execution_count": 125,
   "id": "8e495264",
   "metadata": {},
   "outputs": [
    {
     "data": {
      "text/plain": [
       "['ankit',\n",
       " 'shivane',\n",
       " [212, 12, 12, 31, 13, 44, 121],\n",
       " 'kumar',\n",
       " 121,\n",
       " [1, 2, 4],\n",
       " 1,\n",
       " 2,\n",
       " 4,\n",
       " 1,\n",
       " 2,\n",
       " 4,\n",
       " 's',\n",
       " 'u',\n",
       " 'd',\n",
       " 'h']"
      ]
     },
     "execution_count": 125,
     "metadata": {},
     "output_type": "execute_result"
    }
   ],
   "source": [
    "l1"
   ]
  },
  {
   "cell_type": "code",
   "execution_count": null,
   "id": "2c0392e6",
   "metadata": {},
   "outputs": [],
   "source": []
  }
 ],
 "metadata": {
  "kernelspec": {
   "display_name": "Python 3 (ipykernel)",
   "language": "python",
   "name": "python3"
  },
  "language_info": {
   "codemirror_mode": {
    "name": "ipython",
    "version": 3
   },
   "file_extension": ".py",
   "mimetype": "text/x-python",
   "name": "python",
   "nbconvert_exporter": "python",
   "pygments_lexer": "ipython3",
   "version": "3.9.7"
  }
 },
 "nbformat": 4,
 "nbformat_minor": 5
}
